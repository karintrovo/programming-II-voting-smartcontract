{
 "cells": [
  {
   "cell_type": "markdown",
   "metadata": {},
   "source": [
    "# 01 - Set up the club"
   ]
  },
  {
   "cell_type": "markdown",
   "metadata": {},
   "source": [
    "**Description**: this notebook will serve as the baseline to set up (simulate) the club members and assign to each of them a public key address to be able to partecipate in the voting procedure"
   ]
  },
  {
   "cell_type": "markdown",
   "metadata": {},
   "source": [
    "### 01 - Libraries\n",
    "Let's make sure that the SDK is installed on the client machine. "
   ]
  },
  {
   "cell_type": "code",
   "execution_count": 3,
   "metadata": {},
   "outputs": [
    {
     "name": "stdout",
     "output_type": "stream",
     "text": [
      "Requirement already satisfied: py-algorand-sdk in c:\\users\\trava\\miniconda3\\envs\\python310\\lib\\site-packages (1.10.0)\n",
      "Requirement already satisfied: msgpack in c:\\users\\trava\\miniconda3\\envs\\python310\\lib\\site-packages (from py-algorand-sdk) (1.0.3)\n",
      "Requirement already satisfied: pynacl in c:\\users\\trava\\miniconda3\\envs\\python310\\lib\\site-packages (from py-algorand-sdk) (1.5.0)\n",
      "Requirement already satisfied: pycryptodomex>=3.6.0 in c:\\users\\trava\\miniconda3\\envs\\python310\\lib\\site-packages (from py-algorand-sdk) (3.14.1)\n",
      "Requirement already satisfied: cffi>=1.4.1 in c:\\users\\trava\\miniconda3\\envs\\python310\\lib\\site-packages (from pynacl->py-algorand-sdk) (1.15.0)\n",
      "Requirement already satisfied: pycparser in c:\\users\\trava\\miniconda3\\envs\\python310\\lib\\site-packages (from cffi>=1.4.1->pynacl->py-algorand-sdk) (2.21)\n"
     ]
    }
   ],
   "source": [
    "# Run this only once, then comment out\n",
    "!pip install py-algorand-sdk"
   ]
  },
  {
   "cell_type": "markdown",
   "metadata": {},
   "source": [
    "### 02 - Imports\n",
    "Import the all the required methods and libraries to properly run this notebook "
   ]
  },
  {
   "cell_type": "code",
   "execution_count": 4,
   "metadata": {},
   "outputs": [],
   "source": [
    "# Add \"algo_util.py\" to the list of available dependencies of the project\n",
    "import sys, os, json\n",
    "from pathlib import Path\n",
    "\n",
    "codepath = (Path( os.curdir ) / \"shared\").resolve()\n",
    "sys.path.append(str(codepath))"
   ]
  },
  {
   "cell_type": "code",
   "execution_count": 5,
   "metadata": {},
   "outputs": [],
   "source": [
    "from algo_util import generate_account_dict"
   ]
  },
  {
   "cell_type": "markdown",
   "metadata": {},
   "source": [
    "### 03 - Initialize the members of the club"
   ]
  },
  {
   "cell_type": "code",
   "execution_count": 1,
   "metadata": {},
   "outputs": [
    {
     "name": "stdout",
     "output_type": "stream",
     "text": [
      "Welcome to all the 33 members of the BUYC!\n"
     ]
    }
   ],
   "source": [
    "# This is the list of member of our BYUC\n",
    "members = [\n",
    "    \"Parisi\", \"Villa\", \"Conte\", \"Ferraro\",\n",
    "    \"Ferri\", \"Russo\", \"Ferrari\", \"Esposito\",\n",
    "    \"Bianchi\", \"Romano\", \"Colombo\", \"Ricci\",\n",
    "    \"Marino\", \"Greco\", \"Bruno\", \"Gallo\", \"Conti\",\n",
    "    \"De Luca\", \"Mancini\", \"Costa\", \"Giordano\",\n",
    "    \"Rizzo\", \"Lombardi\", \"Moretti\", \"Müller\",\n",
    "    \"Schmidt\", \"Schneider\", \"Fischer\", \"Weber\",\n",
    "    \"Meyer\", \"Martin\", \"Bernard\", \"Dubois\"\n",
    "]\n",
    "\n",
    "print(f\"Welcome to all the {len(members)} members of the BUYC!\")"
   ]
  },
  {
   "cell_type": "markdown",
   "metadata": {},
   "source": [
    "### 04 - Generate the members's credentials"
   ]
  },
  {
   "cell_type": "code",
   "execution_count": 13,
   "metadata": {
    "collapsed": true,
    "jupyter": {
     "outputs_hidden": true
    },
    "tags": []
   },
   "outputs": [
    {
     "name": "stdout",
     "output_type": "stream",
     "text": [
      "Here the list of credentials:\n",
      " {\n",
      "    \"Parisi\": {\n",
      "        \"public\": \"SKGZ6LZ46VTPPWJ3XCCZIS6E4UVQDTYNPLBJXKXWTF6Z7YGMXOQN4O3OIE\",\n",
      "        \"private\": \"sBKwyU5PN0eRNKthRsBnDppNvw88vgC2Hg1CXsu2i42SjZ8vPPVm99k7uIWUS8TlKwHPDXrCm6r2mX2f4My7oA==\",\n",
      "        \"mnemonic\": \"figure scare gospel visual hub fade pig private slow absurd crop path open used there sail scale kiss alley tomorrow note unit hobby above finish\"\n",
      "    },\n",
      "    \"Villa\": {\n",
      "        \"public\": \"AQJZHODD7O5EY6ZTCKV36PZMJQSQS4JGKBBGS2NCYZ2H2QZAAX7BN2ZZNA\",\n",
      "        \"private\": \"Vx/nxAFaWp/0BEfWsOgVlME0V1pMAkm9ODetd8AXlGAEE5O4Y/u6THszEqu/PyxMJQlxJlBCaWmixnR9QyAF/g==\",\n",
      "        \"mnemonic\": \"turtle organ tiny parade regret chief chicken either bracket people april bone hat noise glare across powder title oppose kiss liberty album again about alpha\"\n",
      "    },\n",
      "    \"Conte\": {\n",
      "        \"public\": \"E4CGOLXZSB4CPKNUR4PWUOPNQPFZHHO7WHR6STZHDLNY7B3SRNPRO4VEVA\",\n",
      "        \"private\": \"abSZDfDN8siNiptC78832aU2EXZLng7gAW47v81eIZQnBGcu+ZB4J6m0jx9qOe2Dy5Od37Hj6U8nGtuPh3KLXw==\",\n",
      "        \"mnemonic\": \"minor grocery almost tenant tortoise impulse federal oppose tribe distance orbit frown hood lounge forum oxygen achieve always require victory opinion fish patient above unaware\"\n",
      "    },\n",
      "    \"Ferraro\": {\n",
      "        \"public\": \"AZNY6WSYGLWHX5YVVKYKGDP2KPWPUE4OHQDTXEYFC765EFQ4EBPJHFKZAU\",\n",
      "        \"private\": \"CNGnT/pfBCJLSh1+gGulFv2iPGVHRC4zz57b416qoRAGW49aWDLse/cVqrCjDfpT7PoTjjwHO5MFF/3SFhwgXg==\",\n",
      "        \"mnemonic\": \"canal palm chief zero anger silk false bubble average puppy famous sphere echo execute depth dust grape devote sorry diet saddle hedgehog lunar abandon isolate\"\n",
      "    },\n",
      "    \"Ferri\": {\n",
      "        \"public\": \"7T4MXO4RQDKQILD4V5UCXEBZDWQNWF7FB6ZH4BGILFUJXDHQGP2R444PEM\",\n",
      "        \"private\": \"LOtXkZLLMySL1yMcVjFuO6g4JI5kXP8i/CfYCBSA5Dr8+Mu7kYDVBCx8r2grkDkdoNsX5Q+yfgTIWWibjPAz9Q==\",\n",
      "        \"mnemonic\": \"grain garden emerge rice guide simple rough cat seminar shed require lonely image math caught fragile garment vacuum become mirror chimney cactus strong ability pink\"\n",
      "    },\n",
      "    \"Russo\": {\n",
      "        \"public\": \"KM733AWLVNBQNITQ7PQHFWENZFOZYQ3YYJMLFKCMCFFKZ2CMH3XDL6PPLA\",\n",
      "        \"private\": \"CkOPxCI5/pUXz51bbpaD7PxDZH2FWpJgwLM50CFpd8FTP72Cy6tDBqJw++By2I3JXZxDeMJYsqhMEUqs6Ew+7g==\",\n",
      "        \"mnemonic\": \"genuine dial girl mutual wise tornado judge oven slice fluid dove solution margin flip cloud fold banner account supreme adjust dry surge arm absorb decline\"\n",
      "    },\n",
      "    \"Ferrari\": {\n",
      "        \"public\": \"IACQFQE6URP5LUV72NDPDYOADQM25DKNPOMSOFBIEJ5POKRUVPEBGOKBM4\",\n",
      "        \"private\": \"6SZ0DfYg2J/x9PVMtIxzLA5bIkqVHa7Uuuld7avvOXpABQLAnqRf1dK/00bx4cAcGa6NTXuZJxQoInr3KjSryA==\",\n",
      "        \"mnemonic\": \"tag spatial allow author raccoon gun pole vote maze crazy degree tissue render mass prevent budget noise twice visit still fit know spike about define\"\n",
      "    },\n",
      "    \"Esposito\": {\n",
      "        \"public\": \"HR6FWWPKFOI24DVHTLF7MO7ILNBLI43DXIJNS4Q3VGKIMJVWOCCXSZ4SMI\",\n",
      "        \"private\": \"yAIItXBPlc+1BRoxjG8lXPgYvbMnp1aJQJbABUiQNkA8fFtZ6iuRrg6nmsv2O+hbQrRzY7oS2XIbqZSGJrZwhQ==\",\n",
      "        \"mnemonic\": \"flip cactus fold warfare clever initial color borrow mail sail bargain magic cradle urban diesel poet client acquire enroll foster mosquito piano accuse able monster\"\n",
      "    },\n",
      "    \"Bianchi\": {\n",
      "        \"public\": \"3CFQERRZ4RA5IRLYHY43SRSXJA66OHRHBUDDMQ3ZWWLJRWPTA2YONEFH6Y\",\n",
      "        \"private\": \"ld9ZPVha2MSxk0OL/1QSEVi4ditwkvmYdHMjgUcl7FPYiwJGOeRB1EV4Pjm5RldIPeceJw0GNkN5tZaY2fMGsA==\",\n",
      "        \"mnemonic\": \"verify guess burger pitch radar illness outside drum vapor fault matrix library idle tank life mystery busy sponsor rifle banana monitor announce panda able sugar\"\n",
      "    },\n",
      "    \"Romano\": {\n",
      "        \"public\": \"AWKFTUQUITNMY2XQ5GQL4TJDLS3RIJAL2L6NZN2MWSLXLYG7NLOXCU2CJM\",\n",
      "        \"private\": \"N7KgusHjYjcdzO9aekdk32dO/6eFHfnKf8TnuPGqS/kFlFnSFETazGrw6aC+TSNctxQkC9L83LdMtJd14N9q3Q==\",\n",
      "        \"mnemonic\": \"eight lizard tail despair shift evidence genius used ensure bulb rate law orphan zone coffee budget game you timber mobile toddler turkey ski abstract devote\"\n",
      "    },\n",
      "    \"Colombo\": {\n",
      "        \"public\": \"QK54DQVFUQ7F4HUXTRVELSFF3H355XMDPZ26AGUSIT5CQ7AACL2WBZ2ZOQ\",\n",
      "        \"private\": \"yoqrizBKu3R/S/WANZcw4TzyJDa1kubMVSmgeie8zOSCu8HCpaQ+Xh6XnGpFyKXZ997dg3514BqSRPoofAAS9Q==\",\n",
      "        \"mnemonic\": \"flock purchase easy perfect isolate tag fossil vocal quote fresh obscure sock tongue matrix predict naive orphan fire believe present exclude congress chapter abstract banana\"\n",
      "    },\n",
      "    \"Ricci\": {\n",
      "        \"public\": \"TSLXPWLCO3SQ77KTCF3OD2BFBE6L2NGWHOUXC33HIAYYZR6RWF6PXV6STA\",\n",
      "        \"private\": \"0WDYapOQgwih26ktMQ8uyBZ7/jOaq4FzwplrSCjE4Tycl3fZYnblD/1TEXbh6CUJPL001jupcW9nQDGMx9GxfA==\",\n",
      "        \"mnemonic\": \"boss ghost rely ankle already drama tackle prefer certain devote blade hold wage zebra spice process ice antenna smooth mammal explain illegal train ability common\"\n",
      "    },\n",
      "    \"Marino\": {\n",
      "        \"public\": \"44LRDIZMDQUTBJQEQZGE32XO67KBU5PSDOFV2V322KQUTBSD4UQATHNRUQ\",\n",
      "        \"private\": \"lIHS/7xYIHE3G5kabOEbAHZYPop6SHdT8Qk1wusYSxLnFxGjLBwpMKYEhkxN6u731Bp18huLXVd60qFJhkPlIA==\",\n",
      "        \"mnemonic\": \"crater energy lend mesh doll sword super october local mad assume gas rail moon stairs embody humble shed lumber cash stuff shiver myself abandon demand\"\n",
      "    },\n",
      "    \"Greco\": {\n",
      "        \"public\": \"5OFX6ZKEWDAIP4QF74DLOTFQ4H6FW3PQ4Y6B2F4RZOYKOTMGJBAJQDOGCU\",\n",
      "        \"private\": \"K2fP/K1gGHxWitXN5HtAzDaU8pKkcNEnDBdEPGxkWxvri39lRLDAh/IF/wa3TLDh/Ftt8OY8HReRy7CnTYZIQA==\",\n",
      "        \"mnemonic\": \"tornado diesel wrist approve cotton pair famous stereo often usage cage holiday chronic royal cause idle when correct argue session such suit suspect abandon slight\"\n",
      "    },\n",
      "    \"Bruno\": {\n",
      "        \"public\": \"6L3GPPTKSWEHSVCIENXJWYWIKVAUFSYEKBGHDNNTYMRBQ5JT7UAZFC4QJA\",\n",
      "        \"private\": \"N+ZixGRWe2DyyJYxl5GcG+nJ+wZixh6n5MhRxWWJjkfy9me+apWIeVRII26bYshVQULLBFBMcbWzwyIYdTP9AQ==\",\n",
      "        \"mnemonic\": \"shoulder merit giraffe green wall object elegant nothing tower edge soft museum need same awake shoe toilet myth tongue fence slide pelican detect able inside\"\n",
      "    },\n",
      "    \"Gallo\": {\n",
      "        \"public\": \"4UECEVLEXZKJRA7A3JBZF75TEYU7W5UNYTDLRU5CJ72SBCFWBK5AKLVHIQ\",\n",
      "        \"private\": \"y64ICUQE2kNJtvmcja3Xgz0Nh0UIkgJEoC5EdsK25pHlCCJVZL5UmIPg2kOS/7MmKft2jcTGuNOiT/UgiLYKug==\",\n",
      "        \"mnemonic\": \"sunny cargo afraid dust reduce extend rather whale receive renew type subway bounce gift drama must leopard library blanket gold lumber pumpkin monkey above busy\"\n",
      "    },\n",
      "    \"Conti\": {\n",
      "        \"public\": \"TBCT4DQU4PK46KO4XB4RFQYBMKB4OWZOAG2MC2CP3CZ6ATA6MUTLGEGXJU\",\n",
      "        \"private\": \"QA5fT7tLt8NwM/vbfjzoUKbjCtQh2IXiYjh6EN4rSzaYRT4OFOPVzyncuHkSwwFig8dbLgG0wWhP2LPgTB5lJg==\",\n",
      "        \"mnemonic\": \"siege label police roof hub couch oppose will swarm vehicle inject govern shrug actor attitude subway expose merit bring amateur rotate slab rather ability surge\"\n",
      "    },\n",
      "    \"De Luca\": {\n",
      "        \"public\": \"NA23TV3SHCEB4INZN4IBGONQ55NDI5COYYTJGWHUM4L4HJYWM6YDJABHPI\",\n",
      "        \"private\": \"p8yjyX75iIij7/94///Sc8hyHqdsLq0349oHNdMVeRBoNbnXcjiIHiG5bxATObDvWjR0TsYmk1j0ZxfDpxZnsA==\",\n",
      "        \"mnemonic\": \"neutral monkey gospel obey ball timber laptop zoo upper zoo truly mango tortoise shy gown common volcano mimic uniform expire please earth long abandon step\"\n",
      "    },\n",
      "    \"Mancini\": {\n",
      "        \"public\": \"L5YM2NTBVU5KBKNXMGTYAI3UPTMC2K2Z7ORUHPBVBVI4SSLIEFLMGU3D2Y\",\n",
      "        \"private\": \"FXWiENuJINWQK3sTnemE91doGUp968M3ht1iAPWffCpfcM02Ya06oKm3YaeAI3R82C0rWfujQ7w1DVHJSWghVg==\",\n",
      "        \"mnemonic\": \"pencil mean marriage oval donate crystal frame kite pen please second legal spawn main tumble twin wear boat human alert tube child fault ability system\"\n",
      "    },\n",
      "    \"Costa\": {\n",
      "        \"public\": \"NHACXTIEDWYTXSVTXAXXWUYDOKO5YDNAUMJRVCDLVG65HLBINWV5HUADSY\",\n",
      "        \"private\": \"UHaw+0+XZo5lzFbJE1r5Cmx79x+OhW7K2b1LD2s8qTRpwCvNBB2xO8qzuC97UwNyndwNoKMTGohrqb3TrChtqw==\",\n",
      "        \"mnemonic\": \"skate scrub worry insane snake glory glimpse fine junior hair lake scheme walnut worry ill machine evidence grunt ten visa stock excuse pipe ability nurse\"\n",
      "    },\n",
      "    \"Giordano\": {\n",
      "        \"public\": \"4VTL46DRGS5OLFFA6ZCF7CTPD24XTUXG2K66IWRBD4AL4ACAB357BU33T4\",\n",
      "        \"private\": \"xNzXk+5SXQKokcJufQgCwq0dDS6wTuxlG1JDauxnboPlZr54cTS65ZSg9kRfim8euXnS5tK95FohHwC+AEAO+w==\",\n",
      "        \"mnemonic\": \"obtain garage enemy confirm rival above minute secret punch capable absurd switch deputy local lift exchange rural horn poverty picnic sugar okay bread above plunge\"\n",
      "    },\n",
      "    \"Rizzo\": {\n",
      "        \"public\": \"QBGICVXRBG5CMHZAGIZM4VAFKDTURWKMRPERKA2HVWAC2MKMD2QUTWQPWI\",\n",
      "        \"private\": \"HNwZkaQ7yXl90LRzlYqVJvs6QAd1bJL2RKkHU5n8q3CATIFW8Qm6Jh8gMjLOVAVQ50jZTIvJFQNHrYAtMUweoQ==\",\n",
      "        \"mnemonic\": \"logic guess embrace ripple mystery fury loop regular purpose clean enlist raven invest source popular hockey spoil because start corn crawl you luxury about lab\"\n",
      "    },\n",
      "    \"Lombardi\": {\n",
      "        \"public\": \"XVN2MDEDKK32EXSFFCQM6LETN3UDZPWDVEY3JK3SVMPWN5OBSKGH5K2SG4\",\n",
      "        \"private\": \"mAMRxI1yMOlGVYszjtK8yu3KHW9d6jM/fFUvukMB7AO9W6YMg1K3ol5FKKDPLJNu6Dy+w6kxtKtyqx9m9cGSjA==\",\n",
      "        \"mnemonic\": \"indoor dune tilt churn genius ripple pretty mercy shoe enforce fury syrup noise shuffle twin tumble toy valley primary pepper manual able buyer abandon dirt\"\n",
      "    },\n",
      "    \"Moretti\": {\n",
      "        \"public\": \"J4I3DOG75IUKWSHFQ5UC6T6R2ZOEUC6BHG4WIYSPTWK23XIE67RC6CGXHQ\",\n",
      "        \"private\": \"AC9jCGMitUAM9eGFyPB0qopVOenIcBeA0MevcW4X+AJPEbG43+ooq0jlh2gvT9HWXEoLwTm5ZGJPnZWt3QT34g==\",\n",
      "        \"mnemonic\": \"theme million loud change heart awake position tiger awful segment denial primary prison exact elder ignore actual dragon token brain table alarm blind abandon auto\"\n",
      "    },\n",
      "    \"M\\u00fcller\": {\n",
      "        \"public\": \"DMMWRISXCL4X5BVEWDMJPMVETYM6WTGQ33267HV5YUZW5KI3ICAGE7ITUI\",\n",
      "        \"private\": \"EH7n/o1rGPlOq2y/vGOHwD0hh8m/HArC1X5Czj4bdMEbGWiiVxL5foaksNiXsqSeGetM0N717569xTNuqRtAgA==\",\n",
      "        \"mnemonic\": \"search over youth rhythm cotton salad foil hole obey moment dry swing draw gift wrestle bronze donor finish disorder tomorrow laugh almost arm absorb bounce\"\n",
      "    },\n",
      "    \"Schmidt\": {\n",
      "        \"public\": \"GCPTDVCCTUW3SIF6LDESUNFUMIYUJ3HPUKPRZGKRHQGQK62XGGJFINWTLE\",\n",
      "        \"private\": \"Y2nC1C7XLQM98CFVZsDTwVY2z/ISkRCpuFNxjt5BhVYwnzHUQp0tuSC+WMkqNLRiMUTs76KfHJlRPA0Fe1cxkg==\",\n",
      "        \"mnemonic\": \"cluster answer heavy indicate forum dolphin limit capable skirt account try hire hole record nurse much capital tired prefer train rug expire reflect able drip\"\n",
      "    },\n",
      "    \"Schneider\": {\n",
      "        \"public\": \"V5W22BGFA5TQUK2YIP3AAAGS3772L437XCM5JDHDDQRYFRYLB43BWCTWZE\",\n",
      "        \"private\": \"56tkPxB4vEfUk3mrZ2AX55uIIJnXaxtPifncy7BTc5uvba0ExQdnCitYQ/YAANLf/6Xzf7iZ1IzjHCOCxwsPNg==\",\n",
      "        \"mnemonic\": \"language naive cabbage library jump ball pact kangaroo voice light merry salmon bachelor else rubber hint toddler cement lamp saddle ghost stay swear above grow\"\n",
      "    },\n",
      "    \"Fischer\": {\n",
      "        \"public\": \"2OBPHT5U5LFA3IB7N6GHUF2VHAEOYWO7YIYUVULKLOU27RCSWFYFEHCP3Y\",\n",
      "        \"private\": \"3axgfmRSCGwu6me3OmsYpxE5riO2MapPHxxCzba71u3TgvPPtOrKDaA/b4x6F1U4COxZ38IxStFqW6mvxFKxcA==\",\n",
      "        \"mnemonic\": \"option live dish chaos awful only fabric gun finger provide method bounce impulse twist rain coyote vocal large asthma stage horn puzzle huge abstract crystal\"\n",
      "    },\n",
      "    \"Weber\": {\n",
      "        \"public\": \"RCBJXI52TOOGD6L5AVFBD4GV325N45WJG3FZLW4U5Y5L3PI352SJMVFSZ4\",\n",
      "        \"private\": \"bm/WZ8tgU4sJw8y+r6aR/qZ/CuOoJWKUiGiXMUQMvKSIgpujupucYfl9BUoR8NXeut52yTbLlduU7jq9vRvupA==\",\n",
      "        \"mnemonic\": \"universe fluid recycle arrow plug glare blue smoke water one emotion husband young secret either certain middle car reform bonus mask adapt chalk absent remember\"\n",
      "    },\n",
      "    \"Meyer\": {\n",
      "        \"public\": \"MKMW4DF4UYFFZACUMKRCERUIUSWO57F5ILN26OGN3DR4NPQJ7VVHVE4NSE\",\n",
      "        \"private\": \"FBHwRw0AQJryb2Lrq96WQGVMfJN8GpDEu0VSqtZf9TJimW4MvKYKXIBUYqIiRoikrO78vULbrzjN2OPGvgn9ag==\",\n",
      "        \"mnemonic\": \"card scare physical absorb length pledge legend give latin kingdom enter favorite occur tenant tonight bounce must upper carpet pioneer pull fitness nut ability disorder\"\n",
      "    },\n",
      "    \"Martin\": {\n",
      "        \"public\": \"YEDILLTYZLKIZ7TQJC3XGYOOSEPGNRUNBEQJPUSASICTT3CLR5N7Z3CIMA\",\n",
      "        \"private\": \"BxNYEMXM1tcpHeR2Ju6nKXOjEGxAl1xjbFG+si8C2D/BBoWueMrUjP5wSLdzYc6RHmbGjQkgl9JAkgU57EuPWw==\",\n",
      "        \"mnemonic\": \"genius gate market slush pulse invest true tomato solution review stadium crater eight aerobic address nuclear high ranch chunk cloud garage above yard ability upset\"\n",
      "    },\n",
      "    \"Bernard\": {\n",
      "        \"public\": \"YYFA4R7NZPIIZ52GHWLKQGM44BV6AKHQBIPIHKLOPDMZSHBGYWGJY3YJAI\",\n",
      "        \"private\": \"HrYTyJgBWc7LqVkNFLLfKXMEyajIwzJkvEVePzOWNZrGCg5H7cvQjPdGPZaoGZzga+Ao8Aoeg6lueNmZHCbFjA==\",\n",
      "        \"mnemonic\": \"sense excite goat book rare vicious exact fluid like sign used crater angry crane earn sense main various carpet vote grid grain spider above sister\"\n",
      "    },\n",
      "    \"Dubois\": {\n",
      "        \"public\": \"NMA6RINN55TLZQMKS63S2OLFSW3QPADM7OWLLNDK6KG4VKX65EOJ45CXF4\",\n",
      "        \"private\": \"QHDJg4iq3qJPukRMcheeFdRDKCRIUFknde0ksvNQEwRrAeihre9mvMGKl7ctOWWVtweAbPustbRq8o3Kqv7pHA==\",\n",
      "        \"mnemonic\": \"amount chair draft possible run trim sponsor dwarf end fruit someone donor marble anxiety donkey expect twenty stand issue car trash stage calm abandon phrase\"\n",
      "    }\n",
      "}\n"
     ]
    }
   ],
   "source": [
    "# Generate credential for each member and store it in a key-value pair data structure (dictionary)\n",
    "credentials = { f\"{member}\": generate_account_dict() for member in members }\n",
    "print(f\"Here the list of credentials:\\n {json.dumps(credentials, indent=4)}\")"
   ]
  },
  {
   "cell_type": "code",
   "execution_count": 19,
   "metadata": {},
   "outputs": [],
   "source": [
    "# TODO: Would be better to export this to an external JSON file (like credentials) and read it in the app so that the API key is not exposed to the user\n",
    "# Add fundamental information to connect to the Algorand Blockchain\n",
    "dict_credentials = {\n",
    "        'algod_test': 'https://testnet-algorand.api.purestake.io/ps2',\n",
    "        'algod_main': 'https://mainnet-algorand.api.purestake.io/ps2',\n",
    "        'index_test': 'https://testnet-algorand.api.purestake.io/idx2',\n",
    "        'index_main': 'https://mainnet-algorand.api.purestake.io/idx2',\n",
    "        'purestake_token': {\n",
    "                'X-Api-key': 'wcYeYvFgROaM3lDrbfGDx7yWWWr8GLCe8KDk5c2o'\n",
    "        }\n",
    "}\n",
    "\n",
    "# Add information from the generated list\n",
    "dict_credentials[\"members_credentials\"] = credentials # here it would be better to load a JSON file from an external source"
   ]
  },
  {
   "cell_type": "markdown",
   "metadata": {},
   "source": [
    "### 05 - Export member's credentials"
   ]
  },
  {
   "cell_type": "code",
   "execution_count": 27,
   "metadata": {},
   "outputs": [],
   "source": [
    "# Path to the newly generate credential (temporary file)\n",
    "credential_path = (Path( os.curdir ) / \"..\" / \"assets\" / \"credentials\" / \"credentials_temp\" ).resolve()\n",
    "with open(credential_path, 'w') as outfile:\n",
    "    outfile.write(json.dumps(dict_credentials))"
   ]
  },
  {
   "cell_type": "markdown",
   "metadata": {},
   "source": [
    "### 06 - Attempts to connect to the Algorand Blockchain"
   ]
  },
  {
   "cell_type": "code",
   "execution_count": 40,
   "metadata": {},
   "outputs": [],
   "source": [
    "# Load all the needed libraries\n",
    "from algosdk import account, mnemonic\n",
    "from algosdk.v2client import algod\n",
    "from algosdk.future.transaction import PaymentTxn, MultisigTransaction\n",
    "from algosdk.future.transaction import AssetConfigTxn, AssetTransferTxn, AssetFreezeTxn\n",
    "import algosdk.error"
   ]
  },
  {
   "cell_type": "code",
   "execution_count": 2,
   "metadata": {},
   "outputs": [
    {
     "name": "stdout",
     "output_type": "stream",
     "text": [
      "Loading credentials for BUYC member: 'Weber'\n"
     ]
    }
   ],
   "source": [
    "# Load one's credentials\n",
    "from random import randrange\n",
    "member_i = members[randrange(0, len(members))]\n",
    "print(f\"Loading credentials for BUYC member: '{member_i}'\")"
   ]
  },
  {
   "cell_type": "code",
   "execution_count": 50,
   "metadata": {},
   "outputs": [
    {
     "name": "stdout",
     "output_type": "stream",
     "text": [
      "{\n",
      "    \"public\": \"DMMWRISXCL4X5BVEWDMJPMVETYM6WTGQ33267HV5YUZW5KI3ICAGE7ITUI\",\n",
      "    \"private\": \"EH7n/o1rGPlOq2y/vGOHwD0hh8m/HArC1X5Czj4bdMEbGWiiVxL5foaksNiXsqSeGetM0N717569xTNuqRtAgA==\",\n",
      "    \"mnemonic\": \"search over youth rhythm cotton salad foil hole obey moment dry swing draw gift wrestle bronze donor finish disorder tomorrow laugh almost arm absorb bounce\"\n",
      "}\n"
     ]
    }
   ],
   "source": [
    "# Retrieve credentials\n",
    "member_i_algo = dict_credentials[\"members_credentials\"][member_i]\n",
    "print(json.dumps(member_i_algo, indent=4))"
   ]
  },
  {
   "cell_type": "code",
   "execution_count": 51,
   "metadata": {},
   "outputs": [
    {
     "name": "stdout",
     "output_type": "stream",
     "text": [
      "https://algoexplorer.io/address/DMMWRISXCL4X5BVEWDMJPMVETYM6WTGQ33267HV5YUZW5KI3ICAGE7ITUI\n",
      "https://testnet.algoexplorer.io/address/DMMWRISXCL4X5BVEWDMJPMVETYM6WTGQ33267HV5YUZW5KI3ICAGE7ITUI\n"
     ]
    }
   ],
   "source": [
    "# Create a link to directly access your member account (remember to switch to testnet account)\n",
    "print('https://algoexplorer.io/address/'+member_i_algo['public'])\n",
    "print('https://testnet.algoexplorer.io/address/'+member_i_algo['public'])"
   ]
  },
  {
   "cell_type": "markdown",
   "metadata": {},
   "source": [
    "### Fund with testnet Algos\n",
    "- https://bank.testnet.algorand.network/\n",
    "- https://testnet.algoexplorer.io/dispenser"
   ]
  },
  {
   "cell_type": "code",
   "execution_count": 53,
   "metadata": {},
   "outputs": [
    {
     "data": {
      "text/plain": [
       "20201714"
      ]
     },
     "execution_count": 53,
     "metadata": {},
     "output_type": "execute_result"
    }
   ],
   "source": [
    "# Create the Algorand connection\n",
    "algod_token   = ''                                      # Only needed if we have our own server, \n",
    "algod_address = dict_credentials['algod_test']          # Or cred['algod_main'] \n",
    "purestake_token = dict_credentials['purestake_token']   # Authentication token pair {'X-Api-key': '(your token'}\n",
    "\n",
    "# Initialize the algod client\n",
    "algod_client = algod.AlgodClient(algod_token=algod_token, algod_address=algod_address, headers=purestake_token)\n",
    "\n",
    "# Verify connection\n",
    "algod_client.status()[\"last-round\"]"
   ]
  },
  {
   "cell_type": "code",
   "execution_count": 56,
   "metadata": {},
   "outputs": [
    {
     "name": "stdout",
     "output_type": "stream",
     "text": [
      "Address DMMWRISXCL4X5BVEWDMJPMVETYM6WTGQ33267HV5YUZW5KI3ICAGE7ITUI has 10.0 test algos\n"
     ]
    }
   ],
   "source": [
    "# Obtain information on our member Algos\n",
    "address = member_i_algo[\"public\"]\n",
    "\n",
    "algo_precision = 1e6\n",
    "algo_amount    = algod_client.account_info(address)[\"amount\"]/algo_precision # convert from microALGOs to ALGOs\n",
    "print(f\"Address {address} has {algo_amount} test algos\")"
   ]
  }
 ],
 "metadata": {
  "interpreter": {
   "hash": "037def8786ac62b377840b61acd000de27d097b1ef99b404e6d0a8d708a16f75"
  },
  "kernelspec": {
   "display_name": "Python 3 (ipykernel)",
   "language": "python",
   "name": "python3"
  },
  "language_info": {
   "codemirror_mode": {
    "name": "ipython",
    "version": 3
   },
   "file_extension": ".py",
   "mimetype": "text/x-python",
   "name": "python",
   "nbconvert_exporter": "python",
   "pygments_lexer": "ipython3",
   "version": "3.9.7"
  }
 },
 "nbformat": 4,
 "nbformat_minor": 4
}
