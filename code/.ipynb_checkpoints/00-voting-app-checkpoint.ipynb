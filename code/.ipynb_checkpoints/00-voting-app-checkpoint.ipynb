{
 "cells": [
  {
   "cell_type": "markdown",
   "metadata": {},
   "source": [
    "# Project: Voting"
   ]
  },
  {
   "cell_type": "markdown",
   "metadata": {},
   "source": [
    "* name: BUYC\n",
    "* course: WSC - Writing Smart Contracts\n",
    "* authors: Travaglia Daniel, Trovò Karin\n",
    "* date: **TBD**"
   ]
  },
  {
   "cell_type": "markdown",
   "metadata": {},
   "source": [
    "### Commission"
   ]
  },
  {
   "cell_type": "markdown",
   "metadata": {},
   "source": [
    "A club has a membership list with the public keys of all members. Members receive one free vote coin for the elections of the new president. Write a smart contract that allows members to vote for one of three candidates (Rossi, Smith or Meier). Possible extensions are:\n",
    "1. Ensure that voting is only possible in a certain time frame. \n",
    "2. If you have not yet done so, add a counting and a selction of the majority candidate on-chain.\n"
   ]
  },
  {
   "cell_type": "markdown",
   "metadata": {},
   "source": [
    "### Description"
   ]
  },
  {
   "cell_type": "markdown",
   "metadata": {},
   "source": [
    "Università della Svizzera Italiana is a well-known university with countless degree courses and activities. In addition, many of its students are interested in decentralized finance and Web3. One day, a 3-person group made up of students Rossi, Smith, and Meier decided to open an exclusive club to discuss DeFi issues weekly. To create an exclusive club, they decided to impose a maximum number of participants at 33 and, to their great surprise, they reached the total amount in one night. The three students after few weeks started arguing because they would all like to run the club, but their opinions were very different. To stop the conflicts and find a solution they decided to address the 33 members and ask them to vote for the new club president.\n",
    "\n",
    "Since all the participants have a basic knowledge of blockchain technology and smart contracts, the three friends, when funding the club, decided to adopt Algorand blockchain for several uses.  \n",
    "\n",
    "They decide to carry out the voting online and create the BUYC coin: to prevent a member from voting more than once, they distribute only one to each participant. Once they use the token, it is no longer possible to express another preference. To allow the voting mechanism members are invited to: \n",
    "-\tEach participant has to create an Algorand wallet and provide their public key to the club\n",
    "-\tIf voting is necessary to make a decision, only members who provided their public key will be allowed to vote\n",
    "-\t(Before any election) One BUYC coin will be provided for each public key (so one for every member)  \n",
    "-\tMembers have to send their preference by writing the last name of the candidate with capital letter (for example “Rossi”)\n",
    "-\tVoting is allowed only if the BUYC coin is sent with the preference\n",
    "-\tOnce the decision is made, it’s not possible to change preference (coin uniqueness) \n",
    "-\tIf the vote is invalid (blank space or another thing different from the candidate’s last name) members will have other chances to vote until they express the right preference. \n",
    "-\tThe coin won’t be collected unless the criteria explained above are fulfilled \n"
   ]
  },
  {
   "cell_type": "markdown",
   "metadata": {},
   "source": [
    "### Instruction"
   ]
  },
  {
   "cell_type": "markdown",
   "metadata": {},
   "source": [
    "1. Need to update the purestake API in the credentials file "
   ]
  },
  {
   "cell_type": "markdown",
   "metadata": {},
   "source": []
  }
 ],
 "metadata": {
  "kernelspec": {
   "display_name": "Python 3 (ipykernel)",
   "language": "python",
   "name": "python3"
  },
  "language_info": {
   "codemirror_mode": {
    "name": "ipython",
    "version": 3
   },
   "file_extension": ".py",
   "mimetype": "text/x-python",
   "name": "python",
   "nbconvert_exporter": "python",
   "pygments_lexer": "ipython3",
   "version": "3.9.7"
  }
 },
 "nbformat": 4,
 "nbformat_minor": 4
}
