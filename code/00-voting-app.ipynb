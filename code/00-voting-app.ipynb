{
 "cells": [
  {
   "cell_type": "markdown",
   "metadata": {},
   "source": [
    "# Project 1.8: Smart Contract on the Algorand Blockchain"
   ]
  },
  {
   "cell_type": "markdown",
   "metadata": {},
   "source": [
    "* name: USIV\n",
    "* course: programming in Finance and Economics II\n",
    "* authors: Bondio Francesco, Bortoletti Adele, Eitan, Trovò Karin\n",
    "* date: 21.06.2024"
   ]
  },
  {
   "cell_type": "markdown",
   "metadata": {},
   "source": [
    "### Description"
   ]
  },
  {
   "cell_type": "markdown",
   "metadata": {},
   "source": [
    "The idea behind this project is to introduce blockchain technology to enhance the voting process within the academic senate. We developed a smart contract that allows members of the academic senate to vote securely and transparently.\n",
    "\n",
    "The use of blockchain technology offers several advantages:\n",
    "\n",
    "- Transparency: Every vote is publicly recorded on the blockchain, allowing any member to verify the results independently.\n",
    "- Security: The decentralized nature of blockchain ensures that no single entity can alter the votes, providing robust protection against tampering.\n",
    "- Efficiency: Automating the voting process with smart contracts reduces the administrative burden and speeds up the counting process.\n",
    "- Trust: Members can trust that the voting process is fair and free from manipulation, fostering a sense of confidence in the outcomes.\n",
    "\n",
    "The smart contract will work as follows:\n",
    "\n",
    "- Wallet Creation and Public Key Submission: Each senator must create an Algorand wallet and provide their public key to the senate’s administrative office.\n",
    "- Token Distribution: For each voting decision, every senator will receive one USIV coin (University Senate Voting Coin) in their Algorand wallet.\n",
    "- Casting Votes: To vote, senators need to send their USIV coin along with their preference, which can be \"In Favor,\" \"Against,\" or \"Abstain.\"\n",
    "- Finality and Unchangeability: Once a vote is cast by sending the USIV coin, the decision is final and cannot be changed, ensuring the uniqueness and integrity of each vote.\n",
    "\n",
    "This system ensures that the voting process is transparent, secure, efficient, and trustworthy, leveraging the strengths of blockchain technology to improve governance within the academic senate."
   ]
  },
  {
   "cell_type": "markdown",
   "metadata": {},
   "source": []
  }
 ],
 "metadata": {
  "kernelspec": {
   "display_name": "Python 3 (ipykernel)",
   "language": "python",
   "name": "python3"
  },
  "language_info": {
   "codemirror_mode": {
    "name": "ipython",
    "version": 3
   },
   "file_extension": ".py",
   "mimetype": "text/x-python",
   "name": "python",
   "nbconvert_exporter": "python",
   "pygments_lexer": "ipython3",
   "version": "3.9.7"
  }
 },
 "nbformat": 4,
 "nbformat_minor": 4
}
