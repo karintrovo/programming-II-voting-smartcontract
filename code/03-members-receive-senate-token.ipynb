{
 "cells": [
  {
   "cell_type": "markdown",
   "metadata": {},
   "source": [
    "# 03 - Member's opt-in and receive voting tokens"
   ]
  },
  {
   "cell_type": "markdown",
   "metadata": {},
   "source": [
    "In this notebook we need to implement a token-based membership system where each senator with the right to vote opts in to the voting assets to be able to vote. Each member receives 1 USIV token for each voting proposal so that it can express a vote using the ASA token so to make sure that the voting happens only for members that are inside the association (if they are inside the association, then it must be the case that they received the token already)"
   ]
  },
  {
   "cell_type": "markdown",
   "metadata": {},
   "source": [
    "### 0. Load the required assets"
   ]
  },
  {
   "cell_type": "code",
   "execution_count": 20,
   "metadata": {},
   "outputs": [],
   "source": [
    "# Add \"algo_util.py\" to the list of available dependencies of the project\n",
    "import sys, os, json\n",
    "from pyteal import *\n",
    "from pathlib import Path\n",
    "\n",
    "codepath = (Path( os.curdir ) / \"shared\").resolve()\n",
    "sys.path.append(str(codepath))"
   ]
  },
  {
   "cell_type": "code",
   "execution_count": 21,
   "metadata": {},
   "outputs": [],
   "source": [
    "# import some utilities\n",
    "from algo_util import wait_for_confirmation, load_credentials\n",
    "from algo_util import format_state, read_global_state, read_local_state"
   ]
  },
  {
   "cell_type": "code",
   "execution_count": 22,
   "metadata": {},
   "outputs": [],
   "source": [
    "# algo-sdk utilities\n",
    "from algosdk import account, mnemonic\n",
    "from algosdk.v2client import algod\n",
    "from algosdk import transaction\n",
    "from algosdk.transaction import PaymentTxn\n",
    "from algosdk.transaction import AssetConfigTxn, AssetTransferTxn, AssetFreezeTxn, AssetOptInTxn\n",
    "import algosdk.error\n",
    "import json\n",
    "import base64\n",
    "import datetime"
   ]
  },
  {
   "cell_type": "code",
   "execution_count": 23,
   "metadata": {},
   "outputs": [
    {
     "name": "stdout",
     "output_type": "stream",
     "text": [
      "32 members' credentials loaded from storage\n",
      "Loading also USIV account credentials: FQYVLYY73LY723WD2462VDSM4UWA4FYA477V4E277JDQCDCN326QBCDPUI\n"
     ]
    }
   ],
   "source": [
    "# loading credential utility\n",
    "from algo_util import load_credentials \n",
    "\n",
    "# load credentials from storage\n",
    "credentials = load_credentials(file_name = \"credentials_temp\")\n",
    "\n",
    "print(f\"{len(credentials['members_credentials'])} members' credentials loaded from storage\")\n",
    "print(f\"Loading also USIV account credentials: {credentials['usiv']['public']}\")"
   ]
  },
  {
   "cell_type": "markdown",
   "metadata": {},
   "source": [
    "Initialize the algorand client to interact with the testnet"
   ]
  },
  {
   "cell_type": "code",
   "execution_count": 24,
   "metadata": {},
   "outputs": [],
   "source": [
    "# Initialize the algod client (Testnet or Mainnet)\n",
    "algod_client = algod.AlgodClient(\n",
    "    algod_token='', \n",
    "    algod_address=credentials['algod_test'], \n",
    "    headers=credentials['purestake_token']\n",
    ")"
   ]
  },
  {
   "cell_type": "markdown",
   "metadata": {},
   "source": [
    "Retrieve the information on the asset to be used to vote"
   ]
  },
  {
   "cell_type": "code",
   "execution_count": 25,
   "metadata": {},
   "outputs": [
    {
     "name": "stdout",
     "output_type": "stream",
     "text": [
      "32 members' credentials loaded from storage\n",
      "Loading also USIV account credentials: FQYVLYY73LY723WD2462VDSM4UWA4FYA477V4E277JDQCDCN326QBCDPUI\n"
     ]
    }
   ],
   "source": [
    "# loading credential utility\n",
    "from algo_util import load_credentials \n",
    "\n",
    "# load credentials from storage\n",
    "credentials = load_credentials(file_name = \"credentials_temp\")\n",
    "\n",
    "print(f\"{len(credentials['members_credentials'])} members' credentials loaded from storage\")\n",
    "print(f\"Loading also USIV account credentials: {credentials['usiv']['public']}\")"
   ]
  },
  {
   "cell_type": "code",
   "execution_count": 30,
   "metadata": {},
   "outputs": [
    {
     "name": "stdout",
     "output_type": "stream",
     "text": [
      "The asset (coin) id is: 684625427\n"
     ]
    }
   ],
   "source": [
    "# assuming the USIV account created only 1 coin\n",
    "coin_id = algod_client.account_info(\n",
    "    credentials['usiv']['public'])[\"assets\"][1][\"asset-id\"]\n",
    "print(f\"The asset (coin) id is: {coin_id}\")"
   ]
  },
  {
   "cell_type": "markdown",
   "metadata": {},
   "source": [
    "### 1. Opt-in the members"
   ]
  },
  {
   "cell_type": "markdown",
   "metadata": {},
   "source": [
    "**Opt-in** all the accounts that need to express a vote"
   ]
  },
  {
   "cell_type": "code",
   "execution_count": 31,
   "metadata": {},
   "outputs": [],
   "source": [
    "def optin_asset_member(member_pubk, member_prik, coin_id):\n",
    "    \"\"\"\n",
    "        Opt-in to the asset for voting\n",
    "    \"\"\"\n",
    "    sp = algod_client.suggested_params()\n",
    "    optin_txn = AssetOptInTxn(sender=member_pubk,\n",
    "                              sp=sp,\n",
    "                              index=coin_id)\n",
    "    signed_txn = optin_txn.sign(member_prik)\n",
    "    txid = algod_client.send_transaction(signed_txn)\n",
    "    wait_for_confirmation(algod_client,txid)"
   ]
  },
  {
   "cell_type": "code",
   "execution_count": 32,
   "metadata": {},
   "outputs": [],
   "source": [
    "# asset opt-int configurations\n",
    "sp                  = algod_client.suggested_params()\n",
    "idx_coin            = coin_id\n",
    "usiv                = credentials['usiv']"
   ]
  },
  {
   "cell_type": "code",
   "execution_count": 33,
   "metadata": {},
   "outputs": [
    {
     "name": "stdout",
     "output_type": "stream",
     "text": [
      "Murphy has already opted-in to coin 'USIV'\n",
      "Shaffer has already opted-in to coin 'USIV'\n",
      "Beck has already opted-in to coin 'USIV'\n",
      "Smith has already opted-in to coin 'USIV'\n",
      "Gibson has already opted-in to coin 'USIV'\n",
      "Duncan has already opted-in to coin 'USIV'\n",
      "Powers has already opted-in to coin 'USIV'\n",
      "Jordan has already opted-in to coin 'USIV'\n",
      "Atkins has already opted-in to coin 'USIV'\n",
      "Carr has already opted-in to coin 'USIV'\n",
      "Pacheco has already opted-in to coin 'USIV'\n",
      "Hanson has already opted-in to coin 'USIV'\n",
      "Diaz has already opted-in to coin 'USIV'\n",
      "Williams has already opted-in to coin 'USIV'\n",
      "Wright has already opted-in to coin 'USIV'\n",
      "Harris has already opted-in to coin 'USIV'\n",
      "Valdez has already opted-in to coin 'USIV'\n",
      "Davidson has already opted-in to coin 'USIV'\n",
      "Stewart has already opted-in to coin 'USIV'\n",
      "Bell has already opted-in to coin 'USIV'\n",
      "MD has already opted-in to coin 'USIV'\n",
      "Moore has already opted-in to coin 'USIV'\n",
      "Thomas has already opted-in to coin 'USIV'\n",
      "Jackson has already opted-in to coin 'USIV'\n",
      "Fry has already opted-in to coin 'USIV'\n",
      "Patel has already opted-in to coin 'USIV'\n",
      "Fields has already opted-in to coin 'USIV'\n",
      "Wong has already opted-in to coin 'USIV'\n",
      "Bender has already opted-in to coin 'USIV'\n",
      "Hobbs has already opted-in to coin 'USIV'\n",
      "Winters has already opted-in to coin 'USIV'\n",
      "Wilkinson has already opted-in to coin 'USIV'\n"
     ]
    }
   ],
   "source": [
    "# loop through all members to opt them in\n",
    "for i, member in enumerate(credentials[\"members_credentials\"]):\n",
    "    # retrieve member's keys\n",
    "    member_pubk = credentials[\"members_credentials\"][member][\"public\"]\n",
    "    member_prik = credentials[\"members_credentials\"][member][\"private\"]\n",
    "\n",
    "    # # # debugging purposes\n",
    "    # if i == 7:\n",
    "    #     break\n",
    "\n",
    "    # opt-in in case he did not do it yet\n",
    "    if algod_client.account_info(member_pubk)[\"assets\"]:\n",
    "        if algod_client.account_info(member_pubk)[\"assets\"][1][\"asset-id\"] == coin_id:\n",
    "            print(f\"{member} has already opted-in to coin '{algod_client.asset_info(idx_coin)['params']['unit-name']}'\")\n",
    "            continue\n",
    "\n",
    "    # opt-in transaction\n",
    "    optin_asset_member(member_pubk, member_prik, idx_coin)\n",
    "\n",
    "    # result of the opt-in operation\n",
    "    print(f\"{member} has opted-in to coin {algod_client.asset_info(idx_coin)['params']['unit-name']}\")\n"
   ]
  },
  {
   "cell_type": "markdown",
   "metadata": {},
   "source": [
    "### 2. Transfer coins to the members"
   ]
  },
  {
   "cell_type": "markdown",
   "metadata": {},
   "source": [
    "**Transfer 1 coin** to all the members that needs to express a vote"
   ]
  },
  {
   "cell_type": "code",
   "execution_count": 34,
   "metadata": {},
   "outputs": [],
   "source": [
    "def asset_transfer_txn(usiv, member_pubk, idx_coin, amount_for_voting):\n",
    "    \"\"\"\n",
    "        Transfer an asset for voting to a member\n",
    "    \"\"\"\n",
    "    sp = algod_client.suggested_params()\n",
    "    transfer_txn = AssetTransferTxn(sender=usiv[\"public\"],\n",
    "                                    sp=sp,\n",
    "                                    receiver=member_pubk,\n",
    "                                    index=idx_coin,\n",
    "                                    amt=amount_for_voting)\n",
    "    signed_txn = transfer_txn.sign(usiv[\"private\"])\n",
    "    txid = algod_client.send_transaction(signed_txn)\n",
    "    wait_for_confirmation(algod_client,txid)"
   ]
  },
  {
   "cell_type": "code",
   "execution_count": 35,
   "metadata": {},
   "outputs": [],
   "source": [
    "# asset opt-int configurations\n",
    "sp                  = algod_client.suggested_params()\n",
    "idx_coin            = coin_id\n",
    "amount_for_voting   = int(1) # send only 1 token for voting purposes\n",
    "usiv                = credentials['usiv']"
   ]
  },
  {
   "cell_type": "code",
   "execution_count": 37,
   "metadata": {},
   "outputs": [
    {
     "name": "stdout",
     "output_type": "stream",
     "text": [
      "Current round is  41168889.\n",
      "Waiting for round 41168889 to finish.\n",
      "Waiting for round 41168890 to finish.\n",
      "Transaction DIMWGQNGX5ZDSYXWNACAGNCPF2BHBWQQAPY5U35LD5RODR6PLESA confirmed in round 41168891.\n",
      "Murphy has 1 tokens of USIV\n",
      "Current round is  41168892.\n",
      "Waiting for round 41168892 to finish.\n",
      "Waiting for round 41168893 to finish.\n",
      "Transaction AOEMEDDC5262GOZVDK5SCOQI7OB4FV3HQE4VFNSLUKDLPUL6CKNA confirmed in round 41168894.\n",
      "Shaffer has 1 tokens of USIV\n",
      "Beck has already some holdings (1), skipping\n",
      "Current round is  41168895.\n",
      "Waiting for round 41168895 to finish.\n",
      "Waiting for round 41168896 to finish.\n",
      "Transaction ODOYRQCQ57TXJ4OBHDIDP5DH4WRIPSO3P7AUVIPW7QXH4ZQJ3WQA confirmed in round 41168897.\n",
      "Smith has 1 tokens of USIV\n",
      "Current round is  41168898.\n",
      "Waiting for round 41168898 to finish.\n",
      "Waiting for round 41168899 to finish.\n",
      "Transaction FH3Q75QEYYZAETNH5QH7FZULPX35L3W5JHGA3FR25G67BW33FF6Q confirmed in round 41168900.\n",
      "Gibson has 1 tokens of USIV\n",
      "Duncan has already some holdings (1), skipping\n",
      "Powers has already some holdings (1), skipping\n",
      "Jordan has already some holdings (1), skipping\n",
      "Atkins has already some holdings (1), skipping\n",
      "Carr has already some holdings (1), skipping\n",
      "Pacheco has already some holdings (1), skipping\n",
      "Hanson has already some holdings (1), skipping\n",
      "Diaz has already some holdings (1), skipping\n",
      "Williams has already some holdings (1), skipping\n",
      "Wright has already some holdings (1), skipping\n",
      "Harris has already some holdings (1), skipping\n",
      "Valdez has already some holdings (1), skipping\n",
      "Davidson has already some holdings (1), skipping\n",
      "Stewart has already some holdings (1), skipping\n",
      "Bell has already some holdings (1), skipping\n",
      "MD has already some holdings (1), skipping\n",
      "Moore has already some holdings (1), skipping\n",
      "Thomas has already some holdings (1), skipping\n",
      "Jackson has already some holdings (1), skipping\n",
      "Fry has already some holdings (1), skipping\n",
      "Patel has already some holdings (1), skipping\n",
      "Fields has already some holdings (1), skipping\n",
      "Wong has already some holdings (1), skipping\n",
      "Bender has already some holdings (1), skipping\n",
      "Hobbs has already some holdings (1), skipping\n",
      "Winters has already some holdings (1), skipping\n",
      "Wilkinson has already some holdings (1), skipping\n"
     ]
    }
   ],
   "source": [
    "# loop through all members to send them 1 token for voting\n",
    "for i, member in enumerate(credentials[\"members_credentials\"]):\n",
    "\n",
    "    # retrieve member's keys\n",
    "    member_pubk = credentials[\"members_credentials\"][member][\"public\"]\n",
    "    member_prik = credentials[\"members_credentials\"][member][\"private\"]\n",
    "\n",
    "    # if i == 6:\n",
    "    #     break;\n",
    "\n",
    "    # check that the holdings of the member are 0, otherwise continue\n",
    "    if algod_client.account_info(member_pubk)[\"assets\"]:\n",
    "        if algod_client.account_info(member_pubk)[\"assets\"][1][\"amount\"] != 0:\n",
    "            print(f\"{member} has already some holdings ({algod_client.account_info(member_pubk)['assets'][1]['amount']}), skipping\")\n",
    "            continue\n",
    "\n",
    "    # transfer a coin to the asset for voting\n",
    "    asset_transfer_txn(usiv, member_pubk, idx_coin, amount_for_voting=amount_for_voting)\n",
    "\n",
    "    # get the asset amount of the member\n",
    "    print(f\"{member} has {algod_client.account_info(member_pubk)['assets'][1]['amount']} tokens of {algod_client.asset_info(algod_client.account_info(member_pubk)['assets'][1]['asset-id'])['params']['unit-name']}\")\n",
    "\n"
   ]
  },
  {
   "cell_type": "code",
   "execution_count": null,
   "metadata": {},
   "outputs": [],
   "source": []
  }
 ],
 "metadata": {
  "interpreter": {
   "hash": "9d9680a1b2f76ca1b01e33bf1807a238d9e22fb1f30ff8d57ba895ae0ae67a58"
  },
  "kernelspec": {
   "display_name": "Python 3.9.7 ('base')",
   "language": "python",
   "name": "python3"
  },
  "language_info": {
   "codemirror_mode": {
    "name": "ipython",
    "version": 3
   },
   "file_extension": ".py",
   "mimetype": "text/x-python",
   "name": "python",
   "nbconvert_exporter": "python",
   "pygments_lexer": "ipython3",
   "version": "3.11.4"
  },
  "orig_nbformat": 4
 },
 "nbformat": 4,
 "nbformat_minor": 2
}
