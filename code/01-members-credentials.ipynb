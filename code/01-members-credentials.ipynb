{
 "cells": [
  {
   "cell_type": "markdown",
   "metadata": {},
   "source": [
    "# 01 - Set up the group members"
   ]
  },
  {
   "cell_type": "markdown",
   "metadata": {},
   "source": [
    "**Description**: this notebook will serve as the baseline to set up (simulate) the senate members and assign to each of them a public key address to be able to partecipate in the voting procedure"
   ]
  },
  {
   "cell_type": "markdown",
   "metadata": {},
   "source": [
    "### 01 - Libraries\n",
    "Let's make sure that the SDK is installed on the client machine. "
   ]
  },
  {
   "cell_type": "code",
   "execution_count": 1,
   "metadata": {},
   "outputs": [
    {
     "name": "stdout",
     "output_type": "stream",
     "text": [
      "Requirement already satisfied: py-algorand-sdk in /Users/travaz/opt/anaconda3/envs/algorand-wsc/lib/python3.10/site-packages (1.12.0)\n",
      "Requirement already satisfied: pynacl<2,>=1.4.0 in /Users/travaz/opt/anaconda3/envs/algorand-wsc/lib/python3.10/site-packages (from py-algorand-sdk) (1.5.0)\n",
      "Requirement already satisfied: msgpack<2,>=1.0.0 in /Users/travaz/opt/anaconda3/envs/algorand-wsc/lib/python3.10/site-packages (from py-algorand-sdk) (1.0.3)\n",
      "Requirement already satisfied: pycryptodomex<4,>=3.6.0 in /Users/travaz/opt/anaconda3/envs/algorand-wsc/lib/python3.10/site-packages (from py-algorand-sdk) (3.14.1)\n",
      "Requirement already satisfied: cffi>=1.4.1 in /Users/travaz/opt/anaconda3/envs/algorand-wsc/lib/python3.10/site-packages (from pynacl<2,>=1.4.0->py-algorand-sdk) (1.15.0)\n",
      "Requirement already satisfied: pycparser in /Users/travaz/opt/anaconda3/envs/algorand-wsc/lib/python3.10/site-packages (from cffi>=1.4.1->pynacl<2,>=1.4.0->py-algorand-sdk) (2.21)\n"
     ]
    }
   ],
   "source": [
    "# Run this only once, then comment out\n",
    "!pip install py-algorand-sdk"
   ]
  },
  {
   "cell_type": "markdown",
   "metadata": {},
   "source": [
    "### 02 - Imports\n",
    "Import the all the required methods and libraries to properly run this notebook "
   ]
  },
  {
   "cell_type": "code",
   "execution_count": 1,
   "metadata": {},
   "outputs": [],
   "source": [
    "# Add \"algo_util.py\" to the list of available dependencies of the project\n",
    "import sys, os, json\n",
    "from pathlib import Path\n",
    "\n",
    "codepath = (Path( os.curdir ) / \"shared\").resolve()\n",
    "sys.path.append(str(codepath))"
   ]
  },
  {
   "cell_type": "code",
   "execution_count": 2,
   "metadata": {},
   "outputs": [],
   "source": [
    "from algo_util import generate_account_dict"
   ]
  },
  {
   "cell_type": "markdown",
   "metadata": {},
   "source": [
    "### 03 - Initialize the members"
   ]
  },
  {
   "cell_type": "code",
   "execution_count": 3,
   "metadata": {},
   "outputs": [
    {
     "name": "stdout",
     "output_type": "stream",
     "text": [
      "Welcome to all the 37 members of the academic senate!\n"
     ]
    }
   ],
   "source": [
    "# This is the list of member of our senate\n",
    "members = [\n",
    "    \"Andersen\", \"Bianchi\", \"Carlsson\", \"Dumont\",\n",
    "    \"Evans\", \"Fischer\", \"Garcia\", \"Horváth\",\n",
    "    \"Ivanov\", \"Jansen\", \"Kovács\", \"Larsen\",\n",
    "    \"Martin\", \"Nielsen\", \"O'Reilly\", \"Petrov\",\n",
    "    \"Quinn\", \"Rossi\", \"Schneider\", \"Todorov\",\n",
    "    \"Urbanski\", \"Varga\", \"Weber\", \"Xanthopoulos\",\n",
    "    \"Yilmaz\", \"Zimmermann\", \"Bakker\", \"Bernard\",\n",
    "    \"Bosch\", \"Bianchi\", \"Conte\", \"De Vries\",\n",
    "    \"Fabre\", \"Gruber\", \"Hoffmann\", \"Ionescu\",\n",
    "    \"Kowalski\"\n",
    "]\n",
    "\n",
    "\n",
    "\n",
    "\n",
    "print(f\"Welcome to all the {len(members)} members of the academic senate!\")"
   ]
  },
  {
   "cell_type": "markdown",
   "metadata": {},
   "source": [
    "### 04 - Create the club account (USIV)"
   ]
  },
  {
   "cell_type": "code",
   "execution_count": 4,
   "metadata": {},
   "outputs": [],
   "source": [
    "# generate club account\n",
    "club_credentials = generate_account_dict()"
   ]
  },
  {
   "cell_type": "markdown",
   "metadata": {},
   "source": [
    "### 04 - Generate the members's credentials"
   ]
  },
  {
   "cell_type": "code",
   "execution_count": 5,
   "metadata": {
    "collapsed": true,
    "jupyter": {
     "outputs_hidden": true
    },
    "tags": []
   },
   "outputs": [
    {
     "name": "stdout",
     "output_type": "stream",
     "text": [
      "Here the list of credentials:\n",
      " {\n",
      "    \"Andersen\": {\n",
      "        \"public\": \"YFNZ2OEDMYQJYGCOP4B2AUMBDFGKD6V7UQMLZST7VZV4HU7KTV7VQOU7QI\",\n",
      "        \"private\": \"oYT66XxCghMfCFwJFE+ITZadez1ZAOlr+/NRpkI5cEXBW504g2YgnBhOfwOgUYEZTKH6v6QYvMp/rmvD0+qdfw==\",\n",
      "        \"mnemonic\": \"neither tube insane chief afraid shaft domain foster license detail service gospel depth galaxy size able large unit wheat govern luxury atom clog able conduct\"\n",
      "    },\n",
      "    \"Bianchi\": {\n",
      "        \"public\": \"VZWRJMN6J22LIPX2EIAJEGFIGNONSVH46JVNIZZBMXCF22PXTQ7GVLQ77I\",\n",
      "        \"private\": \"gG2pLQuXzt9gLfRQcYq43jrVyi6KrAprmYaMJGXWnk+ubRSxvk60tD76IgCSGKgzXNlU/PJq1GchZcRdafecPg==\",\n",
      "        \"mnemonic\": \"quote pizza nothing idle outdoor dawn help vintage claw clap fox pupil price razor fabric prosper genuine grant drive emotion ski remain language able mean\"\n",
      "    },\n",
      "    \"Carlsson\": {\n",
      "        \"public\": \"OZFO4ODADCSCO55D7MXKJ5DN6QHVA7KF5V2L5W2XH6YHDBNGECWA2D7UPU\",\n",
      "        \"private\": \"RU1ClEvjcgzbfK9zwSztWsi3cMzbuVYt3w4KuiYnMQR2Su44YBikJ3ej+y6k9G30D1B9Re10vttXP7BxhaYgrA==\",\n",
      "        \"mnemonic\": \"post ankle sketch cruise total seek traffic quarter common reason isolate mad hurdle bring taxi right print lake alter pass estate endorse canoe abandon blood\"\n",
      "    },\n",
      "    \"Dumont\": {\n",
      "        \"public\": \"S4FGYIESNTBMK6HUO5TEDEILKIQL5HZ4NGHNQ54SZ5LIKI6T4RT5BUUMIA\",\n",
      "        \"private\": \"2zSko1YhTteLR5EpWBer/sWo77TPaiAwXRLnV3uBBNqXCmwgkmzCxXj0d2ZBkQtSIL6fPGmO2HeSz1aFI9PkZw==\",\n",
      "        \"mnemonic\": \"opinion move fade betray ordinary volume detail mule ahead frost few garment face desk laundry hello advice inquiry matrix lazy wall cake south absorb talk\"\n",
      "    },\n",
      "    \"Evans\": {\n",
      "        \"public\": \"VXFZ6R3O2EVK52SUDBS77GYPSXXMVPC3IM2HPEJIAVONNSNPZGDZZRAUOE\",\n",
      "        \"private\": \"EUbHJXGA6qHzxFd+1WqND6CKkbxVJ7EwyyQuvGg1FD2ty59HbtEqrupUGGX/mw+V7sq8W0M0d5EoBVzWya/Jhw==\",\n",
      "        \"mnemonic\": \"season brown napkin alpha steak trick chest fit quit prize shop abstract best caught pupil chef bike coast bar seed sphere ask trim ability quit\"\n",
      "    },\n",
      "    \"Fischer\": {\n",
      "        \"public\": \"HJXEEOJGAMHAC3XZ43RSUW6G5NKDWUHZ7NP22XPM3VTL72PPBSLZKDJOJI\",\n",
      "        \"private\": \"0kuYh+5Z16eZwWBT7m5Aq7/Juog/+fDZQoYdD3K4EHY6bkI5JgMOAW755uMqW8brVDtQ+ftfrV3s3Wa/6e8Mlw==\",\n",
      "        \"mnemonic\": \"kid gentle duck page push hazard art general skill roof parent wide nature concert wisdom weird dignity arena segment vault tomato come rack about envelope\"\n",
      "    },\n",
      "    \"Garcia\": {\n",
      "        \"public\": \"UWGNPU2VHSZZNAIPKXOJBN7IDEF2BIIX5JVMDHVK5SGTE2SYXXDWPIJT6U\",\n",
      "        \"private\": \"tg6Jj8cbBNG2f4SMECzHoLrTe0RQo+0lT0X5jLN9k5mljNfTVTyzloEPVdyQt+gZC6ChF+pqwZ6q7I0yali9xw==\",\n",
      "        \"mnemonic\": \"strategy category sick round amused reform world love bag raccoon glory present polar bus lion person sad develop pencil sort grow term smart above piano\"\n",
      "    },\n",
      "    \"Horv\\u00e1th\": {\n",
      "        \"public\": \"J7NGGV7MVKOW3KIUSJN2ZSHOS2VHBDUT2AKUC2PQ6RHKTLEJCWLGC47PIQ\",\n",
      "        \"private\": \"idjJ5+95oULj7tI7v6YHUSIlRUXjb4BKaOhKjy92m7dP2mNX7KqdbakUklusyO6WqnCOk9AVQWnw9E6prIkVlg==\",\n",
      "        \"mnemonic\": \"bachelor cherry view page drill spawn jacket spray trash online long celery engage eyebrow boss husband exotic patrol injury visa gallery talk rubber absent excess\"\n",
      "    },\n",
      "    \"Ivanov\": {\n",
      "        \"public\": \"RU7CLGE57NXPEKRPKPCUST6AP7BJRD7OOSUCL6MPPOQRJPYZ7LGT3SMAZI\",\n",
      "        \"private\": \"mBQUdaW44rJcpeo3JkX38pKEZBIp9B4k4B3vdkxMb3iNPiWYnftu8iovU8VJT8B/wpiP7nSoJfmPe6EUvxn6zQ==\",\n",
      "        \"mnemonic\": \"narrow expect ritual medal shell coach cliff turkey shoulder behind knife connect ankle odor embrace vintage long letter moment humble ocean spread sell about average\"\n",
      "    },\n",
      "    \"Jansen\": {\n",
      "        \"public\": \"DNKDAGLW6J7GPVZUWEC64PAU6UR3KFLRM5QD5V5LME4GEXC36MQCVPRFQQ\",\n",
      "        \"private\": \"JcFuyCYwxjaeTLmnBY78QAtTV+e1U5518iwRXPz2iyMbVDAZdvJ+Z9c0sQXuPBT1I7UVcWdgPterYThiXFvzIA==\",\n",
      "        \"mnemonic\": \"caution roast goddess act midnight misery gossip rich reject day layer reduce plastic still quality father record six nose scissors weather world brisk ability above\"\n",
      "    },\n",
      "    \"Kov\\u00e1cs\": {\n",
      "        \"public\": \"7U4XPTJLCU6C23QC2FUBILI5XOUPL6KLF4DL6RMVNREA5TMF5U43IU72RU\",\n",
      "        \"private\": \"C4wQ4vG+evPoK3leQxOB980qjDjRiGFY2hQMrBj8W479OXfNKxU8LW4C0WgULR27qPX5Sy8Gv0WVbEgOzYXtOQ==\",\n",
      "        \"mnemonic\": \"lift drama valve upper voice devote gap junior hint escape scene term few cart mean match around harvest apology school course yellow index above december\"\n",
      "    },\n",
      "    \"Larsen\": {\n",
      "        \"public\": \"UFMVHAIAAD26XE2NB2HLF4QPYSRSHK2IRDNZH3UTQWFCHXMEG5YAXYBJUU\",\n",
      "        \"private\": \"wouUEb9QIWixOwDFxykUgB2kocb7D3dpFrb84uNSu42hWVOBAAD165NNDo6y8g/EoyOrSIjbk+6ThYoj3YQ3cA==\",\n",
      "        \"mnemonic\": \"joke fall match armor dress foam talk ability weather poem anxiety submit else position taste avocado confirm fluid force cool sick start horse above sail\"\n",
      "    },\n",
      "    \"Martin\": {\n",
      "        \"public\": \"SQRWHQMCBTSCRZULS4XMKK6CRZZ2Q4O5ECC2AM32TTEHC3H3TBTAOIQTIY\",\n",
      "        \"private\": \"SCxO8HObSO3i4x4syYihl12jwVvGpn5Kypa9kZnFrgaUI2PBggzkKOaLly7FK8KOc6hx3SCFoDN6nMhxbPuYZg==\",\n",
      "        \"mnemonic\": \"math december wealth rescue muffin robust business bus cereal case speak sunny effort vacant crazy plug exist circle slice bridge creek ramp cube abandon bacon\"\n",
      "    },\n",
      "    \"Nielsen\": {\n",
      "        \"public\": \"VYCBPPZESKCSQA6L7S3MYKPLTN6E7SZWXHOU3ITY6LCTH6ZDDBIGT4RFSM\",\n",
      "        \"private\": \"QwJFABILNSrfmvpb19t1lhnVNA3PdpR08xFt58tPeeyuBBe/JJKFKAPL/LbMKeubfE/LNrndTaJ48sUz+yMYUA==\",\n",
      "        \"mnemonic\": \"embody beef ability raise head skin street whisper twin hungry depend offer pretty essay journey item myth soccer material item oak fault glow abstract pride\"\n",
      "    },\n",
      "    \"O'Reilly\": {\n",
      "        \"public\": \"AG72SFPAYPZCQIND4KYGOHT24XT2CUD7VWTKWWQKP3WA7VE4RQCJMAJV6Y\",\n",
      "        \"private\": \"JzXlb200D5XCuPPbEA72QsI4vpTfz3BsSt81KUOYphYBv6kV4MPyKCGj4rBnHnrl56FQf62mq1oKfuwP1JyMBA==\",\n",
      "        \"mnemonic\": \"pilot network retire egg bunker pipe ship victory bread debate kitchen category immense convince witness sound mix claim use nation main plastic release abandon brain\"\n",
      "    },\n",
      "    \"Petrov\": {\n",
      "        \"public\": \"VDOCOB744AIIG4EC4HPB73K2SUN2ABQ5AICZEK3OZTS3UYCGNBSDIP2KE4\",\n",
      "        \"private\": \"tt7qKGv5uQ8tlVcy3sVMwOys5Xzr/k2mOqUYdSmXpO+o3CcH/OAQg3CC4d4f7VqVG6AGHQIFkituzOW6YEZoZA==\",\n",
      "        \"mnemonic\": \"strategy problem nerve note initial dumb practice fiscal shock blast chapter slot flush defense fossil year situate tunnel family face fancy chair large abstract broom\"\n",
      "    },\n",
      "    \"Quinn\": {\n",
      "        \"public\": \"RKAH63EN7IQ747H6BYATQLTYHYX2BB4VVKAKCYITDKAGPSZWMDWZWQTZGY\",\n",
      "        \"private\": \"cL3IKiZWaXLvqOawqTVUfbKxw8NToUdYct17C0NFFciKgH9sjfoh/nz+DgE4Lng+L6CHlaqAoWETGoBnyzZg7Q==\",\n",
      "        \"mnemonic\": \"puppy carry betray give sport symptom electric trade current stove present chief gloom valley own pattern angry siren upgrade response maid eyebrow doll absorb example\"\n",
      "    },\n",
      "    \"Rossi\": {\n",
      "        \"public\": \"RSZXWRNKVGY3J3FRKSDYP52MI6SKQ7UGSO4MMCRXDQBQMDJ6DSL4L2QU5Y\",\n",
      "        \"private\": \"u03tzoOysqzLBy8UTNW8JAYsDkB1VEIM8N1xgouH4IeMs3tFqqmxtOyxVIeH90xHpKh+hpO4xgo3HAMGDT4clw==\",\n",
      "        \"mnemonic\": \"resist release trash choice grace twenty dinner congress little festival fury girl fix adjust present federal marriage scan upon check blade capable disease above timber\"\n",
      "    },\n",
      "    \"Schneider\": {\n",
      "        \"public\": \"7P6ETCOBE4J4T43ZCNRDIGAXTJZJDZB5U25RQVQAMHPGLF4VZ6HX3FQPQE\",\n",
      "        \"private\": \"wFj7R2JZH6ypnJ6tMUI5lVBOmLkdYcWaT1dVPE7mwGn7/EmJwScTyfN5E2I0GBeacpHkPaa7GFYAYd5ll5XPjw==\",\n",
      "        \"mnemonic\": \"blossom uniform catalog normal dirt help torch ozone cup angle original announce original gravity universe genre flavor dinosaur produce shed organ define evoke about snap\"\n",
      "    },\n",
      "    \"Todorov\": {\n",
      "        \"public\": \"C4GTVBWA3EROW63ZGP3S3NTMSHXDH7JCJLU5XRHWYIJAWODGUWH3LLURTQ\",\n",
      "        \"private\": \"TXGQ8DwKP81ulgpLCqXcSZaWcCwE+Ydt5y4iowESSv8XDTqGwNki63t5M/cttmyR7jP9Ikrp28T2whILOGaljw==\",\n",
      "        \"mnemonic\": \"claim dove joke phrase lawn rebuild recall appear enact neither unusual goose coffee bring cannon weekend rail oval blast cram addict loyal where abstract reduce\"\n",
      "    },\n",
      "    \"Urbanski\": {\n",
      "        \"public\": \"UGGKWCQ2TV67XE76QBC4XSKP42IQ4O3RU4ZL57S3RDGFT7LW3HO6422HMA\",\n",
      "        \"private\": \"HT6rLWJ4LsDCbYaqVQ9Cm7LUOHUrhh8amR7X+uVwnbihjKsKGp19+5P+gEXLyU/mkQ47cacyvv5biMxZ/XbZ3Q==\",\n",
      "        \"mnemonic\": \"senior provide bitter mail friend quote host major relief diary patient claim practice evolve forum mail dumb good monster pulp slogan found shaft absent old\"\n",
      "    },\n",
      "    \"Varga\": {\n",
      "        \"public\": \"NSR5GKKVT2Y3OMNVDH5P4LPE3JA2OINRZJ4IPIBIIMRYSY7IZYTS5W5AT4\",\n",
      "        \"private\": \"ryd8Kme5OIe0Bvz+fdNcrPN1MYeLgh72S0VaBsvAkDVso9MpVZ6xtzG1Gfr+LeTaQachscp4h6AoQyOJY+jOJw==\",\n",
      "        \"mnemonic\": \"vote vacuum news nose imitate canyon cup winter save evil common depart typical slush found little sense cool cargo grant noodle coral prosper ability globe\"\n",
      "    },\n",
      "    \"Weber\": {\n",
      "        \"public\": \"X6CZY3C6X5TXT6YWRJ3ZFWINXA6UAAJOVG75BMMC7A4OIZ5R4GPEYIRGRA\",\n",
      "        \"private\": \"6QHK0yCWS5qkGvm8Muj8OOCsZ2llG5BWAiVl4AQ4AXe/hZxsXr9nefsWineS2Q24PUABLqm/0LGC+DjkZ7Hhng==\",\n",
      "        \"mnemonic\": \"diamond chimney hazard ginger now charge steel weekend fiscal patch lazy adjust flush fly clip bread spirit announce myth alien antenna evoke retreat about sting\"\n",
      "    },\n",
      "    \"Xanthopoulos\": {\n",
      "        \"public\": \"MZNRFWW3F23BJU3P2KNB6FE5ZAKULGAY7O74LZPLOWRS4IQUTOSUJCO64Q\",\n",
      "        \"private\": \"8yYL0nbwaFIl153o8TMLwyTXSj1bL8he5kLWThoY479mWxLa2y62FNNv0pofFJ3IFUWYGPu/xeXrdaMuIhSbpQ==\",\n",
      "        \"mnemonic\": \"taxi clutch harbor alter spin fee rice oven dial sound machine equip purity famous supreme consider suit offer cannon uniform cruel ship yellow absent area\"\n",
      "    },\n",
      "    \"Yilmaz\": {\n",
      "        \"public\": \"HHNZIIKHSBGCHXW75KG6N6NECMLRUHBBNTW6I6A32Q2EZYCGWGDQ5QTVKM\",\n",
      "        \"private\": \"8nQecOYpOXU+m4bmdZlNj+vyNFJmzyeOcAvOI5usHHg525QhR5BMI97f6o3m+aQTFxocIWzt5Hgb1DRM4Eaxhw==\",\n",
      "        \"mnemonic\": \"oxygen keep day oyster inch outer supreme make rubber grape plug rib total minor crater sorry shaft season aisle diagram curve clinic science about seat\"\n",
      "    },\n",
      "    \"Zimmermann\": {\n",
      "        \"public\": \"JT4KGFC3QDDNENF2XWEIMJZ5ZFSHCTDZBEFTGZPVQFUN7KMRQQUJWBMV7E\",\n",
      "        \"private\": \"jNkZoSihjC8jfhO0umQkLBkLbtOxNkluQVLqp+at0J9M+KMUW4DG0jS6vYiGJz3JZHFMeQkLM2X1gWjfqZGEKA==\",\n",
      "        \"mnemonic\": \"cover guess explain barely bone slogan valve beach final napkin banana name bike swear model cute since aisle circle leaf snap clock write above hill\"\n",
      "    },\n",
      "    \"Bakker\": {\n",
      "        \"public\": \"JNTKHFZ3MR3UHFKPXKTQBFFOMBBKBHJZJ2QIYNTK66RDZ4LYGDGQLNHASI\",\n",
      "        \"private\": \"NPITGBrmurseqZ0PklaR5yWXxTuYdjBIqIj3jHLFlEpLZqOXO2R3Q5VPuqcAlK5gQqCdOU6gjDZq96I88XgwzQ==\",\n",
      "        \"mnemonic\": \"educate exist army giant into puzzle employ oval draft fog silly fury comic vapor scrub isolate alcohol patrol session sorry topic course feed able supreme\"\n",
      "    },\n",
      "    \"Bernard\": {\n",
      "        \"public\": \"IOEY5ZBHQ4SEF5FMSVSNEHYLHB5TQCKW2J43PBBWYYBKXFQUCMXTJ5XNTU\",\n",
      "        \"private\": \"dX518h2GiQO/U7RrpsqLzrf9Uixz+CGvTVUII/bfFCpDiY7kJ4ckQvSslWTSHws4ezgJVtJ5t4Q2xgKrlhQTLw==\",\n",
      "        \"mnemonic\": \"solid sting weird gift basic science over reform sniff clever echo language window believe offer wear tomorrow cute click correct unable dawn expose ability cloud\"\n",
      "    },\n",
      "    \"Bosch\": {\n",
      "        \"public\": \"TBS7E53WDZ6WELDQNBZZZKUPUGAQBRR5VWBSDA2IDWX5OJN6GC6G2FK4L4\",\n",
      "        \"private\": \"o9VpeEyelxjNoezx+1CZsbfxiHZGdekJKH2ZYZpDaeiYZfJ3dh59YixwaHOcqo+hgQDGPa2DIYNIHa/XJb4wvA==\",\n",
      "        \"mnemonic\": \"refuse point destroy tooth connect economy attack uncover lawsuit dumb smile kitchen toddler peasant crisp inspire diamond parent salon book crumble extend drive abstract gold\"\n",
      "    },\n",
      "    \"Conte\": {\n",
      "        \"public\": \"ILA6U2XOETMSH4UHHYO2OZ2HJ334PWM5ISBCUP5TRWYNSCQJ6WNERGVC7M\",\n",
      "        \"private\": \"7EBSwogn1zcxgEohhTS/z3O8wIE4aulgZ0X3uE5f5a1Cwepq7iTZI/KHPh2nZ0dO98fZnUSCKj+zjbDZCgn1mg==\",\n",
      "        \"mnemonic\": \"budget empower gentle joy purity evil account enhance picnic spirit test diagram jump ice series health brush outside pencil month output fit hundred absent bunker\"\n",
      "    },\n",
      "    \"De Vries\": {\n",
      "        \"public\": \"RQH6NL76LRDMLVUMQ7XUKU3V2MXBCX7OOQOW2MS52GK6X7HXF6OGXIIQEA\",\n",
      "        \"private\": \"bmk0SBkcqL8BlIOpdNsb3TaMuvuZXBg1RaHe7Hb4Z0GMD+av/lxGxdaMh+9FU3XTLhFf7nQdbTJd0ZXr/PcvnA==\",\n",
      "        \"mnemonic\": \"column spider piano screen expand husband parade logic news horse mistake horse blur upgrade sound frame perfect below expose social universe wrap arctic able alley\"\n",
      "    },\n",
      "    \"Fabre\": {\n",
      "        \"public\": \"PMQ5YXZHIJZFSRJL6IGDPMSVUCJ2U42P3B4B53IPHZ3HC7FPPGT75N7WB4\",\n",
      "        \"private\": \"/NuaKETJzdFX5Ws1uenHeIiXEzr7Wlee9rX2AHWzXBB7IdxfJ0JyWUUr8gw3slWgk6pzT9h4Hu0PPnZxfK95pw==\",\n",
      "        \"mnemonic\": \"legend hidden begin nephew oppose virtual click hip chase plunge glue maple congress lumber supply foot slab surprise foot author tube coast load abandon december\"\n",
      "    },\n",
      "    \"Gruber\": {\n",
      "        \"public\": \"WWN6XQ2QIVOQYNEX6A6R7OOVZBZ6SGILFZQCB3S7JWPF2VSCN65IHSEWTI\",\n",
      "        \"private\": \"Goaj72IjAziopvrIGM3oTpJcMTC+WVB2rBVW6dY9Exy1m+vDUEVdDDSX8D0fudXIc+kZCy5gIO5fTZ5dVkJvug==\",\n",
      "        \"mnemonic\": \"select mix jelly curtain alien asthma crystal wide boil crucial inner ceiling rice arrange various fluid skate range approve nice punch sorry they abandon release\"\n",
      "    },\n",
      "    \"Hoffmann\": {\n",
      "        \"public\": \"TM5F2QKNOWBJ23H6VNKPUDASCEYPL6PG65QMMIJE3XRVZ5T2J4OIUD4XBU\",\n",
      "        \"private\": \"CeO9SEiXbMr5DNeMJWJ2m0kWxYkForqBBoRDUmSfePWbOl1BTXWCnWz+q1T6DBIRMPX55vdgxiEk3eNc9npPHA==\",\n",
      "        \"mnemonic\": \"gentle wasp cattle innocent summer income guitar strike ranch mass robot often clutch image clump pear dance borrow search category silly chief profit abstract fragile\"\n",
      "    },\n",
      "    \"Ionescu\": {\n",
      "        \"public\": \"B2XWRAANQKLMODJX3TY3X7BCKHK6QE6YTPEZRK4X7W7U7GY5DCSO6IRXAA\",\n",
      "        \"private\": \"XrXSjhQ9tGU34pS9kbD7gU5Q0YNY5ZwA7DQ2V08ommAOr2iADYKWxw033PG7/CJR1egT2JvJmKuX/b9Pmx0YpA==\",\n",
      "        \"mnemonic\": \"profit enlist electric spend half sunny balance neutral dash seat worry trend party violin series torch bean quote bounce inflict pact meat age about exotic\"\n",
      "    },\n",
      "    \"Kowalski\": {\n",
      "        \"public\": \"ETCYO26NW7KC6METSY7WBXSY3R2XMPJEX6MLPZ3N2PMC6MOECWT4ULQ6ZY\",\n",
      "        \"private\": \"ezA+xLNYYm1I6WUn3KIheRqw7A1MXqLbsjmqSbSj8qckxYdrzbfULzCTlj9g3ljcdXY9JL+Yt+dt09gvMcQVpw==\",\n",
      "        \"mnemonic\": \"author web tilt menu seven brave engage grass lumber merge move pole gasp kite gather furnace inmate slice broom one hammer pottery display absent inside\"\n",
      "    }\n",
      "}\n"
     ]
    }
   ],
   "source": [
    "# Generate credential for each member and store it in a key-value pair data structure (dictionary)\n",
    "credentials = { f\"{member}\": generate_account_dict() for member in members }\n",
    "print(f\"Here the list of credentials:\\n {json.dumps(credentials, indent=4)}\")"
   ]
  },
  {
   "cell_type": "code",
   "execution_count": 6,
   "metadata": {},
   "outputs": [],
   "source": [
    "# TODO: Would be better to export this to an external JSON file (like credentials) and read it in the app so that the API key is not exposed to the user\n",
    "# Add fundamental information to connect to the Algorand Blockchain\n",
    "dict_credentials = {\n",
    "        \"algod_test\" : \"https://testnet-api.algonode.cloud\",\n",
    "        \"algod_main\" : \"https://mainnet-api.algonode.cloud\",\n",
    "        \"index_test\" : \"https://testnet-idx.algonode.cloud\",\n",
    "        \"index_main\" : \"https://mainnet-idx.algonode.cloud\",\n",
    "        'purestake_token': {\n",
    "                'X-Api-key': 'wcYeYvFgROaM3lDrbfGDx7yWWWr8GLCe8KDk5c2o'\n",
    "        }\n",
    "}\n",
    "\n",
    "# Save senate's credentials in the dictionary\n",
    "dict_credentials[\"usiv\"] = club_credentials\n",
    "\n",
    "# Add information from the generated list\n",
    "dict_credentials[\"members_credentials\"] = credentials # here it would be better to load a JSON file from an external source"
   ]
  },
  {
   "cell_type": "markdown",
   "metadata": {},
   "source": [
    "### 05 - Export member's credentials"
   ]
  },
  {
   "cell_type": "code",
   "execution_count": 8,
   "metadata": {},
   "outputs": [],
   "source": [
    "# Path to the newly generate credential (temporary file)\n",
    "credential_path = (Path( os.curdir ) / \"..\" / \"assets\" / \"credentials\" / \"credentials_temp\" ).resolve()\n",
    "with open(credential_path, 'w') as outfile:\n",
    "    outfile.write(json.dumps(dict_credentials))"
   ]
  },
  {
   "cell_type": "markdown",
   "metadata": {},
   "source": [
    "### 06 - Attempts to connect to the Algorand Blockchain"
   ]
  },
  {
   "cell_type": "code",
   "execution_count": 9,
   "metadata": {},
   "outputs": [],
   "source": [
    "# Load all the needed libraries\n",
    "from algosdk import account, mnemonic\n",
    "from algosdk.v2client import algod\n",
    "from algosdk.transaction import PaymentTxn, MultisigTransaction\n",
    "from algosdk.transaction import AssetConfigTxn, AssetTransferTxn, AssetFreezeTxn\n",
    "import algosdk.error"
   ]
  },
  {
   "cell_type": "code",
   "execution_count": 10,
   "metadata": {},
   "outputs": [
    {
     "name": "stdout",
     "output_type": "stream",
     "text": [
      "Loading credentials for BUYC member: 'Varga'\n"
     ]
    }
   ],
   "source": [
    "# Load one's credentials\n",
    "from random import randrange\n",
    "member_i = members[randrange(0, len(members))]\n",
    "print(f\"Loading credentials for BUYC member: '{member_i}'\")"
   ]
  },
  {
   "cell_type": "code",
   "execution_count": 11,
   "metadata": {},
   "outputs": [],
   "source": [
    "# Load credentials\n",
    "from algo_util import load_credentials\n",
    "dict_credentials = load_credentials(file_name = \"credentials_temp\")"
   ]
  },
  {
   "cell_type": "code",
   "execution_count": 12,
   "metadata": {},
   "outputs": [
    {
     "name": "stdout",
     "output_type": "stream",
     "text": [
      "{\n",
      "    \"public\": \"NSR5GKKVT2Y3OMNVDH5P4LPE3JA2OINRZJ4IPIBIIMRYSY7IZYTS5W5AT4\",\n",
      "    \"private\": \"ryd8Kme5OIe0Bvz+fdNcrPN1MYeLgh72S0VaBsvAkDVso9MpVZ6xtzG1Gfr+LeTaQachscp4h6AoQyOJY+jOJw==\",\n",
      "    \"mnemonic\": \"vote vacuum news nose imitate canyon cup winter save evil common depart typical slush found little sense cool cargo grant noodle coral prosper ability globe\"\n",
      "}\n"
     ]
    }
   ],
   "source": [
    "# Retrieve credentials\n",
    "member_i_algo = dict_credentials[\"members_credentials\"][member_i]\n",
    "print(json.dumps(member_i_algo, indent=4))"
   ]
  },
  {
   "cell_type": "code",
   "execution_count": 13,
   "metadata": {},
   "outputs": [
    {
     "name": "stdout",
     "output_type": "stream",
     "text": [
      "https://algoexplorer.io/address/NSR5GKKVT2Y3OMNVDH5P4LPE3JA2OINRZJ4IPIBIIMRYSY7IZYTS5W5AT4\n",
      "https://testnet.algoexplorer.io/address/NSR5GKKVT2Y3OMNVDH5P4LPE3JA2OINRZJ4IPIBIIMRYSY7IZYTS5W5AT4\n"
     ]
    }
   ],
   "source": [
    "# Create a link to directly access your member account (remember to switch to testnet account)\n",
    "print('https://algoexplorer.io/address/'+member_i_algo['public'])\n",
    "print('https://testnet.algoexplorer.io/address/'+member_i_algo['public'])"
   ]
  },
  {
   "cell_type": "markdown",
   "metadata": {},
   "source": [
    "### Fund with testnet Algos\n",
    "- https://bank.testnet.algorand.network/\n",
    "- https://testnet.algoexplorer.io/dispenser"
   ]
  },
  {
   "cell_type": "code",
   "execution_count": 14,
   "metadata": {},
   "outputs": [
    {
     "data": {
      "text/plain": [
       "41122421"
      ]
     },
     "execution_count": 14,
     "metadata": {},
     "output_type": "execute_result"
    }
   ],
   "source": [
    "# Create the Algorand connection\n",
    "algod_token   = ''                                      # Only needed if we have our own server, \n",
    "algod_address = dict_credentials['algod_test']          # Or cred['algod_main'] \n",
    "purestake_token = dict_credentials['purestake_token']   # Authentication token pair {'X-Api-key': '(your token'}\n",
    "\n",
    "# Initialize the algod client\n",
    "algod_client = algod.AlgodClient(algod_token='', algod_address=dict_credentials['algod_test'], headers=purestake_token)\n",
    "\n",
    "# Verify connection\n",
    "algod_client.status()[\"last-round\"]"
   ]
  },
  {
   "cell_type": "code",
   "execution_count": 15,
   "metadata": {},
   "outputs": [
    {
     "name": "stdout",
     "output_type": "stream",
     "text": [
      "Address NSR5GKKVT2Y3OMNVDH5P4LPE3JA2OINRZJ4IPIBIIMRYSY7IZYTS5W5AT4 has 0.0 test algos\n"
     ]
    }
   ],
   "source": [
    "# Obtain information on our member Algos\n",
    "address = member_i_algo[\"public\"]\n",
    "\n",
    "algo_precision = 1e6\n",
    "algo_amount    = algod_client.account_info(address)[\"amount\"]/algo_precision # convert from microALGOs to ALGOs\n",
    "print(f\"Address {address} has {algo_amount} test algos\")"
   ]
  },
  {
   "cell_type": "code",
   "execution_count": null,
   "metadata": {},
   "outputs": [],
   "source": []
  },
  {
   "cell_type": "code",
   "execution_count": null,
   "metadata": {},
   "outputs": [],
   "source": []
  }
 ],
 "metadata": {
  "interpreter": {
   "hash": "6ab3cfc1a08079cd9e58bb08cbd6561c62cd7d0068dc1f2faebcef76d1292611"
  },
  "kernelspec": {
   "display_name": "Python 3.10.4 ('algorand-wsc')",
   "language": "python",
   "name": "python3"
  },
  "language_info": {
   "codemirror_mode": {
    "name": "ipython",
    "version": 3
   },
   "file_extension": ".py",
   "mimetype": "text/x-python",
   "name": "python",
   "nbconvert_exporter": "python",
   "pygments_lexer": "ipython3",
   "version": "3.11.4"
  }
 },
 "nbformat": 4,
 "nbformat_minor": 4
}
