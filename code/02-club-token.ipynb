{
 "cells": [
  {
   "cell_type": "markdown",
   "metadata": {},
   "source": [
    "# 02 - Create the voting token"
   ]
  },
  {
   "cell_type": "markdown",
   "metadata": {},
   "source": [
    "**Description**: the purpose of this notebook is to create the senate's coin that will be distributed to each of the member of the senate when a voting proposal pops up and the member wish to participate. The proposer is forced to deposit part of its stake to issue a proposal (in order to avoid spam, we would need to make this process costly). The voters (members of the senate) would need to spend some coins for voting, part of which would go to the validators as a transaction fee, and part would remain to the voting issuer as a contribution for partecipating into the ecosystem."
   ]
  },
  {
   "cell_type": "markdown",
   "metadata": {},
   "source": [
    "### 00 - Set-up"
   ]
  },
  {
   "cell_type": "code",
   "execution_count": 2,
   "metadata": {},
   "outputs": [
    {
     "name": "stdout",
     "output_type": "stream",
     "text": [
      "Requirement already satisfied: py-algorand-sdk in /Users/travaz/opt/anaconda3/lib/python3.9/site-packages (1.9.0)\n",
      "Requirement already satisfied: msgpack in /Users/travaz/opt/anaconda3/lib/python3.9/site-packages (from py-algorand-sdk) (1.0.2)\n",
      "Requirement already satisfied: pycryptodomex>=3.6.0 in /Users/travaz/opt/anaconda3/lib/python3.9/site-packages (from py-algorand-sdk) (3.14.1)\n",
      "Requirement already satisfied: pynacl in /Users/travaz/opt/anaconda3/lib/python3.9/site-packages (from py-algorand-sdk) (1.5.0)\n",
      "Requirement already satisfied: cffi>=1.4.1 in /Users/travaz/opt/anaconda3/lib/python3.9/site-packages (from pynacl->py-algorand-sdk) (1.14.6)\n",
      "Requirement already satisfied: pycparser in /Users/travaz/opt/anaconda3/lib/python3.9/site-packages (from cffi>=1.4.1->pynacl->py-algorand-sdk) (2.20)\n"
     ]
    }
   ],
   "source": [
    "# Make sure that the algorand-sdk is installed before executing the following jupyter notebook\n",
    "!pip install py-algorand-sdk"
   ]
  },
  {
   "cell_type": "markdown",
   "metadata": {},
   "source": [
    "### 01 - Imports\n",
    "Import the all the required methods and libraries to properly run this notebook "
   ]
  },
  {
   "cell_type": "code",
   "execution_count": 1,
   "id": "445a84cb-0361-41e1-84a1-544561d8eac0",
   "metadata": {},
   "outputs": [],
   "source": [
    "# Add \"algo_util.py\" to the list of available dependencies of the project\n",
    "import sys, os, json\n",
    "from pathlib import Path\n",
    "\n",
    "codepath = (Path( os.curdir ) / \"shared\").resolve()\n",
    "sys.path.append(str(codepath))"
   ]
  },
  {
   "cell_type": "code",
   "execution_count": 2,
   "metadata": {},
   "outputs": [],
   "source": [
    "# loading credential utility\n",
    "from algo_util import load_credentials \n",
    "\n",
    "# algo-sdk utilities\n",
    "from algosdk import account, mnemonic\n",
    "from algosdk.v2client import algod\n",
    "from algosdk.transaction import PaymentTxn\n",
    "from algosdk.transaction import AssetConfigTxn, AssetTransferTxn, AssetFreezeTxn\n",
    "import algosdk.error"
   ]
  },
  {
   "cell_type": "markdown",
   "metadata": {},
   "source": [
    "### 02 - Load parameters"
   ]
  },
  {
   "cell_type": "code",
   "execution_count": 3,
   "metadata": {},
   "outputs": [
    {
     "name": "stdout",
     "output_type": "stream",
     "text": [
      "32 members' credentials loaded from storage\n",
      "Loading also senate account credentials: FQYVLYY73LY723WD2462VDSM4UWA4FYA477V4E277JDQCDCN326QBCDPUI\n"
     ]
    }
   ],
   "source": [
    "# load credentials from storage\n",
    "credentials = load_credentials(file_name = \"credentials_temp\")\n",
    "\n",
    "print(f\"{len(credentials['members_credentials'])} members' credentials loaded from storage\")\n",
    "print(f\"Loading also senate account credentials: {credentials['usiv']['public']}\")"
   ]
  },
  {
   "cell_type": "code",
   "execution_count": 4,
   "metadata": {},
   "outputs": [
    {
     "name": "stdout",
     "output_type": "stream",
     "text": [
      "FQYVLYY73LY723WD2462VDSM4UWA4FYA477V4E277JDQCDCN326QBCDPUI\n"
     ]
    }
   ],
   "source": [
    "# load the account\n",
    "usiv = credentials[\"usiv\"]\n",
    "print(usiv[\"public\"])"
   ]
  },
  {
   "cell_type": "markdown",
   "metadata": {},
   "source": [
    "## 03 - Create the USIV token (ASA -> Algorand Standard Asset)\n",
    "This is our first token. The account USIV will create an asset called `USIV Coin`. \n",
    "\n",
    "During creation, we need to assign the following roles, which we will use later ...\n",
    "\n",
    "* **Manager:** can change the thre follwoing roles\n",
    "* **Reserve:** where not yet distributed assets reside\n",
    "* **Freeze:** can freeze assets (e.g. to wait for KYC)\n",
    "* **Clawback:** can undo transactions *if users have opted in*\n",
    "\n",
    "See https://developer.algorand.org/docs/features/asa/ "
   ]
  },
  {
   "cell_type": "code",
   "execution_count": 5,
   "metadata": {},
   "outputs": [],
   "source": [
    "# Initialize the algod client (Testnet or Mainnet)\n",
    "algod_client = algod.AlgodClient(\n",
    "    algod_token='', \n",
    "    algod_address=credentials['algod_test'], \n",
    "    headers=credentials['purestake_token']\n",
    ")"
   ]
  },
  {
   "cell_type": "markdown",
   "metadata": {},
   "source": [
    "### 03.1 - Setup the token configuration\n",
    "N.B:\n",
    "* Remember that tokens are divisible\n",
    "* We choose 2 decimals\n",
    "    * Our token can be divided into units as small as $\\frac{1}{10^2} = \\frac{1}{100} = 0.01$\n",
    "* To create 1000 tokens, we must create $1000 \\cdot 10^2$ *small units*\n",
    "* we also need to define the token specifics (name, unit, url, etc....)"
   ]
  },
  {
   "cell_type": "code",
   "execution_count": 6,
   "metadata": {},
   "outputs": [],
   "source": [
    "sp = algod_client.suggested_params()"
   ]
  },
  {
   "cell_type": "code",
   "execution_count": 7,
   "metadata": {},
   "outputs": [],
   "source": [
    "sp = algod_client.suggested_params()\n",
    "\n",
    "# token parameters\n",
    "token_supply    = 1000                                   # Token supply (big units)\n",
    "token_decimals  = 0                                     # Digits after the comma\n",
    "token_total     = token_supply * 10**token_decimals     # Specify number of SMALLER unit (\"cents\")\n",
    "\n",
    "token_name      = \"USIV Coin\"                           \n",
    "token_url       = \"https://usi.ch\"                     \n",
    "token_unit      = \"USIV\"                                # Abbreviation, e.g. shown in Algorand Wallet app  "
   ]
  },
  {
   "cell_type": "markdown",
   "metadata": {},
   "source": [
    "### 03.2 - Create the asset ('asset creation transaction')"
   ]
  },
  {
   "cell_type": "code",
   "execution_count": 8,
   "metadata": {},
   "outputs": [
    {
     "name": "stdout",
     "output_type": "stream",
     "text": [
      "{'sender': 'FQYVLYY73LY723WD2462VDSM4UWA4FYA477V4E277JDQCDCN326QBCDPUI', 'fee': 1000, 'first_valid_round': 41168408, 'last_valid_round': 41169408, 'note': None, 'genesis_id': 'testnet-v1.0', 'genesis_hash': 'SGO1GKSzyE7IEPItTxCByw9x8FmnrCDexi9/cOUJOiI=', 'group': None, 'lease': None, 'type': 'acfg', 'rekey_to': None, 'index': 0, 'total': 1000, 'default_frozen': False, 'unit_name': 'USIV', 'asset_name': 'USIV Coin', 'manager': 'FQYVLYY73LY723WD2462VDSM4UWA4FYA477V4E277JDQCDCN326QBCDPUI', 'reserve': 'FQYVLYY73LY723WD2462VDSM4UWA4FYA477V4E277JDQCDCN326QBCDPUI', 'freeze': 'FQYVLYY73LY723WD2462VDSM4UWA4FYA477V4E277JDQCDCN326QBCDPUI', 'clawback': 'FQYVLYY73LY723WD2462VDSM4UWA4FYA477V4E277JDQCDCN326QBCDPUI', 'url': 'https://usi.ch', 'metadata_hash': None, 'decimals': 0}\n"
     ]
    }
   ],
   "source": [
    "txn = AssetConfigTxn(\n",
    "    sender=usiv['public'],                      # Creator of the ASA\n",
    "    sp=sp,                      \n",
    "    total=token_total,                         # Total supply in SMALL unit\n",
    "    decimals=token_decimals,                   # Decimals\n",
    "    default_frozen=False,                      # Are tokens frozen by default?\n",
    "    unit_name=token_unit,                      # Abbreviation     \n",
    "    asset_name=token_name,                     # Name\n",
    "    url=token_url,                             # URL\n",
    "    manager=usiv['public'],                     # Special roles\n",
    "    reserve=usiv['public'],                     # Special roles\n",
    "    freeze=usiv['public'],                      # Special roles\n",
    "    clawback=usiv['public']                     # Special roles\n",
    ")\n",
    "print(txn)"
   ]
  },
  {
   "cell_type": "markdown",
   "metadata": {},
   "source": [
    "### 03.3 - Sign and send"
   ]
  },
  {
   "cell_type": "code",
   "execution_count": 9,
   "metadata": {},
   "outputs": [
    {
     "name": "stdout",
     "output_type": "stream",
     "text": [
      "WTWY772IMFOOQGGRF4NOETQY72VBDGCSCNEMKWJTKJU7JI5RUELA\n"
     ]
    }
   ],
   "source": [
    "stxn = txn.sign(usiv['private'])             # Sign\n",
    "txid = algod_client.send_transaction(stxn)     # Send\n",
    "print(txid)"
   ]
  },
  {
   "cell_type": "markdown",
   "metadata": {},
   "source": [
    "### 03.4 - Wait for confirmation"
   ]
  },
  {
   "cell_type": "code",
   "execution_count": 10,
   "metadata": {},
   "outputs": [
    {
     "name": "stdout",
     "output_type": "stream",
     "text": [
      "Current round is  41168409.\n",
      "Waiting for round 41168409 to finish.\n",
      "Waiting for round 41168410 to finish.\n",
      "Transaction WTWY772IMFOOQGGRF4NOETQY72VBDGCSCNEMKWJTKJU7JI5RUELA confirmed in round 41168411.\n"
     ]
    }
   ],
   "source": [
    "# Wait for the transaction to be confirmed\n",
    "from algo_util import wait_for_confirmation\n",
    "txinfo = wait_for_confirmation(algod_client,txid)"
   ]
  },
  {
   "cell_type": "markdown",
   "metadata": {},
   "source": [
    "### 03.5 - Asset statistics"
   ]
  },
  {
   "cell_type": "markdown",
   "metadata": {},
   "source": [
    "First, we need to memorize the index of the coin"
   ]
  },
  {
   "cell_type": "code",
   "execution_count": 11,
   "metadata": {},
   "outputs": [
    {
     "name": "stdout",
     "output_type": "stream",
     "text": [
      "685785113\n",
      "https://testnet.algoexplorer.io/asset/685785113\n"
     ]
    }
   ],
   "source": [
    "# Get the asset ID and open in Algoexplorer\n",
    "USIV_id = txinfo['asset-index']\n",
    "print(USIV_id)\n",
    "print(f'https://testnet.algoexplorer.io/asset/{USIV_id}')"
   ]
  },
  {
   "cell_type": "code",
   "execution_count": 12,
   "metadata": {},
   "outputs": [],
   "source": [
    "# Path to the newly generate credential (temporary file)\n",
    "credential_path = (Path( os.curdir ) / \"..\" / \"assets\" / \"token\" / \"token_info\" ).resolve()\n",
    "\n",
    "# dictionary containing info about the token\n",
    "token_info = {\n",
    "    \"index\": USIV_id,\n",
    "    \"name\": token_name,\n",
    "    \"unit\": token_unit,\n",
    "    \"supply\": token_supply,\n",
    "    \"decimals\": token_decimals\n",
    "}\n",
    "\n",
    "with open(credential_path, 'w') as outfile:\n",
    "    outfile.write(json.dumps(token_info))"
   ]
  },
  {
   "cell_type": "code",
   "execution_count": 13,
   "metadata": {},
   "outputs": [
    {
     "name": "stdout",
     "output_type": "stream",
     "text": [
      "{'address': 'FQYVLYY73LY723WD2462VDSM4UWA4FYA477V4E277JDQCDCN326QBCDPUI', 'amount': 19746000, 'amount-without-pending-rewards': 19746000, 'apps-local-state': [], 'apps-total-schema': {'num-byte-slice': 52, 'num-uint': 130}, 'assets': [{'amount': 0, 'asset-id': 683766647, 'is-frozen': False}, {'amount': 998, 'asset-id': 684625427, 'is-frozen': False}, {'amount': 1000, 'asset-id': 685785113, 'is-frozen': False}], 'created-apps': [{'id': 683790887, 'params': {'approval-program': 'BSADAAEgJggKVG90YWxWb3RlcwhJbiBmYXZvcgdBZ2FpbnN0B1ZlcmRpY3QKVG90YWxPcHRJbghIYXNWb3RlZANZZXMDVGllMRgiEkAA5DEZIxJAAMUxGSISQAAnMRmBAhJAAB0xGYEEEkAADzEZgQUSQAABADEAMgkSQzEAMgkSQyNDKGQkDkQxAoHuhM0TDDEEge7+zhMNEUAAfCInBWInBhJAAHA2GgA2GgBkIwhnMQAnBScGZigoZCMIZyhkJBJAAAIjQylkKmQNQAA5KmQpZA1AACIpZCpkEkAAEyNAAAEAgAZXaW5uZXInB2dC/9MrJwdnQv/MK4AIUmVqZWN0ZWRnQv+9K4AIQXBwcm92ZWRnQv+uIkMiQycEZCQORCInBYACTm9mJwQnBGQjCGcjQzEAgCAsMVXjH9rx/W7D1z2qjkzlLA4XAOf/XhNf+kcBDE3evRJEgAhWb3RlSW5mb4A1Rm9yIGVhY2ggcHJvcG9zYWwsIHZvdGUgaW4gZmF2b3IsIGFnYWluc3QsIG9yIGFic3RhaW5nK4AAZycEImcoImcpImcqImeACUFic3RhaW5lZCJnI0M=', 'clear-state-program': 'BYEBQw==', 'creator': 'FQYVLYY73LY723WD2462VDSM4UWA4FYA477V4E277JDQCDCN326QBCDPUI', 'global-state': [{'key': 'SW4gZmF2b3I=', 'value': {'bytes': '', 'type': 2, 'uint': 12}}, {'key': 'VG90YWxPcHRJbg==', 'value': {'bytes': '', 'type': 2, 'uint': 32}}, {'key': 'VG90YWxWb3Rlcw==', 'value': {'bytes': '', 'type': 2, 'uint': 32}}, {'key': 'VmVyZGljdA==', 'value': {'bytes': 'QXBwcm92ZWQ=', 'type': 1, 'uint': 0}}, {'key': 'QWJzdGFpbmVk', 'value': {'bytes': '', 'type': 2, 'uint': 12}}, {'key': 'Vm90ZUluZm8=', 'value': {'bytes': 'Rm9yIGVhY2ggcHJvcG9zYWwsIHZvdGUgaW4gZmF2b3IsIGFnYWluc3QsIG9yIGFic3RhaW4=', 'type': 1, 'uint': 0}}, {'key': 'QWdhaW5zdA==', 'value': {'bytes': '', 'type': 2, 'uint': 8}}], 'global-state-schema': {'num-byte-slice': 2, 'num-uint': 5}, 'local-state-schema': {'num-byte-slice': 1, 'num-uint': 0}}}, {'id': 683806882, 'params': {'approval-program': 'BSADAAEgJggKVG90YWxWb3RlcwhJbiBmYXZvcgdBZ2FpbnN0B1ZlcmRpY3QKVG90YWxPcHRJbghIYXNWb3RlZANZZXMDVGllMRgiEkAA5DEZIxJAAMUxGSISQAAnMRmBAhJAAB0xGYEEEkAADzEZgQUSQAABADEAMgkSQzEAMgkSQyNDKGQkDkQxAoHiiM0TDDEEgeKCzxMNEUAAfCInBWInBhJAAHA2GgA2GgBkIwhnMQAnBScGZigoZCMIZyhkJBJAAAIjQylkKmQNQAA5KmQpZA1AACIpZCpkEkAAEyNAAAEAgAZXaW5uZXInB2dC/9MrJwdnQv/MK4AIUmVqZWN0ZWRnQv+9K4AIQXBwcm92ZWRnQv+uIkMiQycEZCQORCInBYACTm9mJwQnBGQjCGcjQzEAgCAsMVXjH9rx/W7D1z2qjkzlLA4XAOf/XhNf+kcBDE3evRJEgAhWb3RlSW5mb4A1Rm9yIGVhY2ggcHJvcG9zYWwsIHZvdGUgaW4gZmF2b3IsIGFnYWluc3QsIG9yIGFic3RhaW5nK4AAZycEImcoImcpImcqImeACUFic3RhaW5lZCJnI0M=', 'clear-state-program': 'BYEBQw==', 'creator': 'FQYVLYY73LY723WD2462VDSM4UWA4FYA477V4E277JDQCDCN326QBCDPUI', 'global-state': [{'key': 'QWdhaW5zdA==', 'value': {'bytes': '', 'type': 2, 'uint': 13}}, {'key': 'SW4gZmF2b3I=', 'value': {'bytes': '', 'type': 2, 'uint': 10}}, {'key': 'VG90YWxPcHRJbg==', 'value': {'bytes': '', 'type': 2, 'uint': 32}}, {'key': 'VG90YWxWb3Rlcw==', 'value': {'bytes': '', 'type': 2, 'uint': 32}}, {'key': 'VmVyZGljdA==', 'value': {'bytes': 'UmVqZWN0ZWQ=', 'type': 1, 'uint': 0}}, {'key': 'QWJzdGFpbmVk', 'value': {'bytes': '', 'type': 2, 'uint': 9}}, {'key': 'Vm90ZUluZm8=', 'value': {'bytes': 'Rm9yIGVhY2ggcHJvcG9zYWwsIHZvdGUgaW4gZmF2b3IsIGFnYWluc3QsIG9yIGFic3RhaW4=', 'type': 1, 'uint': 0}}], 'global-state-schema': {'num-byte-slice': 2, 'num-uint': 5}, 'local-state-schema': {'num-byte-slice': 1, 'num-uint': 0}}}, {'id': 684198602, 'params': {'approval-program': 'BSADAAEgJggKVG90YWxWb3RlcwhJbiBmYXZvcgdBZ2FpbnN0B1ZlcmRpY3QKVG90YWxPcHRJbghIYXNWb3RlZANZZXMDVGllMRgiEkAA5DEZIxJAAMUxGSISQAAnMRmBAhJAAB0xGYEEEkAADzEZgQUSQAABADEAMgkSQzEAMgkSQyNDKGQkDkQxAoH/5c0TDDEEgf/fzxMNEUAAfCInBWInBhJAAHA2GgA2GgBkIwhnMQAnBScGZigoZCMIZyhkJBJAAAIjQylkKmQNQAA5KmQpZA1AACIpZCpkEkAAEyNAAAEAgAZXaW5uZXInB2dC/9MrJwdnQv/MK4AIUmVqZWN0ZWRnQv+9K4AIQXBwcm92ZWRnQv+uIkMiQycEZCQORCInBYACTm9mJwQnBGQjCGcjQzEAgCAsMVXjH9rx/W7D1z2qjkzlLA4XAOf/XhNf+kcBDE3evRJEgAhWb3RlSW5mb4A1Rm9yIGVhY2ggcHJvcG9zYWwsIHZvdGUgaW4gZmF2b3IsIGFnYWluc3QsIG9yIGFic3RhaW5nK4AAZycEImcoImcpImcqImeACUFic3RhaW5lZCJnI0M=', 'clear-state-program': 'BYEBQw==', 'creator': 'FQYVLYY73LY723WD2462VDSM4UWA4FYA477V4E277JDQCDCN326QBCDPUI', 'global-state': [{'key': 'QWdhaW5zdA==', 'value': {'bytes': '', 'type': 2, 'uint': 0}}, {'key': 'SW4gZmF2b3I=', 'value': {'bytes': '', 'type': 2, 'uint': 0}}, {'key': 'VG90YWxPcHRJbg==', 'value': {'bytes': '', 'type': 2, 'uint': 0}}, {'key': 'VG90YWxWb3Rlcw==', 'value': {'bytes': '', 'type': 2, 'uint': 0}}, {'key': 'VmVyZGljdA==', 'value': {'bytes': '', 'type': 1, 'uint': 0}}, {'key': 'QWJzdGFpbmVk', 'value': {'bytes': '', 'type': 2, 'uint': 0}}, {'key': 'Vm90ZUluZm8=', 'value': {'bytes': 'Rm9yIGVhY2ggcHJvcG9zYWwsIHZvdGUgaW4gZmF2b3IsIGFnYWluc3QsIG9yIGFic3RhaW4=', 'type': 1, 'uint': 0}}], 'global-state-schema': {'num-byte-slice': 2, 'num-uint': 5}, 'local-state-schema': {'num-byte-slice': 1, 'num-uint': 0}}}, {'id': 684274732, 'params': {'approval-program': 'BSADAAEmJggKVG90YWxWb3RlcwhJbiBmYXZvcgdBZ2FpbnN0B1ZlcmRpY3QKVG90YWxPcHRJbghIYXNWb3RlZANZZXMDVGllMRgiEkAA5DEZIxJAAMUxGSISQAAnMRmBAhJAAB0xGYEEEkAADzEZgQUSQAABADEAMgkSQzEAMgkSQyNDKGQkDkQxAoH6980TDDEEgeqg0BMNEUAAfCInBWInBhJAAHA2GgA2GgBkIwhnMQAnBScGZigoZCMIZyhkJBJAAAIjQylkKmQNQAA5KmQpZA1AACIpZCpkEkAAEyNAAAEAgAZXaW5uZXInB2dC/9MrJwdnQv/MK4AIUmVqZWN0ZWRnQv+9K4AIQXBwcm92ZWRnQv+uIkMiQycEZCQORCInBYACTm9mJwQnBGQjCGcjQzEAgCAsMVXjH9rx/W7D1z2qjkzlLA4XAOf/XhNf+kcBDE3evRJEgAhWb3RlSW5mb4A1Rm9yIGVhY2ggcHJvcG9zYWwsIHZvdGUgaW4gZmF2b3IsIGFnYWluc3QsIG9yIGFic3RhaW5nK4AAZycEImcoImcpImcqImeACUFic3RhaW5lZCJnI0M=', 'clear-state-program': 'BYEBQw==', 'creator': 'FQYVLYY73LY723WD2462VDSM4UWA4FYA477V4E277JDQCDCN326QBCDPUI', 'global-state': [{'key': 'QWJzdGFpbmVk', 'value': {'bytes': '', 'type': 2, 'uint': 0}}, {'key': 'Vm90ZUluZm8=', 'value': {'bytes': 'Rm9yIGVhY2ggcHJvcG9zYWwsIHZvdGUgaW4gZmF2b3IsIGFnYWluc3QsIG9yIGFic3RhaW4=', 'type': 1, 'uint': 0}}, {'key': 'QWdhaW5zdA==', 'value': {'bytes': '', 'type': 2, 'uint': 0}}, {'key': 'SW4gZmF2b3I=', 'value': {'bytes': '', 'type': 2, 'uint': 0}}, {'key': 'VG90YWxPcHRJbg==', 'value': {'bytes': '', 'type': 2, 'uint': 20}}, {'key': 'VG90YWxWb3Rlcw==', 'value': {'bytes': '', 'type': 2, 'uint': 0}}, {'key': 'VmVyZGljdA==', 'value': {'bytes': '', 'type': 1, 'uint': 0}}], 'global-state-schema': {'num-byte-slice': 2, 'num-uint': 5}, 'local-state-schema': {'num-byte-slice': 1, 'num-uint': 0}}}, {'id': 684281710, 'params': {'approval-program': 'BSADAAEmJggKVG90YWxWb3RlcwhJbiBmYXZvcgdBZ2FpbnN0B1ZlcmRpY3QKVG90YWxPcHRJbghIYXNWb3RlZANZZXMDVGllMRgiEkAA5DEZIxJAAMUxGSISQAAnMRmBAhJAAB0xGYEEEkAADzEZgQUSQAABADEAMgkSQzEAMgkSQyNDKGQkDkQxAoHb+c0TDDEEgcui0BMNEUAAfCInBWInBhJAAHA2GgA2GgBkIwhnMQAnBScGZigoZCMIZyhkJBJAAAIjQylkKmQNQAA5KmQpZA1AACIpZCpkEkAAEyNAAAEAgAZXaW5uZXInB2dC/9MrJwdnQv/MK4AIUmVqZWN0ZWRnQv+9K4AIQXBwcm92ZWRnQv+uIkMiQycEZCQORCInBYACTm9mJwQnBGQjCGcjQzEAgCAsMVXjH9rx/W7D1z2qjkzlLA4XAOf/XhNf+kcBDE3evRJEgAhWb3RlSW5mb4A1Rm9yIGVhY2ggcHJvcG9zYWwsIHZvdGUgaW4gZmF2b3IsIGFnYWluc3QsIG9yIGFic3RhaW5nK4AAZycEImcoImcpImcqImeACUFic3RhaW5lZCJnI0M=', 'clear-state-program': 'BYEBQw==', 'creator': 'FQYVLYY73LY723WD2462VDSM4UWA4FYA477V4E277JDQCDCN326QBCDPUI', 'global-state': [{'key': 'QWJzdGFpbmVk', 'value': {'bytes': '', 'type': 2, 'uint': 0}}, {'key': 'Vm90ZUluZm8=', 'value': {'bytes': 'Rm9yIGVhY2ggcHJvcG9zYWwsIHZvdGUgaW4gZmF2b3IsIGFnYWluc3QsIG9yIGFic3RhaW4=', 'type': 1, 'uint': 0}}, {'key': 'QWdhaW5zdA==', 'value': {'bytes': '', 'type': 2, 'uint': 0}}, {'key': 'SW4gZmF2b3I=', 'value': {'bytes': '', 'type': 2, 'uint': 0}}, {'key': 'VG90YWxPcHRJbg==', 'value': {'bytes': '', 'type': 2, 'uint': 4}}, {'key': 'VG90YWxWb3Rlcw==', 'value': {'bytes': '', 'type': 2, 'uint': 0}}, {'key': 'VmVyZGljdA==', 'value': {'bytes': '', 'type': 1, 'uint': 0}}], 'global-state-schema': {'num-byte-slice': 2, 'num-uint': 5}, 'local-state-schema': {'num-byte-slice': 1, 'num-uint': 0}}}, {'id': 684291642, 'params': {'approval-program': 'BSADAAEmJggKVG90YWxWb3RlcwhJbiBmYXZvcgdBZ2FpbnN0B1ZlcmRpY3QKVG90YWxPcHRJbghIYXNWb3RlZANZZXMDVGllMRgiEkAA5DEZIxJAAMUxGSISQAAnMRmBAhJAAB0xGYEEEkAADzEZgQUSQAABADEAMgkSQzEAMgkSQyNDKGQkDkQxAoGZ/M0TDDEEgYml0BMNEUAAfCInBWInBhJAAHA2GgA2GgBkIwhnMQAnBScGZigoZCMIZyhkJBJAAAIjQylkKmQNQAA5KmQpZA1AACIpZCpkEkAAEyNAAAEAgAZXaW5uZXInB2dC/9MrJwdnQv/MK4AIUmVqZWN0ZWRnQv+9K4AIQXBwcm92ZWRnQv+uIkMiQycEZCQORCInBYACTm9mJwQnBGQjCGcjQzEAgCAsMVXjH9rx/W7D1z2qjkzlLA4XAOf/XhNf+kcBDE3evRJEgAhWb3RlSW5mb4A1Rm9yIGVhY2ggcHJvcG9zYWwsIHZvdGUgaW4gZmF2b3IsIGFnYWluc3QsIG9yIGFic3RhaW5nK4AAZycEImcoImcpImcqImeACUFic3RhaW5lZCJnI0M=', 'clear-state-program': 'BYEBQw==', 'creator': 'FQYVLYY73LY723WD2462VDSM4UWA4FYA477V4E277JDQCDCN326QBCDPUI', 'global-state': [{'key': 'QWJzdGFpbmVk', 'value': {'bytes': '', 'type': 2, 'uint': 0}}, {'key': 'QWdhaW5zdA==', 'value': {'bytes': '', 'type': 2, 'uint': 0}}, {'key': 'SW4gZmF2b3I=', 'value': {'bytes': '', 'type': 2, 'uint': 0}}, {'key': 'VG90YWxPcHRJbg==', 'value': {'bytes': '', 'type': 2, 'uint': 26}}, {'key': 'VG90YWxWb3Rlcw==', 'value': {'bytes': '', 'type': 2, 'uint': 0}}, {'key': 'VmVyZGljdA==', 'value': {'bytes': '', 'type': 1, 'uint': 0}}, {'key': 'Vm90ZUluZm8=', 'value': {'bytes': 'Rm9yIGVhY2ggcHJvcG9zYWwsIHZvdGUgaW4gZmF2b3IsIGFnYWluc3QsIG9yIGFic3RhaW4=', 'type': 1, 'uint': 0}}], 'global-state-schema': {'num-byte-slice': 2, 'num-uint': 5}, 'local-state-schema': {'num-byte-slice': 1, 'num-uint': 0}}}, {'id': 684296718, 'params': {'approval-program': 'BSADAAEmJggKVG90YWxWb3RlcwhJbiBmYXZvcgdBZ2FpbnN0B1ZlcmRpY3QKVG90YWxPcHRJbghIYXNWb3RlZANZZXMDVGllMRgiEkAA5DEZIxJAAMUxGSISQAAnMRmBAhJAAB0xGYEEEkAADzEZgQUSQAABADEAMgkSQzEAMgkSQyNDKGQkDkQxAoG0/c0TDDEEgaSm0BMNEUAAfCInBWInBhJAAHA2GgA2GgBkIwhnMQAnBScGZigoZCMIZyhkJBJAAAIjQylkKmQNQAA5KmQpZA1AACIpZCpkEkAAEyNAAAEAgAZXaW5uZXInB2dC/9MrJwdnQv/MK4AIUmVqZWN0ZWRnQv+9K4AIQXBwcm92ZWRnQv+uIkMiQycEZCQORCInBYACTm9mJwQnBGQjCGcjQzEAgCAsMVXjH9rx/W7D1z2qjkzlLA4XAOf/XhNf+kcBDE3evRJEgAhWb3RlSW5mb4A1Rm9yIGVhY2ggcHJvcG9zYWwsIHZvdGUgaW4gZmF2b3IsIGFnYWluc3QsIG9yIGFic3RhaW5nK4AAZycEImcoImcpImcqImeACUFic3RhaW5lZCJnI0M=', 'clear-state-program': 'BYEBQw==', 'creator': 'FQYVLYY73LY723WD2462VDSM4UWA4FYA477V4E277JDQCDCN326QBCDPUI', 'global-state': [{'key': 'VmVyZGljdA==', 'value': {'bytes': '', 'type': 1, 'uint': 0}}, {'key': 'QWJzdGFpbmVk', 'value': {'bytes': '', 'type': 2, 'uint': 0}}, {'key': 'Vm90ZUluZm8=', 'value': {'bytes': 'Rm9yIGVhY2ggcHJvcG9zYWwsIHZvdGUgaW4gZmF2b3IsIGFnYWluc3QsIG9yIGFic3RhaW4=', 'type': 1, 'uint': 0}}, {'key': 'QWdhaW5zdA==', 'value': {'bytes': '', 'type': 2, 'uint': 0}}, {'key': 'SW4gZmF2b3I=', 'value': {'bytes': '', 'type': 2, 'uint': 0}}, {'key': 'VG90YWxPcHRJbg==', 'value': {'bytes': '', 'type': 2, 'uint': 38}}, {'key': 'VG90YWxWb3Rlcw==', 'value': {'bytes': '', 'type': 2, 'uint': 0}}], 'global-state-schema': {'num-byte-slice': 2, 'num-uint': 5}, 'local-state-schema': {'num-byte-slice': 1, 'num-uint': 0}}}, {'id': 684313991, 'params': {'approval-program': 'BSADAAEmJggKVG90YWxWb3RlcwhJbiBmYXZvcgdBZ2FpbnN0B1ZlcmRpY3QKVG90YWxPcHRJbghIYXNWb3RlZANZZXMDVGllMRgiEkAA5DEZIxJAAMUxGSISQAAnMRmBAhJAAB0xGYEEEkAADzEZgQUSQAABADEAMgkSQzEAMgkSQyNDKGQkDkQxAoGmgc4TDDEEgZaq0BMNEUAAfCInBWInBhJAAHA2GgA2GgBkIwhnMQAnBScGZigoZCMIZyhkJBJAAAIjQylkKmQNQAA5KmQpZA1AACIpZCpkEkAAEyNAAAEAgAZXaW5uZXInB2dC/9MrJwdnQv/MK4AIUmVqZWN0ZWRnQv+9K4AIQXBwcm92ZWRnQv+uIkMiQycEZCQORCInBYACTm9mJwQnBGQjCGcjQzEAgCAsMVXjH9rx/W7D1z2qjkzlLA4XAOf/XhNf+kcBDE3evRJEgAhWb3RlSW5mb4A1Rm9yIGVhY2ggcHJvcG9zYWwsIHZvdGUgaW4gZmF2b3IsIGFnYWluc3QsIG9yIGFic3RhaW5nK4AAZycEImcoImcpImcqImeACUFic3RhaW5lZCJnI0M=', 'clear-state-program': 'BYEBQw==', 'creator': 'FQYVLYY73LY723WD2462VDSM4UWA4FYA477V4E277JDQCDCN326QBCDPUI', 'global-state': [{'key': 'QWdhaW5zdA==', 'value': {'bytes': '', 'type': 2, 'uint': 0}}, {'key': 'SW4gZmF2b3I=', 'value': {'bytes': '', 'type': 2, 'uint': 0}}, {'key': 'VG90YWxPcHRJbg==', 'value': {'bytes': '', 'type': 2, 'uint': 38}}, {'key': 'VG90YWxWb3Rlcw==', 'value': {'bytes': '', 'type': 2, 'uint': 0}}, {'key': 'VmVyZGljdA==', 'value': {'bytes': '', 'type': 1, 'uint': 0}}, {'key': 'QWJzdGFpbmVk', 'value': {'bytes': '', 'type': 2, 'uint': 0}}, {'key': 'Vm90ZUluZm8=', 'value': {'bytes': 'Rm9yIGVhY2ggcHJvcG9zYWwsIHZvdGUgaW4gZmF2b3IsIGFnYWluc3QsIG9yIGFic3RhaW4=', 'type': 1, 'uint': 0}}], 'global-state-schema': {'num-byte-slice': 2, 'num-uint': 5}, 'local-state-schema': {'num-byte-slice': 1, 'num-uint': 0}}}, {'id': 684320656, 'params': {'approval-program': 'BSADAAEmJggKVG90YWxWb3RlcwhJbiBmYXZvcgdBZ2FpbnN0B1ZlcmRpY3QKVG90YWxPcHRJbghIYXNWb3RlZANZZXMDVGllMRgiEkAA5DEZIxJAAMUxGSISQAAnMRmBAhJAAB0xGYEEEkAADzEZgQUSQAABADEAMgkSQzEAMgkSQyNDKGQkDkQxAoHvgs4TDDEEgd+r0BMNEUAAfCInBWInBhJAAHA2GgA2GgBkIwhnMQAnBScGZigoZCMIZyhkJBJAAAIjQylkKmQNQAA5KmQpZA1AACIpZCpkEkAAEyNAAAEAgAZXaW5uZXInB2dC/9MrJwdnQv/MK4AIUmVqZWN0ZWRnQv+9K4AIQXBwcm92ZWRnQv+uIkMiQycEZCQORCInBYACTm9mJwQnBGQjCGcjQzEAgCAsMVXjH9rx/W7D1z2qjkzlLA4XAOf/XhNf+kcBDE3evRJEgAhWb3RlSW5mb4A1Rm9yIGVhY2ggcHJvcG9zYWwsIHZvdGUgaW4gZmF2b3IsIGFnYWluc3QsIG9yIGFic3RhaW5nK4AAZycEImcoImcpImcqImeACUFic3RhaW5lZCJnI0M=', 'clear-state-program': 'BYEBQw==', 'creator': 'FQYVLYY73LY723WD2462VDSM4UWA4FYA477V4E277JDQCDCN326QBCDPUI', 'global-state': [{'key': 'QWdhaW5zdA==', 'value': {'bytes': '', 'type': 2, 'uint': 0}}, {'key': 'SW4gZmF2b3I=', 'value': {'bytes': '', 'type': 2, 'uint': 0}}, {'key': 'VG90YWxPcHRJbg==', 'value': {'bytes': '', 'type': 2, 'uint': 38}}, {'key': 'VG90YWxWb3Rlcw==', 'value': {'bytes': '', 'type': 2, 'uint': 0}}, {'key': 'VmVyZGljdA==', 'value': {'bytes': '', 'type': 1, 'uint': 0}}, {'key': 'QWJzdGFpbmVk', 'value': {'bytes': '', 'type': 2, 'uint': 0}}, {'key': 'Vm90ZUluZm8=', 'value': {'bytes': 'Rm9yIGVhY2ggcHJvcG9zYWwsIHZvdGUgaW4gZmF2b3IsIGFnYWluc3QsIG9yIGFic3RhaW4=', 'type': 1, 'uint': 0}}], 'global-state-schema': {'num-byte-slice': 2, 'num-uint': 5}, 'local-state-schema': {'num-byte-slice': 1, 'num-uint': 0}}}, {'id': 684340978, 'params': {'approval-program': 'BSADAAEmJggKVG90YWxWb3RlcwhJbiBmYXZvcgdBZ2FpbnN0B1ZlcmRpY3QKVG90YWxPcHRJbghIYXNWb3RlZANZZXMDVGllMRgiEkAA5DEZIxJAAMUxGSISQAAnMRmBAhJAAB0xGYEEEkAADzEZgQUSQAABADEAMgkSQzEAMgkSQyNDKGQkDkQxAoHih84TDDEEgdKw0BMNEUAAfCInBWInBhJAAHA2GgA2GgBkIwhnMQAnBScGZigoZCMIZyhkJBJAAAIjQylkKmQNQAA5KmQpZA1AACIpZCpkEkAAEyNAAAEAgAZXaW5uZXInB2dC/9MrJwdnQv/MK4AIUmVqZWN0ZWRnQv+9K4AIQXBwcm92ZWRnQv+uIkMiQycEZCQORCInBYACTm9mJwQnBGQjCGcjQzEAgCAsMVXjH9rx/W7D1z2qjkzlLA4XAOf/XhNf+kcBDE3evRJEgAhWb3RlSW5mb4A1Rm9yIGVhY2ggcHJvcG9zYWwsIHZvdGUgaW4gZmF2b3IsIGFnYWluc3QsIG9yIGFic3RhaW5nK4AAZycEImcoImcpImcqImeACUFic3RhaW5lZCJnI0M=', 'clear-state-program': 'BYEBQw==', 'creator': 'FQYVLYY73LY723WD2462VDSM4UWA4FYA477V4E277JDQCDCN326QBCDPUI', 'global-state': [{'key': 'QWdhaW5zdA==', 'value': {'bytes': '', 'type': 2, 'uint': 0}}, {'key': 'SW4gZmF2b3I=', 'value': {'bytes': '', 'type': 2, 'uint': 0}}, {'key': 'VG90YWxPcHRJbg==', 'value': {'bytes': '', 'type': 2, 'uint': 38}}, {'key': 'VG90YWxWb3Rlcw==', 'value': {'bytes': '', 'type': 2, 'uint': 0}}, {'key': 'VmVyZGljdA==', 'value': {'bytes': '', 'type': 1, 'uint': 0}}, {'key': 'QWJzdGFpbmVk', 'value': {'bytes': '', 'type': 2, 'uint': 0}}, {'key': 'Vm90ZUluZm8=', 'value': {'bytes': 'Rm9yIGVhY2ggcHJvcG9zYWwsIHZvdGUgaW4gZmF2b3IsIGFnYWluc3QsIG9yIGFic3RhaW4=', 'type': 1, 'uint': 0}}], 'global-state-schema': {'num-byte-slice': 2, 'num-uint': 5}, 'local-state-schema': {'num-byte-slice': 1, 'num-uint': 0}}}, {'id': 684408868, 'params': {'approval-program': 'BSADAAEgJggKVG90YWxWb3RlcwhJbiBmYXZvcgdBZ2FpbnN0B1ZlcmRpY3QKVG90YWxPcHRJbghIYXNWb3RlZANZZXMDVGllMRgiEkAA5DEZIxJAAMUxGSISQAAnMRmBAhJAAB0xGYEEEkAADzEZgQUSQAABADEAMgkSQzEAMgkSQyNDKGQkDkQxAoHOl84TDDEEgc6R0BMNEUAAfCInBWInBhJAAHA2GgA2GgBkIwhnMQAnBScGZigoZCMIZyhkJBJAAAIjQylkKmQNQAA5KmQpZA1AACIpZCpkEkAAEyNAAAEAgAZXaW5uZXInB2dC/9MrJwdnQv/MK4AIUmVqZWN0ZWRnQv+9K4AIQXBwcm92ZWRnQv+uIkMiQycEZCQORCInBYACTm9mJwQnBGQjCGcjQzEAgCAsMVXjH9rx/W7D1z2qjkzlLA4XAOf/XhNf+kcBDE3evRJEgAhWb3RlSW5mb4A1Rm9yIGVhY2ggcHJvcG9zYWwsIHZvdGUgaW4gZmF2b3IsIGFnYWluc3QsIG9yIGFic3RhaW5nK4AAZycEImcoImcpImcqImeACUFic3RhaW5lZCJnI0M=', 'clear-state-program': 'BYEBQw==', 'creator': 'FQYVLYY73LY723WD2462VDSM4UWA4FYA477V4E277JDQCDCN326QBCDPUI', 'global-state': [{'key': 'QWJzdGFpbmVk', 'value': {'bytes': '', 'type': 2, 'uint': 9}}, {'key': 'QWdhaW5zdA==', 'value': {'bytes': '', 'type': 2, 'uint': 12}}, {'key': 'SW4gZmF2b3I=', 'value': {'bytes': '', 'type': 2, 'uint': 8}}, {'key': 'VG90YWxPcHRJbg==', 'value': {'bytes': '', 'type': 2, 'uint': 32}}, {'key': 'VG90YWxWb3Rlcw==', 'value': {'bytes': '', 'type': 2, 'uint': 29}}, {'key': 'VmVyZGljdA==', 'value': {'bytes': '', 'type': 1, 'uint': 0}}, {'key': 'Vm90ZUluZm8=', 'value': {'bytes': 'Rm9yIGVhY2ggcHJvcG9zYWwsIHZvdGUgaW4gZmF2b3IsIGFnYWluc3QsIG9yIGFic3RhaW4=', 'type': 1, 'uint': 0}}], 'global-state-schema': {'num-byte-slice': 2, 'num-uint': 5}, 'local-state-schema': {'num-byte-slice': 1, 'num-uint': 0}}}, {'id': 684426001, 'params': {'approval-program': 'BSADAAEmJggKVG90YWxWb3RlcwhJbiBmYXZvcgdBZ2FpbnN0B1ZlcmRpY3QKVG90YWxPcHRJbghIYXNWb3RlZANZZXMDVGllMRgiEkAA5DEZIxJAAMUxGSISQAAnMRmBAhJAAB0xGYEEEkAADzEZgQUSQAABADEAMgkSQzEAMgkSQyNDKGQkDkQxAoHNm84TDDEEgb3E0BMNEUAAfCInBWInBhJAAHA2GgA2GgBkIwhnMQAnBScGZigoZCMIZyhkJBJAAAIjQylkKmQNQAA5KmQpZA1AACIpZCpkEkAAEyNAAAEAgAZXaW5uZXInB2dC/9MrJwdnQv/MK4AIUmVqZWN0ZWRnQv+9K4AIQXBwcm92ZWRnQv+uIkMiQycEZCQORCInBYACTm9mJwQnBGQjCGcjQzEAgCAsMVXjH9rx/W7D1z2qjkzlLA4XAOf/XhNf+kcBDE3evRJEgAhWb3RlSW5mb4A1Rm9yIGVhY2ggcHJvcG9zYWwsIHZvdGUgaW4gZmF2b3IsIGFnYWluc3QsIG9yIGFic3RhaW5nK4AAZycEImcoImcpImcqImeACUFic3RhaW5lZCJnI0M=', 'clear-state-program': 'BYEBQw==', 'creator': 'FQYVLYY73LY723WD2462VDSM4UWA4FYA477V4E277JDQCDCN326QBCDPUI', 'global-state': [{'key': 'QWJzdGFpbmVk', 'value': {'bytes': '', 'type': 2, 'uint': 0}}, {'key': 'QWdhaW5zdA==', 'value': {'bytes': '', 'type': 2, 'uint': 0}}, {'key': 'SW4gZmF2b3I=', 'value': {'bytes': '', 'type': 2, 'uint': 0}}, {'key': 'VG90YWxPcHRJbg==', 'value': {'bytes': '', 'type': 2, 'uint': 38}}, {'key': 'VG90YWxWb3Rlcw==', 'value': {'bytes': '', 'type': 2, 'uint': 0}}, {'key': 'VmVyZGljdA==', 'value': {'bytes': '', 'type': 1, 'uint': 0}}, {'key': 'Vm90ZUluZm8=', 'value': {'bytes': 'Rm9yIGVhY2ggcHJvcG9zYWwsIHZvdGUgaW4gZmF2b3IsIGFnYWluc3QsIG9yIGFic3RhaW4=', 'type': 1, 'uint': 0}}], 'global-state-schema': {'num-byte-slice': 2, 'num-uint': 5}, 'local-state-schema': {'num-byte-slice': 1, 'num-uint': 0}}}, {'id': 684513053, 'params': {'approval-program': 'BSADAAEmJggKVG90YWxWb3RlcwhJbiBmYXZvcgdBZ2FpbnN0B1ZlcmRpY3QKVG90YWxPcHRJbghIYXNWb3RlZANZZXMDVGllMRgiEkAA5DEZIxJAAMUxGSISQAAnMRmBAhJAAB0xGYEEEkAADzEZgQUSQAABADEAMgkSQzEAMgkSQyNDKGQkDkQxAoGssM4TDDEEgZzZ0BMNEUAAfCInBWInBhJAAHA2GgA2GgBkIwhnMQAnBScGZigoZCMIZyhkJBJAAAIjQylkKmQNQAA5KmQpZA1AACIpZCpkEkAAEyNAAAEAgAZXaW5uZXInB2dC/9MrJwdnQv/MK4AIUmVqZWN0ZWRnQv+9K4AIQXBwcm92ZWRnQv+uIkMiQycEZCQORCInBYACTm9mJwQnBGQjCGcjQzEAgCAsMVXjH9rx/W7D1z2qjkzlLA4XAOf/XhNf+kcBDE3evRJEgAhWb3RlSW5mb4A1Rm9yIGVhY2ggcHJvcG9zYWwsIHZvdGUgaW4gZmF2b3IsIGFnYWluc3QsIG9yIGFic3RhaW5nK4AAZycEImcoImcpImcqImeACUFic3RhaW5lZCJnI0M=', 'clear-state-program': 'BYEBQw==', 'creator': 'FQYVLYY73LY723WD2462VDSM4UWA4FYA477V4E277JDQCDCN326QBCDPUI', 'global-state': [{'key': 'QWJzdGFpbmVk', 'value': {'bytes': '', 'type': 2, 'uint': 0}}, {'key': 'QWdhaW5zdA==', 'value': {'bytes': '', 'type': 2, 'uint': 0}}, {'key': 'SW4gZmF2b3I=', 'value': {'bytes': '', 'type': 2, 'uint': 0}}, {'key': 'VG90YWxPcHRJbg==', 'value': {'bytes': '', 'type': 2, 'uint': 38}}, {'key': 'VG90YWxWb3Rlcw==', 'value': {'bytes': '', 'type': 2, 'uint': 0}}, {'key': 'VmVyZGljdA==', 'value': {'bytes': '', 'type': 1, 'uint': 0}}, {'key': 'Vm90ZUluZm8=', 'value': {'bytes': 'Rm9yIGVhY2ggcHJvcG9zYWwsIHZvdGUgaW4gZmF2b3IsIGFnYWluc3QsIG9yIGFic3RhaW4=', 'type': 1, 'uint': 0}}], 'global-state-schema': {'num-byte-slice': 2, 'num-uint': 5}, 'local-state-schema': {'num-byte-slice': 1, 'num-uint': 0}}}, {'id': 684531674, 'params': {'approval-program': 'BSADAAEgJggKVG90YWxWb3RlcwhJbiBmYXZvcgdBZ2FpbnN0B1ZlcmRpY3QKVG90YWxPcHRJbghIYXNWb3RlZANZZXMDVGllMRgiEkAA5DEZIxJAAMUxGSISQAAnMRmBAhJAAB0xGYEEEkAADzEZgQUSQAABADEAMgkSQzEAMgkSQyNDKGQkDkQxAoHrtM4TDDEEgeuu0BMNEUAAfCInBWInBhJAAHA2GgA2GgBkIwhnMQAnBScGZigoZCMIZyhkJBJAAAIjQylkKmQNQAA5KmQpZA1AACIpZCpkEkAAEyNAAAEAgAZXaW5uZXInB2dC/9MrJwdnQv/MK4AIUmVqZWN0ZWRnQv+9K4AIQXBwcm92ZWRnQv+uIkMiQycEZCQORCInBYACTm9mJwQnBGQjCGcjQzEAgCAsMVXjH9rx/W7D1z2qjkzlLA4XAOf/XhNf+kcBDE3evRJEgAhWb3RlSW5mb4A1Rm9yIGVhY2ggcHJvcG9zYWwsIHZvdGUgaW4gZmF2b3IsIGFnYWluc3QsIG9yIGFic3RhaW5nK4AAZycEImcoImcpImcqImeACUFic3RhaW5lZCJnI0M=', 'clear-state-program': 'BYEBQw==', 'creator': 'FQYVLYY73LY723WD2462VDSM4UWA4FYA477V4E277JDQCDCN326QBCDPUI', 'global-state': [{'key': 'QWJzdGFpbmVk', 'value': {'bytes': '', 'type': 2, 'uint': 4}}, {'key': 'QWdhaW5zdA==', 'value': {'bytes': '', 'type': 2, 'uint': 18}}, {'key': 'SW4gZmF2b3I=', 'value': {'bytes': '', 'type': 2, 'uint': 6}}, {'key': 'VG90YWxPcHRJbg==', 'value': {'bytes': '', 'type': 2, 'uint': 32}}, {'key': 'VG90YWxWb3Rlcw==', 'value': {'bytes': '', 'type': 2, 'uint': 28}}, {'key': 'VmVyZGljdA==', 'value': {'bytes': '', 'type': 1, 'uint': 0}}, {'key': 'Vm90ZUluZm8=', 'value': {'bytes': 'Rm9yIGVhY2ggcHJvcG9zYWwsIHZvdGUgaW4gZmF2b3IsIGFnYWluc3QsIG9yIGFic3RhaW4=', 'type': 1, 'uint': 0}}], 'global-state-schema': {'num-byte-slice': 2, 'num-uint': 5}, 'local-state-schema': {'num-byte-slice': 1, 'num-uint': 0}}}, {'id': 684636235, 'params': {'approval-program': 'BSADAAEgJggKVG90YWxWb3RlcwhJbiBmYXZvcgdBZ2FpbnN0B1ZlcmRpY3QKVG90YWxPcHRJbghIYXNWb3RlZANZZXMDVGllMRgiEkAA5DEZIxJAAMUxGSISQAAnMRmBAhJAAB0xGYEEEkAADzEZgQUSQAABADEAMgkSQzEAMgkSQyNDKGQkDkQxAoHXzc4TDDEEgdfH0BMNEUAAfCInBWInBhJAAHA2GgA2GgBkIwhnMQAnBScGZigoZCMIZyhkJBJAAAIjQylkKmQNQAA5KmQpZA1AACIpZCpkEkAAEyNAAAEAgAZXaW5uZXInB2dC/9MrJwdnQv/MK4AIUmVqZWN0ZWRnQv+9K4AIQXBwcm92ZWRnQv+uIkMiQycEZCQORCInBYACTm9mJwQnBGQjCGcjQzEAgCAsMVXjH9rx/W7D1z2qjkzlLA4XAOf/XhNf+kcBDE3evRJEgAhWb3RlSW5mb4A1Rm9yIGVhY2ggcHJvcG9zYWwsIHZvdGUgaW4gZmF2b3IsIGFnYWluc3QsIG9yIGFic3RhaW5nK4AAZycEImcoImcpImcqImeACUFic3RhaW5lZCJnI0M=', 'clear-state-program': 'BYEBQw==', 'creator': 'FQYVLYY73LY723WD2462VDSM4UWA4FYA477V4E277JDQCDCN326QBCDPUI', 'global-state': [{'key': 'SW4gZmF2b3I=', 'value': {'bytes': '', 'type': 2, 'uint': 7}}, {'key': 'VG90YWxPcHRJbg==', 'value': {'bytes': '', 'type': 2, 'uint': 32}}, {'key': 'VG90YWxWb3Rlcw==', 'value': {'bytes': '', 'type': 2, 'uint': 32}}, {'key': 'VmVyZGljdA==', 'value': {'bytes': 'UmVqZWN0ZWQ=', 'type': 1, 'uint': 0}}, {'key': 'QWJzdGFpbmVk', 'value': {'bytes': '', 'type': 2, 'uint': 10}}, {'key': 'Vm90ZUluZm8=', 'value': {'bytes': 'Rm9yIGVhY2ggcHJvcG9zYWwsIHZvdGUgaW4gZmF2b3IsIGFnYWluc3QsIG9yIGFic3RhaW4=', 'type': 1, 'uint': 0}}, {'key': 'QWdhaW5zdA==', 'value': {'bytes': '', 'type': 2, 'uint': 15}}], 'global-state-schema': {'num-byte-slice': 2, 'num-uint': 5}, 'local-state-schema': {'num-byte-slice': 1, 'num-uint': 0}}}, {'id': 685301459, 'params': {'approval-program': 'BSADAAEgJggKVG90YWxWb3RlcwhJbiBmYXZvcgdBZ2FpbnN0B1ZlcmRpY3QKVG90YWxPcHRJbghIYXNWb3RlZANZZXMDVGllMRgiEkAA5DEZIxJAAMUxGSISQAAnMRmBAhJAAB0xGYEEEkAADzEZgQUSQAABADEAMgkSQzEAMgkSQyNDKGQkDkQxAoHC6M8TDDEEgcLi0RMNEUAAfCInBWInBhJAAHA2GgA2GgBkIwhnMQAnBScGZigoZCMIZyhkJBJAAAIjQylkKmQNQAA5KmQpZA1AACIpZCpkEkAAEyNAAAEAgAZXaW5uZXInB2dC/9MrJwdnQv/MK4AIUmVqZWN0ZWRnQv+9K4AIQXBwcm92ZWRnQv+uIkMiQycEZCQORCInBYACTm9mJwQnBGQjCGcjQzEAgCAsMVXjH9rx/W7D1z2qjkzlLA4XAOf/XhNf+kcBDE3evRJEgAhWb3RlSW5mb4A1Rm9yIGVhY2ggcHJvcG9zYWwsIHZvdGUgaW4gZmF2b3IsIGFnYWluc3QsIG9yIGFic3RhaW5nK4AAZycEImcoImcpImcqImeACUFic3RhaW5lZCJnI0M=', 'clear-state-program': 'BYEBQw==', 'creator': 'FQYVLYY73LY723WD2462VDSM4UWA4FYA477V4E277JDQCDCN326QBCDPUI', 'global-state': [{'key': 'VG90YWxPcHRJbg==', 'value': {'bytes': '', 'type': 2, 'uint': 32}}, {'key': 'VG90YWxWb3Rlcw==', 'value': {'bytes': '', 'type': 2, 'uint': 32}}, {'key': 'VmVyZGljdA==', 'value': {'bytes': 'QXBwcm92ZWQ=', 'type': 1, 'uint': 0}}, {'key': 'QWJzdGFpbmVk', 'value': {'bytes': '', 'type': 2, 'uint': 12}}, {'key': 'Vm90ZUluZm8=', 'value': {'bytes': 'Rm9yIGVhY2ggcHJvcG9zYWwsIHZvdGUgaW4gZmF2b3IsIGFnYWluc3QsIG9yIGFic3RhaW4=', 'type': 1, 'uint': 0}}, {'key': 'QWdhaW5zdA==', 'value': {'bytes': '', 'type': 2, 'uint': 8}}, {'key': 'SW4gZmF2b3I=', 'value': {'bytes': '', 'type': 2, 'uint': 12}}], 'global-state-schema': {'num-byte-slice': 2, 'num-uint': 5}, 'local-state-schema': {'num-byte-slice': 1, 'num-uint': 0}}}, {'id': 685322541, 'params': {'approval-program': 'BSABADEAgCAsMVXjH9rx/W7D1z2qjkzlLA4XAOf/XhNf+kcBDE3evRJEgAhWb3RlSW5mb4A1Rm9yIGVhY2ggcHJvcG9zYWwsIHZvdGUgaW4gZmF2b3IsIGFnYWluc3QsIG9yIGFic3RhaW5ngAdWZXJkaWN0gABngApUb3RhbE9wdEluImeAClRvdGFsVm90ZXMiZ4AISW4gZmF2b3IiZ4AHQWdhaW5zdCJngAlBYnN0YWluZWQiZ4EBQw==', 'clear-state-program': 'BYEBQw==', 'creator': 'FQYVLYY73LY723WD2462VDSM4UWA4FYA477V4E277JDQCDCN326QBCDPUI', 'global-state': [{'key': 'VG90YWxWb3Rlcw==', 'value': {'bytes': '', 'type': 2, 'uint': 0}}, {'key': 'VmVyZGljdA==', 'value': {'bytes': '', 'type': 1, 'uint': 0}}, {'key': 'QWJzdGFpbmVk', 'value': {'bytes': '', 'type': 2, 'uint': 0}}, {'key': 'Vm90ZUluZm8=', 'value': {'bytes': 'Rm9yIGVhY2ggcHJvcG9zYWwsIHZvdGUgaW4gZmF2b3IsIGFnYWluc3QsIG9yIGFic3RhaW4=', 'type': 1, 'uint': 0}}, {'key': 'QWdhaW5zdA==', 'value': {'bytes': '', 'type': 2, 'uint': 0}}, {'key': 'SW4gZmF2b3I=', 'value': {'bytes': '', 'type': 2, 'uint': 0}}, {'key': 'VG90YWxPcHRJbg==', 'value': {'bytes': '', 'type': 2, 'uint': 0}}], 'global-state-schema': {'num-byte-slice': 2, 'num-uint': 5}, 'local-state-schema': {'num-byte-slice': 1, 'num-uint': 0}}}, {'id': 685325251, 'params': {'approval-program': 'BSABADEAgCAsMVXjH9rx/W7D1z2qjkzlLA4XAOf/XhNf+kcBDE3evRJEgAhWb3RlSW5mb4A1Rm9yIGVhY2ggcHJvcG9zYWwsIHZvdGUgaW4gZmF2b3IsIGFnYWluc3QsIG9yIGFic3RhaW5ngAdWZXJkaWN0gABngApUb3RhbE9wdEluImeAClRvdGFsVm90ZXMiZ4AISW4gZmF2b3IiZ4AHQWdhaW5zdCJngAlBYnN0YWluZWQiZ4EBQw==', 'clear-state-program': 'BYEBQw==', 'creator': 'FQYVLYY73LY723WD2462VDSM4UWA4FYA477V4E277JDQCDCN326QBCDPUI', 'global-state': [{'key': 'VG90YWxWb3Rlcw==', 'value': {'bytes': '', 'type': 2, 'uint': 0}}, {'key': 'VmVyZGljdA==', 'value': {'bytes': '', 'type': 1, 'uint': 0}}, {'key': 'QWJzdGFpbmVk', 'value': {'bytes': '', 'type': 2, 'uint': 0}}, {'key': 'Vm90ZUluZm8=', 'value': {'bytes': 'Rm9yIGVhY2ggcHJvcG9zYWwsIHZvdGUgaW4gZmF2b3IsIGFnYWluc3QsIG9yIGFic3RhaW4=', 'type': 1, 'uint': 0}}, {'key': 'QWdhaW5zdA==', 'value': {'bytes': '', 'type': 2, 'uint': 0}}, {'key': 'SW4gZmF2b3I=', 'value': {'bytes': '', 'type': 2, 'uint': 0}}, {'key': 'VG90YWxPcHRJbg==', 'value': {'bytes': '', 'type': 2, 'uint': 0}}], 'global-state-schema': {'num-byte-slice': 2, 'num-uint': 5}, 'local-state-schema': {'num-byte-slice': 1, 'num-uint': 0}}}, {'id': 685328061, 'params': {'approval-program': 'BSABADEAgCAsMVXjH9rx/W7D1z2qjkzlLA4XAOf/XhNf+kcBDE3evRJEgAhWb3RlSW5mb4A1Rm9yIGVhY2ggcHJvcG9zYWwsIHZvdGUgaW4gZmF2b3IsIGFnYWluc3QsIG9yIGFic3RhaW5ngAdWZXJkaWN0gABngApUb3RhbE9wdEluImeAClRvdGFsVm90ZXMiZ4AISW4gZmF2b3IiZ4AHQWdhaW5zdCJngAlBYnN0YWluZWQiZ4EBQw==', 'clear-state-program': 'BYEBQw==', 'creator': 'FQYVLYY73LY723WD2462VDSM4UWA4FYA477V4E277JDQCDCN326QBCDPUI', 'global-state': [{'key': 'QWJzdGFpbmVk', 'value': {'bytes': '', 'type': 2, 'uint': 0}}, {'key': 'QWdhaW5zdA==', 'value': {'bytes': '', 'type': 2, 'uint': 0}}, {'key': 'SW4gZmF2b3I=', 'value': {'bytes': '', 'type': 2, 'uint': 0}}, {'key': 'VG90YWxPcHRJbg==', 'value': {'bytes': '', 'type': 2, 'uint': 0}}, {'key': 'VG90YWxWb3Rlcw==', 'value': {'bytes': '', 'type': 2, 'uint': 0}}, {'key': 'VmVyZGljdA==', 'value': {'bytes': '', 'type': 1, 'uint': 0}}, {'key': 'Vm90ZUluZm8=', 'value': {'bytes': 'Rm9yIGVhY2ggcHJvcG9zYWwsIHZvdGUgaW4gZmF2b3IsIGFnYWluc3QsIG9yIGFic3RhaW4=', 'type': 1, 'uint': 0}}], 'global-state-schema': {'num-byte-slice': 2, 'num-uint': 5}, 'local-state-schema': {'num-byte-slice': 1, 'num-uint': 0}}}, {'id': 685329175, 'params': {'approval-program': 'BSABADEAgCAsMVXjH9rx/W7D1z2qjkzlLA4XAOf/XhNf+kcBDE3evRJEgAhWb3RlSW5mb4A1Rm9yIGVhY2ggcHJvcG9zYWwsIHZvdGUgaW4gZmF2b3IsIGFnYWluc3QsIG9yIGFic3RhaW5ngAdWZXJkaWN0gABngApUb3RhbE9wdEluImeAClRvdGFsVm90ZXMiZ4AISW4gZmF2b3IiZ4AHQWdhaW5zdCJngAlBYnN0YWluZWQiZ4EBQw==', 'clear-state-program': 'BYEBQw==', 'creator': 'FQYVLYY73LY723WD2462VDSM4UWA4FYA477V4E277JDQCDCN326QBCDPUI', 'global-state': [{'key': 'QWdhaW5zdA==', 'value': {'bytes': '', 'type': 2, 'uint': 0}}, {'key': 'SW4gZmF2b3I=', 'value': {'bytes': '', 'type': 2, 'uint': 0}}, {'key': 'VG90YWxPcHRJbg==', 'value': {'bytes': '', 'type': 2, 'uint': 0}}, {'key': 'VG90YWxWb3Rlcw==', 'value': {'bytes': '', 'type': 2, 'uint': 0}}, {'key': 'VmVyZGljdA==', 'value': {'bytes': '', 'type': 1, 'uint': 0}}, {'key': 'QWJzdGFpbmVk', 'value': {'bytes': '', 'type': 2, 'uint': 0}}, {'key': 'Vm90ZUluZm8=', 'value': {'bytes': 'Rm9yIGVhY2ggcHJvcG9zYWwsIHZvdGUgaW4gZmF2b3IsIGFnYWluc3QsIG9yIGFic3RhaW4=', 'type': 1, 'uint': 0}}], 'global-state-schema': {'num-byte-slice': 2, 'num-uint': 5}, 'local-state-schema': {'num-byte-slice': 1, 'num-uint': 0}}}, {'id': 685335689, 'params': {'approval-program': 'BSABADEAgCAsMVXjH9rx/W7D1z2qjkzlLA4XAOf/XhNf+kcBDE3evRJEgAhWb3RlSW5mb4A1Rm9yIGVhY2ggcHJvcG9zYWwsIHZvdGUgaW4gZmF2b3IsIGFnYWluc3QsIG9yIGFic3RhaW5ngAdWZXJkaWN0gABngApUb3RhbE9wdEluImeAClRvdGFsVm90ZXMiZ4AISW4gZmF2b3IiZ4AHQWdhaW5zdCJngAlBYnN0YWluZWQiZ4EBQw==', 'clear-state-program': 'BYEBQw==', 'creator': 'FQYVLYY73LY723WD2462VDSM4UWA4FYA477V4E277JDQCDCN326QBCDPUI', 'global-state': [{'key': 'VG90YWxWb3Rlcw==', 'value': {'bytes': '', 'type': 2, 'uint': 0}}, {'key': 'VmVyZGljdA==', 'value': {'bytes': '', 'type': 1, 'uint': 0}}, {'key': 'QWJzdGFpbmVk', 'value': {'bytes': '', 'type': 2, 'uint': 0}}, {'key': 'Vm90ZUluZm8=', 'value': {'bytes': 'Rm9yIGVhY2ggcHJvcG9zYWwsIHZvdGUgaW4gZmF2b3IsIGFnYWluc3QsIG9yIGFic3RhaW4=', 'type': 1, 'uint': 0}}, {'key': 'QWdhaW5zdA==', 'value': {'bytes': '', 'type': 2, 'uint': 0}}, {'key': 'SW4gZmF2b3I=', 'value': {'bytes': '', 'type': 2, 'uint': 0}}, {'key': 'VG90YWxPcHRJbg==', 'value': {'bytes': '', 'type': 2, 'uint': 0}}], 'global-state-schema': {'num-byte-slice': 2, 'num-uint': 5}, 'local-state-schema': {'num-byte-slice': 1, 'num-uint': 0}}}, {'id': 685337071, 'params': {'approval-program': 'BSABADEAgCAsMVXjH9rx/W7D1z2qjkzlLA4XAOf/XhNf+kcBDE3evRJEgAhWb3RlSW5mb4A1Rm9yIGVhY2ggcHJvcG9zYWwsIHZvdGUgaW4gZmF2b3IsIGFnYWluc3QsIG9yIGFic3RhaW5ngAdWZXJkaWN0gABngApUb3RhbE9wdEluImeAClRvdGFsVm90ZXMiZ4AISW4gZmF2b3IiZ4AHQWdhaW5zdCJngAlBYnN0YWluZWQiZ4EBQw==', 'clear-state-program': 'BYEBQw==', 'creator': 'FQYVLYY73LY723WD2462VDSM4UWA4FYA477V4E277JDQCDCN326QBCDPUI', 'global-state': [{'key': 'QWdhaW5zdA==', 'value': {'bytes': '', 'type': 2, 'uint': 0}}, {'key': 'SW4gZmF2b3I=', 'value': {'bytes': '', 'type': 2, 'uint': 0}}, {'key': 'VG90YWxPcHRJbg==', 'value': {'bytes': '', 'type': 2, 'uint': 0}}, {'key': 'VG90YWxWb3Rlcw==', 'value': {'bytes': '', 'type': 2, 'uint': 0}}, {'key': 'VmVyZGljdA==', 'value': {'bytes': '', 'type': 1, 'uint': 0}}, {'key': 'QWJzdGFpbmVk', 'value': {'bytes': '', 'type': 2, 'uint': 0}}, {'key': 'Vm90ZUluZm8=', 'value': {'bytes': 'Rm9yIGVhY2ggcHJvcG9zYWwsIHZvdGUgaW4gZmF2b3IsIGFnYWluc3QsIG9yIGFic3RhaW4=', 'type': 1, 'uint': 0}}], 'global-state-schema': {'num-byte-slice': 2, 'num-uint': 5}, 'local-state-schema': {'num-byte-slice': 1, 'num-uint': 0}}}, {'id': 685338852, 'params': {'approval-program': 'BSABADEAgCAsMVXjH9rx/W7D1z2qjkzlLA4XAOf/XhNf+kcBDE3evRJEgAhWb3RlSW5mb4A1Rm9yIGVhY2ggcHJvcG9zYWwsIHZvdGUgaW4gZmF2b3IsIGFnYWluc3QsIG9yIGFic3RhaW5ngAdWZXJkaWN0gABngApUb3RhbE9wdEluImeAClRvdGFsVm90ZXMiZ4AISW4gZmF2b3IiZ4AHQWdhaW5zdCJngAlBYnN0YWluZWQiZ4EBQw==', 'clear-state-program': 'BYEBQw==', 'creator': 'FQYVLYY73LY723WD2462VDSM4UWA4FYA477V4E277JDQCDCN326QBCDPUI', 'global-state': [{'key': 'VG90YWxPcHRJbg==', 'value': {'bytes': '', 'type': 2, 'uint': 0}}, {'key': 'VG90YWxWb3Rlcw==', 'value': {'bytes': '', 'type': 2, 'uint': 0}}, {'key': 'VmVyZGljdA==', 'value': {'bytes': '', 'type': 1, 'uint': 0}}, {'key': 'QWJzdGFpbmVk', 'value': {'bytes': '', 'type': 2, 'uint': 0}}, {'key': 'Vm90ZUluZm8=', 'value': {'bytes': 'Rm9yIGVhY2ggcHJvcG9zYWwsIHZvdGUgaW4gZmF2b3IsIGFnYWluc3QsIG9yIGFic3RhaW4=', 'type': 1, 'uint': 0}}, {'key': 'QWdhaW5zdA==', 'value': {'bytes': '', 'type': 2, 'uint': 0}}, {'key': 'SW4gZmF2b3I=', 'value': {'bytes': '', 'type': 2, 'uint': 0}}], 'global-state-schema': {'num-byte-slice': 2, 'num-uint': 5}, 'local-state-schema': {'num-byte-slice': 1, 'num-uint': 0}}}, {'id': 685340412, 'params': {'approval-program': 'BSABADEAgCAsMVXjH9rx/W7D1z2qjkzlLA4XAOf/XhNf+kcBDE3evRJEgAhWb3RlSW5mb4A1Rm9yIGVhY2ggcHJvcG9zYWwsIHZvdGUgaW4gZmF2b3IsIGFnYWluc3QsIG9yIGFic3RhaW5ngAdWZXJkaWN0gABngApUb3RhbE9wdEluImeAClRvdGFsVm90ZXMiZ4AISW4gZmF2b3IiZ4AHQWdhaW5zdCJngAlBYnN0YWluZWQiZ4EBQw==', 'clear-state-program': 'BYEBQw==', 'creator': 'FQYVLYY73LY723WD2462VDSM4UWA4FYA477V4E277JDQCDCN326QBCDPUI', 'global-state': [{'key': 'QWJzdGFpbmVk', 'value': {'bytes': '', 'type': 2, 'uint': 0}}, {'key': 'QWdhaW5zdA==', 'value': {'bytes': '', 'type': 2, 'uint': 0}}, {'key': 'SW4gZmF2b3I=', 'value': {'bytes': '', 'type': 2, 'uint': 0}}, {'key': 'VG90YWxPcHRJbg==', 'value': {'bytes': '', 'type': 2, 'uint': 0}}, {'key': 'VG90YWxWb3Rlcw==', 'value': {'bytes': '', 'type': 2, 'uint': 0}}, {'key': 'VmVyZGljdA==', 'value': {'bytes': '', 'type': 1, 'uint': 0}}, {'key': 'Vm90ZUluZm8=', 'value': {'bytes': 'Rm9yIGVhY2ggcHJvcG9zYWwsIHZvdGUgaW4gZmF2b3IsIGFnYWluc3QsIG9yIGFic3RhaW4=', 'type': 1, 'uint': 0}}], 'global-state-schema': {'num-byte-slice': 2, 'num-uint': 5}, 'local-state-schema': {'num-byte-slice': 1, 'num-uint': 0}}}, {'id': 685341616, 'params': {'approval-program': 'BSABADEAgCAsMVXjH9rx/W7D1z2qjkzlLA4XAOf/XhNf+kcBDE3evRJEgAhWb3RlSW5mb4A1Rm9yIGVhY2ggcHJvcG9zYWwsIHZvdGUgaW4gZmF2b3IsIGFnYWluc3QsIG9yIGFic3RhaW5ngAdWZXJkaWN0gABngApUb3RhbE9wdEluImeAClRvdGFsVm90ZXMiZ4AISW4gZmF2b3IiZ4AHQWdhaW5zdCJngAlBYnN0YWluZWQiZ4EBQw==', 'clear-state-program': 'BYEBQw==', 'creator': 'FQYVLYY73LY723WD2462VDSM4UWA4FYA477V4E277JDQCDCN326QBCDPUI', 'global-state': [{'key': 'QWJzdGFpbmVk', 'value': {'bytes': '', 'type': 2, 'uint': 0}}, {'key': 'QWdhaW5zdA==', 'value': {'bytes': '', 'type': 2, 'uint': 0}}, {'key': 'SW4gZmF2b3I=', 'value': {'bytes': '', 'type': 2, 'uint': 0}}, {'key': 'VG90YWxPcHRJbg==', 'value': {'bytes': '', 'type': 2, 'uint': 0}}, {'key': 'VG90YWxWb3Rlcw==', 'value': {'bytes': '', 'type': 2, 'uint': 0}}, {'key': 'VmVyZGljdA==', 'value': {'bytes': '', 'type': 1, 'uint': 0}}, {'key': 'Vm90ZUluZm8=', 'value': {'bytes': 'Rm9yIGVhY2ggcHJvcG9zYWwsIHZvdGUgaW4gZmF2b3IsIGFnYWluc3QsIG9yIGFic3RhaW4=', 'type': 1, 'uint': 0}}], 'global-state-schema': {'num-byte-slice': 2, 'num-uint': 5}, 'local-state-schema': {'num-byte-slice': 1, 'num-uint': 0}}}, {'id': 685351155, 'params': {'approval-program': 'BSABADEAgCAsMVXjH9rx/W7D1z2qjkzlLA4XAOf/XhNf+kcBDE3evRJEgAhWb3RlSW5mb4A1Rm9yIGVhY2ggcHJvcG9zYWwsIHZvdGUgaW4gZmF2b3IsIGFnYWluc3QsIG9yIGFic3RhaW5ngAdWZXJkaWN0gABngApUb3RhbE9wdEluImeAClRvdGFsVm90ZXMiZ4AISW4gZmF2b3IiZ4AHQWdhaW5zdCJngAlBYnN0YWluZWQiZ4EBQw==', 'clear-state-program': 'BYEBQw==', 'creator': 'FQYVLYY73LY723WD2462VDSM4UWA4FYA477V4E277JDQCDCN326QBCDPUI', 'global-state': [{'key': 'QWJzdGFpbmVk', 'value': {'bytes': '', 'type': 2, 'uint': 0}}, {'key': 'Vm90ZUluZm8=', 'value': {'bytes': 'Rm9yIGVhY2ggcHJvcG9zYWwsIHZvdGUgaW4gZmF2b3IsIGFnYWluc3QsIG9yIGFic3RhaW4=', 'type': 1, 'uint': 0}}, {'key': 'QWdhaW5zdA==', 'value': {'bytes': '', 'type': 2, 'uint': 0}}, {'key': 'SW4gZmF2b3I=', 'value': {'bytes': '', 'type': 2, 'uint': 0}}, {'key': 'VG90YWxPcHRJbg==', 'value': {'bytes': '', 'type': 2, 'uint': 0}}, {'key': 'VG90YWxWb3Rlcw==', 'value': {'bytes': '', 'type': 2, 'uint': 0}}, {'key': 'VmVyZGljdA==', 'value': {'bytes': '', 'type': 1, 'uint': 0}}], 'global-state-schema': {'num-byte-slice': 2, 'num-uint': 5}, 'local-state-schema': {'num-byte-slice': 1, 'num-uint': 0}}}], 'created-assets': [{'index': 683766647, 'params': {'clawback': 'FQYVLYY73LY723WD2462VDSM4UWA4FYA477V4E277JDQCDCN326QBCDPUI', 'creator': 'FQYVLYY73LY723WD2462VDSM4UWA4FYA477V4E277JDQCDCN326QBCDPUI', 'decimals': 0, 'default-frozen': False, 'freeze': 'FQYVLYY73LY723WD2462VDSM4UWA4FYA477V4E277JDQCDCN326QBCDPUI', 'manager': 'FQYVLYY73LY723WD2462VDSM4UWA4FYA477V4E277JDQCDCN326QBCDPUI', 'name': 'USIV Coin', 'name-b64': 'VVNJViBDb2lu', 'reserve': 'FQYVLYY73LY723WD2462VDSM4UWA4FYA477V4E277JDQCDCN326QBCDPUI', 'total': 38, 'unit-name': 'USIV', 'unit-name-b64': 'VVNJVg==', 'url': 'www.usi.ch/usiv', 'url-b64': 'd3d3LnVzaS5jaC91c2l2'}}, {'index': 684625427, 'params': {'clawback': 'FQYVLYY73LY723WD2462VDSM4UWA4FYA477V4E277JDQCDCN326QBCDPUI', 'creator': 'FQYVLYY73LY723WD2462VDSM4UWA4FYA477V4E277JDQCDCN326QBCDPUI', 'decimals': 0, 'default-frozen': False, 'freeze': 'FQYVLYY73LY723WD2462VDSM4UWA4FYA477V4E277JDQCDCN326QBCDPUI', 'manager': 'FQYVLYY73LY723WD2462VDSM4UWA4FYA477V4E277JDQCDCN326QBCDPUI', 'name': 'USIV Coin', 'name-b64': 'VVNJViBDb2lu', 'reserve': 'FQYVLYY73LY723WD2462VDSM4UWA4FYA477V4E277JDQCDCN326QBCDPUI', 'total': 1000, 'unit-name': 'USIV', 'unit-name-b64': 'VVNJVg==', 'url': 'www.usi.ch/usiv', 'url-b64': 'd3d3LnVzaS5jaC91c2l2'}}, {'index': 685785113, 'params': {'clawback': 'FQYVLYY73LY723WD2462VDSM4UWA4FYA477V4E277JDQCDCN326QBCDPUI', 'creator': 'FQYVLYY73LY723WD2462VDSM4UWA4FYA477V4E277JDQCDCN326QBCDPUI', 'decimals': 0, 'default-frozen': False, 'freeze': 'FQYVLYY73LY723WD2462VDSM4UWA4FYA477V4E277JDQCDCN326QBCDPUI', 'manager': 'FQYVLYY73LY723WD2462VDSM4UWA4FYA477V4E277JDQCDCN326QBCDPUI', 'name': 'USIV Coin', 'name-b64': 'VVNJViBDb2lu', 'reserve': 'FQYVLYY73LY723WD2462VDSM4UWA4FYA477V4E277JDQCDCN326QBCDPUI', 'total': 1000, 'unit-name': 'USIV', 'unit-name-b64': 'VVNJVg==', 'url': 'https://usi.ch', 'url-b64': 'aHR0cHM6Ly91c2kuY2g='}}], 'min-balance': 9305000, 'pending-rewards': 0, 'reward-base': 27521, 'rewards': 0, 'round': 41168412, 'status': 'Offline', 'total-apps-opted-in': 0, 'total-assets-opted-in': 3, 'total-created-apps': 26, 'total-created-assets': 3}\n"
     ]
    }
   ],
   "source": [
    "# check account info\n",
    "account_info = algod_client.account_info(usiv[\"public\"])\n",
    "print(account_info)"
   ]
  },
  {
   "cell_type": "code",
   "execution_count": null,
   "metadata": {},
   "outputs": [],
   "source": []
  },
  {
   "cell_type": "code",
   "execution_count": null,
   "metadata": {},
   "outputs": [],
   "source": []
  }
 ],
 "metadata": {
  "interpreter": {
   "hash": "037def8786ac62b377840b61acd000de27d097b1ef99b404e6d0a8d708a16f75"
  },
  "kernelspec": {
   "display_name": "Python 3 (ipykernel)",
   "language": "python",
   "name": "python3"
  },
  "language_info": {
   "codemirror_mode": {
    "name": "ipython",
    "version": 3
   },
   "file_extension": ".py",
   "mimetype": "text/x-python",
   "name": "python",
   "nbconvert_exporter": "python",
   "pygments_lexer": "ipython3",
   "version": "3.11.4"
  }
 },
 "nbformat": 4,
 "nbformat_minor": 4
}
