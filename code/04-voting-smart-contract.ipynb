{
 "cells": [
  {
   "cell_type": "markdown",
   "metadata": {},
   "source": [
    "# 04 - Senate voting smart contract"
   ]
  },
  {
   "cell_type": "markdown",
   "metadata": {},
   "source": [
    "**Description**: This notebook will serve as the basis for the creation of the voting smart contract for the academic senate. The smart contract should work as follow: \n",
    "1. The administrator address can issue a proposal to vote (smart contract)\n",
    "2. Each senator should opt in to the voting initiative and express their votes\n",
    "3. If the number of \"In favor\" exceeds the number of \"Against\", the proposal is approved"
   ]
  },
  {
   "cell_type": "markdown",
   "metadata": {},
   "source": [
    "**TODO**\n",
    "1. Consider that the state of the voting should not be disclosed up until the end of the voting period or the deletion of the contract. How? Local storage?\n",
    "2. Consider to set up a timelock contract when the voting is created such that all the members receive the coin to vote before proceeding."
   ]
  },
  {
   "cell_type": "markdown",
   "metadata": {},
   "source": [
    "### 0. Load the required assets"
   ]
  },
  {
   "cell_type": "code",
   "execution_count": 72,
   "metadata": {},
   "outputs": [],
   "source": [
    "# Add \"algo_util.py\" to the list of available dependencies of the project\n",
    "import sys, os, json\n",
    "from pyteal import *\n",
    "from pathlib import Path\n",
    "\n",
    "codepath = (Path( os.curdir ) / \"shared\").resolve()\n",
    "sys.path.append(str(codepath))"
   ]
  },
  {
   "cell_type": "code",
   "execution_count": 73,
   "metadata": {},
   "outputs": [],
   "source": [
    "# import some utilities\n",
    "from algo_util import wait_for_confirmation, load_credentials\n",
    "from algo_util import format_state, read_global_state, read_local_state"
   ]
  },
  {
   "cell_type": "code",
   "execution_count": 74,
   "metadata": {},
   "outputs": [],
   "source": [
    "# algo-sdk utilities\n",
    "from algosdk import account, mnemonic\n",
    "from algosdk.v2client import algod\n",
    "from algosdk import transaction\n",
    "from algosdk.transaction import PaymentTxn\n",
    "from algosdk.transaction import AssetConfigTxn, AssetTransferTxn, AssetFreezeTxn, AssetOptInTxn\n",
    "import algosdk.error\n",
    "import json\n",
    "import base64\n",
    "import datetime\n",
    "import hashlib\n",
    "import random"
   ]
  },
  {
   "cell_type": "code",
   "execution_count": 75,
   "metadata": {},
   "outputs": [
    {
     "name": "stdout",
     "output_type": "stream",
     "text": [
      "32 members' credentials loaded from storage\n",
      "Loading also USIV account credentials: FQYVLYY73LY723WD2462VDSM4UWA4FYA477V4E277JDQCDCN326QBCDPUI\n"
     ]
    }
   ],
   "source": [
    "# loading credential utility\n",
    "from algo_util import load_credentials \n",
    "\n",
    "# load credentials from storage\n",
    "credentials = load_credentials(file_name = \"credentials_temp\")\n",
    "\n",
    "print(f\"{len(credentials['members_credentials'])} members' credentials loaded from storage\")\n",
    "print(f\"Loading also USIV account credentials: {credentials['usiv']['public']}\")"
   ]
  },
  {
   "cell_type": "markdown",
   "metadata": {},
   "source": [
    "Initialize the algorand client to interact with the testnet"
   ]
  },
  {
   "cell_type": "code",
   "execution_count": 76,
   "metadata": {},
   "outputs": [],
   "source": [
    "# Initialize the algod client (Testnet or Mainnet)\n",
    "algod_client = algod.AlgodClient(\n",
    "    algod_token='', \n",
    "    algod_address=credentials['algod_test'], \n",
    "    headers=credentials['purestake_token']\n",
    ")"
   ]
  },
  {
   "cell_type": "markdown",
   "metadata": {},
   "source": [
    "#### Step 1: Define the Approval Program\n",
    "This is the program that handles all the interactions, with the exception of the opting out contract"
   ]
  },
  {
   "cell_type": "code",
   "execution_count": 77,
   "metadata": {},
   "outputs": [
    {
     "name": "stdout",
     "output_type": "stream",
     "text": [
      "The only account that can issue the contract is: FQYVLYY73LY723WD2462VDSM4UWA4FYA477V4E277JDQCDCN326QBCDPUI\n"
     ]
    }
   ],
   "source": [
    "# store the credentials\n",
    "usiv_public_address = credentials['usiv']['public']\n",
    "print(f\"The only account that can issue the contract is: {usiv_public_address}\")"
   ]
  },
  {
   "cell_type": "code",
   "execution_count": 78,
   "metadata": {},
   "outputs": [],
   "source": [
    "# init\n",
    "voting_creation = Seq(\n",
    "    [\n",
    "        # assertion on contract creation\n",
    "        Assert(\n",
    "            And(\n",
    "                # the creator must be the association USIV address\n",
    "                Txn.sender() == Addr(f\"{usiv_public_address}\"),\n",
    "            )\n",
    "        ),\n",
    "\n",
    "        ###\n",
    "        # Globals\n",
    "        ###\n",
    "        # App.globalPut(Bytes(\"Creator\"), Global.creator_address()), # creator of the voting app (should be the USIV account)\n",
    "        App.globalPut(Bytes(\"VoteInfo\"), Bytes(\"For each proposal, vote in favor, against, or abstain\")), # info about the voting\n",
    "        App.globalPut(Bytes(\"Verdict\"), Bytes(\"\")), # winner of the voting\n",
    "        # init the voting counter\n",
    "        App.globalPut(Bytes(\"TotalOptIn\"), Int(0)),\n",
    "        App.globalPut(Bytes(\"TotalVotes\"), Int(0)),\n",
    "        # init the votes for the candidates\n",
    "        App.globalPut(Bytes(\"In favor\"), Int(0)), \n",
    "        App.globalPut(Bytes(\"Against\"), Int(0)),\n",
    "        App.globalPut(Bytes(\"Abstained\"), Int(0)),\n",
    "\n",
    "        Return(Int(1))\n",
    "    ]\n",
    ")"
   ]
  },
  {
   "cell_type": "code",
   "execution_count": 79,
   "metadata": {},
   "outputs": [],
   "source": [
    "# optin\n",
    "voting_optin = Seq(\n",
    "    [\n",
    "        # assertion on contract optin\n",
    "        Assert(\n",
    "            And(\n",
    "                # the contract does not allow to opt-in if \n",
    "                # count of total opt-in is greater than the number of members\n",
    "                App.globalGet(Bytes(\"TotalOptIn\")) <= Int(len(credentials['members_credentials']))\n",
    "            ),\n",
    "        ),\n",
    "\n",
    "        # control variable for double voting\n",
    "        App.localPut(Int(0), Bytes(\"HasVoted\"), Bytes(\"No\")),\n",
    "        # control variable for users in the voting procedure\n",
    "        App.globalPut(Bytes(\"TotalOptIn\"), Add(App.globalGet(Bytes(\"TotalOptIn\")), Int(1)) ),\n",
    "\n",
    "        Return(Int(1))\n",
    "    ]\n",
    ")"
   ]
  },
  {
   "cell_type": "code",
   "execution_count": 80,
   "metadata": {},
   "outputs": [],
   "source": [
    "def set_winner():\n",
    "    \"\"\"\n",
    "        Set the verdict of the proposal\n",
    "    \"\"\"\n",
    "    in_favor = App.globalGet(Bytes(\"In favor\"))\n",
    "    against = App.globalGet(Bytes(\"Against\"))\n",
    "    abstained = App.globalGet(Bytes(\"Abstained\"))\n",
    "\n",
    "    return Cond(\n",
    "        [And(in_favor > against), App.globalPut(Bytes(\"Verdict\"), Bytes(\"Approved\"))],\n",
    "        [And(against > in_favor), App.globalPut(Bytes(\"Verdict\"), Bytes(\"Rejected\"))],\n",
    "        [And(in_favor == against), App.globalPut(Bytes(\"Verdict\"), Bytes(\"Tie\"))],\n",
    "        [Int(1), App.globalPut(Bytes(\"Winner\"), Bytes(\"Tie\"))]\n",
    "    )"
   ]
  },
  {
   "cell_type": "code",
   "execution_count": 81,
   "metadata": {},
   "outputs": [],
   "source": [
    "# vote of the user\n",
    "expressed_vote  = Txn.application_args[0] \n",
    "\n",
    "# time-lock contract\n",
    "# the starting block is pointed to the current block\n",
    "start_block     = algod_client.status()['last-round']    \n",
    "# the ending block is a function of the number of members that need to vote, \n",
    "# each getting 1000 blocks (~ 4.5 * 100 = 4500 seconds = 75 minutes) \n",
    "# and therefore the voting period should be around 33 * 75 minutes\n",
    "end_block       = start_block + len(credentials['members_credentials']) * 1000\n",
    "\n",
    "\n",
    "# what happens with the voting?\n",
    "on_vote = Seq(\n",
    "    [\n",
    "        # assertion on total number of votes\n",
    "        Assert(\n",
    "            # the contract does not allow to vote if\n",
    "            # count of total votes is greater than the number of members\n",
    "            App.globalGet(Bytes(\"TotalVotes\")) <= Int(len(credentials['members_credentials']))\n",
    "        ),\n",
    "\n",
    "        # (Extension 1) time-locked contract: voting should be allowed within a specific timeframe\n",
    "        If( Or(Txn.first_valid() < Int(start_block), Txn.last_valid() > Int(end_block)) )\n",
    "            .Then(\n",
    "                # if the voting is not within the timeframe, the transaction is rejected\n",
    "                Return(Int(0))\n",
    "            ),\n",
    "\n",
    "\n",
    "        # if already voted, exit the app\n",
    "        If( \n",
    "            App.localGet(Int(0), Bytes(\"HasVoted\")) == Bytes(\"Yes\"), \n",
    "            Return(Int(0)) # exit the app\n",
    "        ),\n",
    "\n",
    "        # Check if vote is valid\n",
    "        App.globalPut(expressed_vote, Add(App.globalGet(expressed_vote), Int(1))),\n",
    "        # the user has already voted\n",
    "        App.localPut(Txn.sender(), Bytes(\"HasVoted\"), Bytes(\"Yes\") ),\n",
    "    ]\n",
    ")"
   ]
  },
  {
   "cell_type": "code",
   "execution_count": 82,
   "metadata": {},
   "outputs": [],
   "source": [
    "# no_op (voting)\n",
    "voting_noop = Seq(\n",
    "    [\n",
    "        # assertion: check that the total number of votes is less than the total number of opt-in and 38 (members of the senate)\n",
    "\n",
    "        # let the user vote\n",
    "        on_vote,\n",
    "\n",
    "        # increment the vote counter \n",
    "        App.globalPut(Bytes(\"TotalVotes\"), Add(App.globalGet(Bytes(\"TotalVotes\")), Int(1)) ),\n",
    "        \n",
    "        # (Extension 2) voting winner: retrieve the winner of the contract through voting counting on-chain\n",
    "        # the voting is over when all the members vote for the candidate\n",
    "        If( App.globalGet(Bytes(\"TotalVotes\")) == Int(len(credentials['members_credentials'])) )\n",
    "        # If( App.globalGet(Bytes(\"TotalVotes\")) == Int(4) )\n",
    "            .Then(\n",
    "                # if so, the voting is over and the winner must be set\n",
    "                set_winner()\n",
    "            ),\n",
    "\n",
    "        Return(Int(1))\n",
    "    ]\n",
    ")"
   ]
  },
  {
   "cell_type": "code",
   "execution_count": 83,
   "metadata": {},
   "outputs": [],
   "source": [
    "# update\n",
    "voting_update = Return( Txn.sender() == Global.creator_address() )"
   ]
  },
  {
   "cell_type": "code",
   "execution_count": 84,
   "metadata": {},
   "outputs": [],
   "source": [
    "# closing the contract\n",
    "voting_closeout = Return( Int(1) )"
   ]
  },
  {
   "cell_type": "code",
   "execution_count": 85,
   "metadata": {},
   "outputs": [],
   "source": [
    "# deletion (allowed if the creator and the requestor are equivalent)\n",
    "voting_delete = Return(Txn.sender() == Global.creator_address() )"
   ]
  },
  {
   "cell_type": "markdown",
   "metadata": {},
   "source": [
    "Pack up all the possible operations in a condition statement to be approved"
   ]
  },
  {
   "cell_type": "code",
   "execution_count": 86,
   "metadata": {},
   "outputs": [],
   "source": [
    "voting_approval_pyteal = Cond(\n",
    "    [Txn.application_id() == Int(0), voting_creation],\n",
    "    [Txn.on_completion() == OnComplete.OptIn, voting_optin],\n",
    "    [Txn.on_completion() == OnComplete.NoOp, voting_noop],\n",
    "    [Txn.on_completion() == OnComplete.CloseOut, voting_closeout],\n",
    "    [Txn.on_completion() == OnComplete.UpdateApplication, voting_update],\n",
    "    [Txn.on_completion() == OnComplete.DeleteApplication, voting_delete],\n",
    ")"
   ]
  },
  {
   "cell_type": "markdown",
   "metadata": {},
   "source": [
    "And finally, let's build and compile the smart contract into the teal language\n"
   ]
  },
  {
   "cell_type": "code",
   "execution_count": 87,
   "metadata": {},
   "outputs": [],
   "source": [
    "voting_approval_pyteal = compileTeal(\n",
    "    voting_approval_pyteal,\n",
    "    mode=Mode.Application,\n",
    "    version=5\n",
    ")"
   ]
  },
  {
   "cell_type": "markdown",
   "metadata": {},
   "source": [
    "#### Step 1b: Define the Clear State program\n",
    "This is the part of the contract that handles forced opt-outs"
   ]
  },
  {
   "cell_type": "code",
   "execution_count": 88,
   "metadata": {},
   "outputs": [],
   "source": [
    "voting_clear_pyteal = Approve()"
   ]
  },
  {
   "cell_type": "code",
   "execution_count": 89,
   "metadata": {},
   "outputs": [],
   "source": [
    "voting_clear_pyteal = compileTeal(\n",
    "    voting_clear_pyteal,\n",
    "    mode=Mode.Application,\n",
    "    version=5\n",
    ")"
   ]
  },
  {
   "cell_type": "markdown",
   "metadata": {},
   "source": [
    "Compile both pyteal programs into a byte-encoded contract"
   ]
  },
  {
   "cell_type": "code",
   "execution_count": 90,
   "metadata": {},
   "outputs": [],
   "source": [
    "voting_approval_b64 = algod_client.compile(voting_approval_pyteal)\n",
    "voting_Approval =  base64.b64decode(voting_approval_b64['result'])\n",
    "\n",
    "voting_clear_b64 = algod_client.compile(voting_clear_pyteal)\n",
    "voting_Clear =  base64.b64decode(voting_clear_b64['result'])"
   ]
  },
  {
   "cell_type": "markdown",
   "metadata": {},
   "source": [
    "#### Step 2: Deploy the smart contract"
   ]
  },
  {
   "cell_type": "markdown",
   "metadata": {},
   "source": [
    "First, let's retrieve the account that should deploy the smart contract"
   ]
  },
  {
   "cell_type": "code",
   "execution_count": 91,
   "metadata": {},
   "outputs": [
    {
     "name": "stdout",
     "output_type": "stream",
     "text": [
      "The only account that can issue the contract is: FQYVLYY73LY723WD2462VDSM4UWA4FYA477V4E277JDQCDCN326QBCDPUI\n"
     ]
    }
   ],
   "source": [
    "# store the credentials\n",
    "usiv_public_address = credentials['usiv']['public']\n",
    "print(f\"The only account that can issue the contract is: {usiv_public_address}\")"
   ]
  },
  {
   "cell_type": "markdown",
   "metadata": {},
   "source": [
    "As a first step, let's create the application"
   ]
  },
  {
   "cell_type": "code",
   "execution_count": 92,
   "metadata": {},
   "outputs": [],
   "source": [
    "# Step 1: Prepare the transaction\n",
    "sp = algod_client.suggested_params()\n",
    "\n",
    "# How much space do we need?\n",
    "global_ints = 5    # for TotalVotes, TotalOptIn, Rossi, Smith, Meier\n",
    "global_bytes = 2   # for VoteInfo, Winner\n",
    "voting_global_schema = transaction.StateSchema(global_ints, global_bytes)\n",
    "\n",
    "local_ints = 0     # None\n",
    "local_bytes = 1    # for HasVoted\n",
    "voting_local_schema = transaction.StateSchema(local_ints, local_bytes)\n",
    "\n",
    "txn = transaction.ApplicationCreateTxn(\n",
    "      sender = usiv_public_address,          # <-- sender public\n",
    "      sp = sp,                               # <-- sp\n",
    "      on_complete = 0,                       # <- what to do when finished (nothing)\n",
    "      approval_program = voting_Approval,   # <-- approval program \n",
    "      clear_program = voting_Clear,         # <-- clear program \n",
    "      global_schema = voting_global_schema, # <-- reserve global space \n",
    "      local_schema = voting_local_schema    # <-- reserve local space\n",
    "    )"
   ]
  },
  {
   "cell_type": "markdown",
   "metadata": {},
   "source": [
    "Then, let's sign"
   ]
  },
  {
   "cell_type": "code",
   "execution_count": 93,
   "metadata": {},
   "outputs": [],
   "source": [
    "usiv_private_address = credentials['usiv']['private']"
   ]
  },
  {
   "cell_type": "markdown",
   "metadata": {},
   "source": [
    "And deploy the smart contract"
   ]
  },
  {
   "cell_type": "code",
   "execution_count": 94,
   "metadata": {},
   "outputs": [
    {
     "name": "stdout",
     "output_type": "stream",
     "text": [
      "Current round is  41168818.\n",
      "Waiting for round 41168818 to finish.\n",
      "Waiting for round 41168819 to finish.\n",
      "Transaction 6VW7IOEUB4BJRJKMQDHXGOQNB5R3EOG63IYMUBCYPADRW2NLBFWQ confirmed in round 41168820.\n"
     ]
    }
   ],
   "source": [
    "# Step 2: sign transaction\n",
    "stxn = txn.sign(usiv_private_address)\n",
    "\n",
    "# Step 3: send\n",
    "txid = algod_client.send_transactions([stxn])\n",
    "\n",
    "# Step 4: wait for ...\n",
    "txinfo = wait_for_confirmation(algod_client, txid)"
   ]
  },
  {
   "cell_type": "markdown",
   "metadata": {},
   "source": [
    "**Important**: retrieve the app_id to be used later to issue operation against the smart contract"
   ]
  },
  {
   "cell_type": "code",
   "execution_count": 95,
   "metadata": {},
   "outputs": [
    {
     "name": "stdout",
     "output_type": "stream",
     "text": [
      "Created new app-id: 685799166\n"
     ]
    }
   ],
   "source": [
    "app_id = txinfo[\"application-index\"]\n",
    "print(\"Created new app-id:\", app_id)"
   ]
  },
  {
   "cell_type": "markdown",
   "metadata": {},
   "source": [
    "Read the state of the smart contact from the ledger"
   ]
  },
  {
   "cell_type": "code",
   "execution_count": 96,
   "metadata": {},
   "outputs": [
    {
     "data": {
      "text/plain": [
       "{'TotalOptIn': 0,\n",
       " 'Abstained': 0,\n",
       " 'Against': 0,\n",
       " 'In favor': 0,\n",
       " 'TotalVotes': 0,\n",
       " 'Verdict': b'',\n",
       " 'VoteInfo': 'For each proposal, vote in favor, against, or abstain'}"
      ]
     },
     "execution_count": 96,
     "metadata": {},
     "output_type": "execute_result"
    }
   ],
   "source": [
    "format_state(read_global_state(algod_client, app_id))"
   ]
  },
  {
   "cell_type": "markdown",
   "metadata": {},
   "source": [
    "#### Step 3: Opt-in the smart contract from all the members"
   ]
  },
  {
   "cell_type": "markdown",
   "metadata": {},
   "source": [
    "#### Information for the opt-in"
   ]
  },
  {
   "cell_type": "code",
   "execution_count": 97,
   "metadata": {},
   "outputs": [],
   "source": [
    "members = credentials['members_credentials']"
   ]
  },
  {
   "cell_type": "code",
   "execution_count": 98,
   "metadata": {},
   "outputs": [],
   "source": [
    "def member_optin(member, member_name, app_id):\n",
    "    \"\"\"\n",
    "    Opt-in a member to a voting contract\n",
    "    \"\"\"\n",
    "    # Step 1: prepare transaction\n",
    "    sp = algod_client.suggested_params()\n",
    "    txn = transaction.ApplicationOptInTxn(member['public'], sp, app_id)\n",
    "\n",
    "    # Step 2: sign transaction\n",
    "    stxn = txn.sign(member['private'])\n",
    "\n",
    "    # Step 3: send\n",
    "    txid = algod_client.send_transactions([stxn])\n",
    "\n",
    "    # Step 4: await confirmation\n",
    "    txinfo = wait_for_confirmation(algod_client, txid)\n",
    "\n",
    "    # Log\n",
    "    print(f\"The member '{member_name}' is opt-in and has {algod_client.account_info(member['public'])['assets'][1]['amount']} USIV coin\")"
   ]
  },
  {
   "cell_type": "code",
   "execution_count": 99,
   "metadata": {},
   "outputs": [
    {
     "name": "stdout",
     "output_type": "stream",
     "text": [
      "Current round is  41168820.\n",
      "Waiting for round 41168820 to finish.\n",
      "Waiting for round 41168821 to finish.\n",
      "Transaction TVTV7RFR2TRWNZV3WN2OSM5FFVO3Y2TX354X2K25OM2BVIXSVDRA confirmed in round 41168822.\n",
      "The member 'Murphy' is opt-in and has 0 USIV coin\n",
      "Current round is  41168822.\n",
      "Waiting for round 41168822 to finish.\n",
      "Waiting for round 41168823 to finish.\n",
      "Transaction HCN45QB6SP5N2U3MBOVMV55LZ4N3K7T6ZHARJL5B56CMCYLSLC7Q confirmed in round 41168824.\n",
      "The member 'Shaffer' is opt-in and has 0 USIV coin\n",
      "Current round is  41168824.\n",
      "Waiting for round 41168824 to finish.\n",
      "Waiting for round 41168825 to finish.\n",
      "Transaction U6LPH5NELM42UJLO4LYRHCEBOHB5I3JWETSCTREWAWMZMWAF6BTQ confirmed in round 41168826.\n",
      "The member 'Beck' is opt-in and has 1 USIV coin\n",
      "Current round is  41168826.\n",
      "Waiting for round 41168826 to finish.\n",
      "Waiting for round 41168827 to finish.\n",
      "Transaction SDFVDFGWQO6HROBR6BCX5MBYCHRPSFMTP5VGNBUTFKREL634NCVA confirmed in round 41168828.\n",
      "The member 'Smith' is opt-in and has 0 USIV coin\n",
      "Current round is  41168828.\n",
      "Waiting for round 41168828 to finish.\n",
      "Waiting for round 41168829 to finish.\n",
      "Transaction UITNQCXMBLBM7WPRN2CT3JCOQAGLPYFKNQHQ3EEUXNO7V7I2D4CQ confirmed in round 41168830.\n",
      "The member 'Gibson' is opt-in and has 0 USIV coin\n",
      "Current round is  41168830.\n",
      "Waiting for round 41168830 to finish.\n",
      "Waiting for round 41168831 to finish.\n",
      "Transaction V3NHGF3R3OTUYDLCBNYOY3UBI2CBER7EHNQVDFHFDBOLLAMWYZIA confirmed in round 41168832.\n",
      "The member 'Duncan' is opt-in and has 1 USIV coin\n",
      "Current round is  41168832.\n",
      "Waiting for round 41168832 to finish.\n",
      "Waiting for round 41168833 to finish.\n",
      "Transaction BXGK44HXDBNQVVNDUTVGXLAWCVNKF2U5KON6DZG4F4FFIFXGKLXA confirmed in round 41168834.\n",
      "The member 'Powers' is opt-in and has 1 USIV coin\n",
      "Current round is  41168834.\n",
      "Waiting for round 41168834 to finish.\n",
      "Waiting for round 41168835 to finish.\n",
      "Transaction DYV7MYNGMLFRDMX3KV3CA6PZCLSHEELJQIZLDNEIL6ROEYG7CMRQ confirmed in round 41168836.\n",
      "The member 'Jordan' is opt-in and has 1 USIV coin\n",
      "Current round is  41168836.\n",
      "Waiting for round 41168836 to finish.\n",
      "Waiting for round 41168837 to finish.\n",
      "Transaction WXIONCX7RGVI2DII62XZH4KDF5BGCSPM2XQQACA33H32BTW6GBHA confirmed in round 41168838.\n",
      "The member 'Atkins' is opt-in and has 1 USIV coin\n",
      "Current round is  41168838.\n",
      "Waiting for round 41168838 to finish.\n",
      "Waiting for round 41168839 to finish.\n",
      "Transaction ZIOBNCSYB4OAC7PDPHT5R7U3VSRE3ODBH4YJ4VJ3KTFG4Q4XC7ZA confirmed in round 41168840.\n",
      "The member 'Carr' is opt-in and has 1 USIV coin\n",
      "Current round is  41168840.\n",
      "Waiting for round 41168840 to finish.\n",
      "Waiting for round 41168841 to finish.\n",
      "Transaction K4COLK673QBSY3TXZYVDR6V43ZCVCEHI5X7JEHQRMHRGQ2LYQIGQ confirmed in round 41168842.\n",
      "The member 'Pacheco' is opt-in and has 1 USIV coin\n",
      "Current round is  41168842.\n",
      "Waiting for round 41168842 to finish.\n",
      "Waiting for round 41168843 to finish.\n",
      "Transaction 3C4CBSKIL5J3A4N6GGD7YSS2WRFESVKB544R7NDFGFKCRTYZM4MA confirmed in round 41168844.\n",
      "The member 'Hanson' is opt-in and has 1 USIV coin\n",
      "Current round is  41168844.\n",
      "Waiting for round 41168844 to finish.\n",
      "Waiting for round 41168845 to finish.\n",
      "Transaction HAQEXELD4KXL6HCW2VYUTIGG6PSXVACCUT3XRECZJAZCYQFLZRGA confirmed in round 41168846.\n",
      "The member 'Diaz' is opt-in and has 1 USIV coin\n",
      "Current round is  41168846.\n",
      "Waiting for round 41168846 to finish.\n",
      "Waiting for round 41168847 to finish.\n",
      "Transaction XX7N5JEOVFFOUG2FP55X3JWZX7SYB7VUPILZFV7V7MLBNADMCWEQ confirmed in round 41168848.\n",
      "The member 'Williams' is opt-in and has 1 USIV coin\n",
      "Current round is  41168848.\n",
      "Waiting for round 41168848 to finish.\n",
      "Waiting for round 41168849 to finish.\n",
      "Transaction N6MVQBXOFICVYO5LXVF6F72SASPDLZRIGBHHYQFW7BIE4QAMIN6A confirmed in round 41168850.\n",
      "The member 'Wright' is opt-in and has 1 USIV coin\n",
      "Current round is  41168850.\n",
      "Waiting for round 41168850 to finish.\n",
      "Waiting for round 41168851 to finish.\n",
      "Transaction TFHNGZZORDTKFYJUHW2QJ6SMHQDCKVNJPMXZJ3SJJVINGKJ6S7DQ confirmed in round 41168852.\n",
      "The member 'Harris' is opt-in and has 1 USIV coin\n",
      "Current round is  41168852.\n",
      "Waiting for round 41168852 to finish.\n",
      "Waiting for round 41168853 to finish.\n",
      "Transaction QV6R6WQ3MG2YV77ZJZU3A5BGIKRAM6YNPARWSG5QD62ZWMZNMTLQ confirmed in round 41168854.\n",
      "The member 'Valdez' is opt-in and has 1 USIV coin\n",
      "Current round is  41168854.\n",
      "Waiting for round 41168854 to finish.\n",
      "Waiting for round 41168855 to finish.\n",
      "Transaction D2VZUV7I3TJXSBGXVANBFDULZ6RFVXIHIRBXKXXRWGL337V4R6DQ confirmed in round 41168856.\n",
      "The member 'Davidson' is opt-in and has 1 USIV coin\n",
      "Current round is  41168856.\n",
      "Waiting for round 41168856 to finish.\n",
      "Waiting for round 41168857 to finish.\n",
      "Transaction FCDGWN5GJ6STC5D6SFQDHE3LMGVBOYHIP35ZMYNNCO7VR2A4HY4Q confirmed in round 41168858.\n",
      "The member 'Stewart' is opt-in and has 1 USIV coin\n",
      "Current round is  41168858.\n",
      "Waiting for round 41168858 to finish.\n",
      "Waiting for round 41168859 to finish.\n",
      "Transaction CFSLZ3ICOMW25WXED5LAWOG3JGVOAB6VKGMATJ6GXWOAIYIIK37A confirmed in round 41168860.\n",
      "The member 'Bell' is opt-in and has 1 USIV coin\n",
      "Current round is  41168860.\n",
      "Waiting for round 41168860 to finish.\n",
      "Waiting for round 41168861 to finish.\n",
      "Transaction MDXQBMOF3WBXOMKWHRMQABMT5TH4BW266QIAKXFMI4GQDF4EURWQ confirmed in round 41168862.\n",
      "The member 'MD' is opt-in and has 1 USIV coin\n",
      "Current round is  41168862.\n",
      "Waiting for round 41168862 to finish.\n",
      "Waiting for round 41168863 to finish.\n",
      "Transaction JCLY3NM6AHJHGOJP2QVGIP77HGHFEXXLLFIGZE6XO5YYJDC2WFXA confirmed in round 41168864.\n",
      "The member 'Moore' is opt-in and has 1 USIV coin\n",
      "Current round is  41168864.\n",
      "Waiting for round 41168864 to finish.\n",
      "Waiting for round 41168865 to finish.\n",
      "Transaction 3BX3VHLGTA2UCINWLFLEZLHFFKW22AYVTSBNKUSDP3BUFWUDDK7Q confirmed in round 41168866.\n",
      "The member 'Thomas' is opt-in and has 1 USIV coin\n",
      "Current round is  41168866.\n",
      "Waiting for round 41168866 to finish.\n",
      "Waiting for round 41168867 to finish.\n",
      "Transaction AKBGT5PQFBBXKT5ALCHHQB4FSB7WMUM4S45F6LUERBOUHTQHZJYA confirmed in round 41168868.\n",
      "The member 'Jackson' is opt-in and has 1 USIV coin\n",
      "Current round is  41168868.\n",
      "Waiting for round 41168868 to finish.\n",
      "Waiting for round 41168869 to finish.\n",
      "Transaction 2IXRWDFE7F7FXP4XJHNKFAWLLM4DYZZVNEHDP7P3D7FLMMCTJHZQ confirmed in round 41168870.\n",
      "The member 'Fry' is opt-in and has 1 USIV coin\n",
      "Current round is  41168870.\n",
      "Waiting for round 41168870 to finish.\n",
      "Waiting for round 41168871 to finish.\n",
      "Transaction SOYMBX3WELV6M3Y3SFINB3663RLS2NKWWVI6YUOW3DGTLY3GN77A confirmed in round 41168872.\n",
      "The member 'Patel' is opt-in and has 1 USIV coin\n",
      "Current round is  41168872.\n",
      "Waiting for round 41168872 to finish.\n",
      "Waiting for round 41168873 to finish.\n",
      "Transaction KQEBWIBK5YQ2EPAYHJKN5VNC56ZADZM2POYL42PHSJEXD43NY3OQ confirmed in round 41168874.\n",
      "The member 'Fields' is opt-in and has 1 USIV coin\n",
      "Current round is  41168874.\n",
      "Waiting for round 41168874 to finish.\n",
      "Waiting for round 41168875 to finish.\n",
      "Transaction WW7NYYS4HEXQOSTC4IA7APCV3Z3TGL6I6HC2LDDFXNSS7HJFUA3Q confirmed in round 41168876.\n",
      "The member 'Wong' is opt-in and has 1 USIV coin\n",
      "Current round is  41168876.\n",
      "Waiting for round 41168876 to finish.\n",
      "Waiting for round 41168877 to finish.\n",
      "Transaction WEIR6VX3W4N3CJ27ALNLNJ4AEQCMW26PVAWXQ36FO7S3CQDDLHGQ confirmed in round 41168878.\n",
      "The member 'Bender' is opt-in and has 1 USIV coin\n",
      "Current round is  41168878.\n",
      "Waiting for round 41168878 to finish.\n",
      "Waiting for round 41168879 to finish.\n",
      "Transaction DCC6RQ5EAGOUUZC5AYDEQQ2QASYPE4NBMU5Z7DMHUFZL2WZKXDWQ confirmed in round 41168880.\n",
      "The member 'Hobbs' is opt-in and has 1 USIV coin\n",
      "Current round is  41168880.\n",
      "Waiting for round 41168880 to finish.\n",
      "Waiting for round 41168881 to finish.\n",
      "Transaction ONMPZ7Y3EOLGT2MJBNFOLZZKVGTWLGEGMLJTD3ZS3W37R4G3JJGA confirmed in round 41168882.\n",
      "The member 'Winters' is opt-in and has 1 USIV coin\n",
      "Current round is  41168882.\n",
      "Waiting for round 41168882 to finish.\n",
      "Waiting for round 41168883 to finish.\n",
      "Transaction 3G2UEGIQVDMATLGAIIG7I6CYLW4IUDGARQS3HE7IZONWOH2NEHYQ confirmed in round 41168884.\n",
      "The member 'Wilkinson' is opt-in and has 1 USIV coin\n"
     ]
    }
   ],
   "source": [
    "import itertools\n",
    "\n",
    "# loop through the member and issue a vote\n",
    "[ member_optin(members[member], member, app_id) for member in dict(itertools.islice(members.items(), 0, 32)) ];"
   ]
  },
  {
   "cell_type": "markdown",
   "metadata": {},
   "source": [
    "What is the state of the contract after the opt-in?"
   ]
  },
  {
   "cell_type": "code",
   "execution_count": 100,
   "metadata": {},
   "outputs": [
    {
     "data": {
      "text/plain": [
       "{'Abstained': 0,\n",
       " 'Against': 0,\n",
       " 'In favor': 0,\n",
       " 'TotalOptIn': 32,\n",
       " 'Verdict': b'',\n",
       " 'VoteInfo': 'For each proposal, vote in favor, against, or abstain',\n",
       " 'TotalVotes': 0}"
      ]
     },
     "execution_count": 100,
     "metadata": {},
     "output_type": "execute_result"
    }
   ],
   "source": [
    "format_state(read_global_state(algod_client,app_id))"
   ]
  },
  {
   "cell_type": "markdown",
   "metadata": {},
   "source": [
    "#### Step 4: Let's vote!\n"
   ]
  },
  {
   "cell_type": "markdown",
   "metadata": {},
   "source": [
    "#### Voting needed information"
   ]
  },
  {
   "cell_type": "code",
   "execution_count": 101,
   "metadata": {},
   "outputs": [
    {
     "name": "stdout",
     "output_type": "stream",
     "text": [
      "The asset (coin) id to be allowed to express the vote is: 684625427\n"
     ]
    }
   ],
   "source": [
    "# first, retrieve the asset id for voting\n",
    "usiv                = credentials['usiv']\n",
    "members             = credentials['members_credentials']\n",
    "idx_coin            = algod_client.account_info(usiv['public'])[\"assets\"][1][\"asset-id\"]\n",
    "\n",
    "print(f\"The asset (coin) id to be allowed to express the vote is: {idx_coin}\")\n"
   ]
  },
  {
   "cell_type": "markdown",
   "metadata": {},
   "source": [
    "#### Issue a vote\n",
    "We would like each member to send a group transaction composed of two transactions:\n",
    "1. The first one is to transfer the coin to the voting contract\n",
    "2. The second one is to vote for the proposal"
   ]
  },
  {
   "cell_type": "code",
   "execution_count": 102,
   "metadata": {},
   "outputs": [],
   "source": [
    "# function definition for the member to vote\n",
    "def member_vote(association, member, member_name, app_id, idx_coin):\n",
    "    \"\"\"\n",
    "        Given a member and the contract id, issue a voting preference:\n",
    "            \"In favor\",\n",
    "            \"Against\",\n",
    "            \"Abstained\"\n",
    "    \"\"\"\n",
    "\n",
    "    ##########\n",
    "    # Step 1: prepare the transactions\n",
    "    sp = algod_client.suggested_params()\n",
    "\n",
    "    # retrieve the vote as a random choice between the three candidates\n",
    "    vote = [\"In favor\", \"Against\", \"Abstained\"][random.randrange(0,3)]\n",
    "\n",
    "    # 1st transaction -> Asset transfer to make sure the user can vote\n",
    "    amt_1 = int(1)\n",
    "    txn_1 = transaction.AssetTransferTxn(\n",
    "        sender=member['public'], \n",
    "        sp=sp, \n",
    "        receiver=association['public'], \n",
    "        amt=amt_1,\n",
    "        index=idx_coin)\n",
    "\n",
    "    # 2nd transaction -> Vote\n",
    "    txn_2 = transaction.ApplicationNoOpTxn(\n",
    "        sender=member['public'], \n",
    "        sp=sp, \n",
    "        index=app_id, \n",
    "        app_args=[vote]\n",
    "    )\n",
    "\n",
    "    ##########\n",
    "    # Step 2: Create group transaction by assigning the group_id to the transaction group\n",
    "    gid = transaction.calculate_group_id([txn_1, txn_2])\n",
    "    txn_1.group = gid\n",
    "    txn_2.group = gid\n",
    "\n",
    "    ##########\n",
    "    # Step 3: sign each transaction individually\n",
    "    stxn_1 = txn_1.sign(member['private'])\n",
    "    stxn_2 = txn_2.sign(member['private'])\n",
    "\n",
    "    ##########\n",
    "    # Step 4: send\n",
    "    txid = algod_client.send_transactions([stxn_1, stxn_2])\n",
    "\n",
    "    ##########\n",
    "    # Step 5: wait for condfirmation\n",
    "    txinfo = wait_for_confirmation(algod_client, txid)\n",
    "\n",
    "    # Print the state \n",
    "    print(f\"The member '{member_name}' has expressed the vote: {vote}\")"
   ]
  },
  {
   "cell_type": "code",
   "execution_count": 103,
   "metadata": {},
   "outputs": [
    {
     "name": "stdout",
     "output_type": "stream",
     "text": [
      "Current round is  41168942.\n",
      "Waiting for round 41168942 to finish.\n",
      "Waiting for round 41168943 to finish.\n",
      "Transaction K55L6NNM2MCEPCJ5MQTU64OPE5Z3MLDBTOXHKDU77NBBDQAIUSZA confirmed in round 41168944.\n",
      "The member 'Murphy' has expressed the vote: Abstained\n",
      "Current round is  41168944.\n",
      "Waiting for round 41168944 to finish.\n",
      "Waiting for round 41168945 to finish.\n",
      "Transaction AR2PXG2ZBU3MTRJNUG2RDNO6ECHIBDH3B5CC3MNKUUMBREFHM3MA confirmed in round 41168946.\n",
      "The member 'Shaffer' has expressed the vote: Against\n",
      "Current round is  41168946.\n",
      "Waiting for round 41168946 to finish.\n",
      "Waiting for round 41168947 to finish.\n",
      "Transaction F5UTH5CED46LG2MX466CFKAWM3UT63LUZQFICXKVQBHELLEGNJZQ confirmed in round 41168948.\n",
      "The member 'Beck' has expressed the vote: In favor\n",
      "Current round is  41168948.\n",
      "Waiting for round 41168948 to finish.\n",
      "Waiting for round 41168949 to finish.\n",
      "Transaction 3OZY5O3YZR3VN2ZZQ46FLGBW5UMHLH5LOLSUISTKIZ6AVSKCS4LQ confirmed in round 41168950.\n",
      "The member 'Smith' has expressed the vote: Against\n",
      "Current round is  41168950.\n",
      "Waiting for round 41168950 to finish.\n",
      "Waiting for round 41168951 to finish.\n",
      "Transaction 3VRD5ZS6SYE2CZARA3LO55DY5SACAU4EXVRHTMTTGFF56K3AWQ4Q confirmed in round 41168952.\n",
      "The member 'Gibson' has expressed the vote: Abstained\n",
      "Current round is  41168952.\n",
      "Waiting for round 41168952 to finish.\n",
      "Waiting for round 41168953 to finish.\n",
      "Transaction UNLV5QFUI5Z7UHIQVCZ7B4MKCNPP6UWP3JHEZD4EIWQLDSKKOK2A confirmed in round 41168954.\n",
      "The member 'Duncan' has expressed the vote: In favor\n",
      "Current round is  41168954.\n",
      "Waiting for round 41168954 to finish.\n",
      "Waiting for round 41168955 to finish.\n",
      "Transaction T6KEHOWMKFGFEWVERLPMOETPL6JIPXOLBGGW52TTGR3LICLDMI7Q confirmed in round 41168956.\n",
      "The member 'Powers' has expressed the vote: Against\n",
      "Current round is  41168956.\n",
      "Waiting for round 41168956 to finish.\n",
      "Waiting for round 41168957 to finish.\n",
      "Transaction PHBKK6A66VDM3DX5G3SZ46662FGCQSCWQDQTANHCMLQQNUXH44RQ confirmed in round 41168958.\n",
      "The member 'Jordan' has expressed the vote: Against\n",
      "Current round is  41168958.\n",
      "Waiting for round 41168958 to finish.\n",
      "Waiting for round 41168959 to finish.\n",
      "Transaction 7MT4IM2JK6OVUMOGLOIQ6XAVIJECTL4QIJSYEGMVZQD6VQC6CCOA confirmed in round 41168960.\n",
      "The member 'Atkins' has expressed the vote: Abstained\n",
      "Current round is  41168960.\n",
      "Waiting for round 41168960 to finish.\n",
      "Waiting for round 41168961 to finish.\n",
      "Transaction ARCRPHOGDXSHLBD4BZQ2YRSNYBKIWRDBECGE2QK55VVKT4LC3WIA confirmed in round 41168962.\n",
      "The member 'Carr' has expressed the vote: Against\n",
      "Current round is  41168962.\n",
      "Waiting for round 41168962 to finish.\n",
      "Waiting for round 41168963 to finish.\n",
      "Transaction QUZXLYBARJXYMDTRAN3I7PFY4ZPSDBBP4H6D2UAGITRNCYBZWGYQ confirmed in round 41168964.\n",
      "The member 'Pacheco' has expressed the vote: In favor\n",
      "Current round is  41168964.\n",
      "Waiting for round 41168964 to finish.\n",
      "Waiting for round 41168965 to finish.\n",
      "Transaction HFC5GOW7CCXI3PD3N7MFO6RRZHCBZ6XTPYVSZLD2QNZBGIYJP2HQ confirmed in round 41168966.\n",
      "The member 'Hanson' has expressed the vote: Abstained\n",
      "Current round is  41168966.\n",
      "Waiting for round 41168966 to finish.\n",
      "Waiting for round 41168967 to finish.\n",
      "Transaction EPWG66KI4LP2OT3LTGY6PF7VWYGIFQBN32ABLTTVGNPIDO25QCKQ confirmed in round 41168968.\n",
      "The member 'Diaz' has expressed the vote: Abstained\n",
      "Current round is  41168968.\n",
      "Waiting for round 41168968 to finish.\n",
      "Waiting for round 41168969 to finish.\n",
      "Transaction SICDQYUX5H77H7HPFSDZVENFFSPMGUSTKQ3KOEUDWVN6LOVW5SGA confirmed in round 41168970.\n",
      "The member 'Williams' has expressed the vote: Against\n",
      "Current round is  41168970.\n",
      "Waiting for round 41168970 to finish.\n",
      "Waiting for round 41168971 to finish.\n",
      "Transaction BIW3CG2JOTDIIP2SNRIJSKBJ7O4UZ4AJOUK7WDT7VZK5DKEPP2UQ confirmed in round 41168972.\n",
      "The member 'Wright' has expressed the vote: Against\n",
      "Current round is  41168972.\n",
      "Waiting for round 41168972 to finish.\n",
      "Waiting for round 41168973 to finish.\n",
      "Transaction FXX2QEBHUZJQVWPV33577MF6ET3RXLIW66E57DMF3VNXOEIXDCNA confirmed in round 41168974.\n",
      "The member 'Harris' has expressed the vote: In favor\n",
      "Current round is  41168974.\n",
      "Waiting for round 41168974 to finish.\n",
      "Waiting for round 41168975 to finish.\n",
      "Transaction PCCFVSK6XTXF5OO55RENIOSLGB2IL7GAYMKHISAUMOQY7WEZRLCQ confirmed in round 41168976.\n",
      "The member 'Valdez' has expressed the vote: Against\n",
      "Current round is  41168976.\n",
      "Waiting for round 41168976 to finish.\n",
      "Waiting for round 41168977 to finish.\n",
      "Transaction CJI37ZMZXL6Y652DEFP5Z5TZYY4D4Q4PNYQ6KLVYLJ6OOWR46DWA confirmed in round 41168978.\n",
      "The member 'Davidson' has expressed the vote: Against\n",
      "Current round is  41168978.\n",
      "Waiting for round 41168978 to finish.\n",
      "Waiting for round 41168979 to finish.\n",
      "Transaction JZP6DJJQRVXFHDUR4LPFTCWWEHPPO3H7KUY73D4MWCM3G6QV5MKA confirmed in round 41168980.\n",
      "The member 'Stewart' has expressed the vote: Abstained\n",
      "Current round is  41168980.\n",
      "Waiting for round 41168980 to finish.\n",
      "Waiting for round 41168981 to finish.\n",
      "Transaction AOA2P3DG43442LUIIEZVCSNUCCODQJYTUQ56H6KERZIYCH5EHYHA confirmed in round 41168982.\n",
      "The member 'Bell' has expressed the vote: Against\n",
      "Current round is  41168982.\n",
      "Waiting for round 41168982 to finish.\n",
      "Waiting for round 41168983 to finish.\n",
      "Transaction HIJAP7UCHZ36ZLF3E6Y7RIWUB72HJ4L46FW2Z76DREDVV3V6SZ6Q confirmed in round 41168984.\n",
      "The member 'MD' has expressed the vote: Against\n",
      "Current round is  41168984.\n",
      "Waiting for round 41168984 to finish.\n",
      "Waiting for round 41168985 to finish.\n",
      "Transaction PCKTAVLH36DK5B5N7VCF3GMUQ6YU7R5TBDGOA3LQKO3VNSBKDYQA confirmed in round 41168986.\n",
      "The member 'Moore' has expressed the vote: Against\n",
      "Current round is  41168986.\n",
      "Waiting for round 41168986 to finish.\n",
      "Waiting for round 41168987 to finish.\n",
      "Transaction AO32APLHGAPE774DZDQ3YJHOB47LCHYHYXQ7TD75PE7HMZ3UHPAA confirmed in round 41168988.\n",
      "The member 'Thomas' has expressed the vote: In favor\n",
      "Current round is  41168988.\n",
      "Waiting for round 41168988 to finish.\n",
      "Waiting for round 41168989 to finish.\n",
      "Transaction PRFVR2CJ27FAELPP2UEKN4WJOPDF4NUZXD57HWVWNYK2UDSBE7YQ confirmed in round 41168990.\n",
      "The member 'Jackson' has expressed the vote: In favor\n",
      "Current round is  41168990.\n",
      "Waiting for round 41168990 to finish.\n",
      "Waiting for round 41168991 to finish.\n",
      "Transaction USF4T4UNJKRWWP5APSJQF5WVXYOSVFCYOB7G2VLNAYNJVF5B3LAA confirmed in round 41168992.\n",
      "The member 'Fry' has expressed the vote: In favor\n",
      "Current round is  41168992.\n",
      "Waiting for round 41168992 to finish.\n",
      "Waiting for round 41168993 to finish.\n",
      "Transaction ROWYYO3JBFDD3CYDBWGQTN43APJL5MYPQ3VXXQ6E42OMOWRD7RTA confirmed in round 41168994.\n",
      "The member 'Patel' has expressed the vote: Abstained\n",
      "Current round is  41168994.\n",
      "Waiting for round 41168994 to finish.\n",
      "Waiting for round 41168995 to finish.\n",
      "Transaction MHJ5Y7PVCI2ANCSHFQEN2UJIWCC3GZPN6DHOP6BP7FXGDUTGKNNQ confirmed in round 41168996.\n",
      "The member 'Fields' has expressed the vote: In favor\n",
      "Current round is  41168996.\n",
      "Waiting for round 41168996 to finish.\n",
      "Waiting for round 41168997 to finish.\n",
      "Transaction INL3HLJRPMWDQRH2RTNW6O2RPBQQMM4B477GKJCMO4OOMTT53H6A confirmed in round 41168998.\n",
      "The member 'Wong' has expressed the vote: In favor\n",
      "Current round is  41168998.\n",
      "Waiting for round 41168998 to finish.\n",
      "Waiting for round 41168999 to finish.\n",
      "Transaction 4ER25HKXCAVHWYKT3P4OMMAYVDML6N5IBGX6NJXOMY3GBT2M6TWQ confirmed in round 41169000.\n",
      "The member 'Bender' has expressed the vote: Abstained\n",
      "Current round is  41169000.\n",
      "Waiting for round 41169000 to finish.\n",
      "Waiting for round 41169001 to finish.\n",
      "Transaction 66K5XVMEB5Y7622AVKONV7YT5MCREURDMBAFT4PAUAYN7BEE5Z6Q confirmed in round 41169002.\n",
      "The member 'Hobbs' has expressed the vote: Abstained\n",
      "Current round is  41169002.\n",
      "Waiting for round 41169002 to finish.\n",
      "Waiting for round 41169003 to finish.\n",
      "Transaction L7Y3WCT2ZZVAP4AJR5NVYRF53HDETUB5EUQ2KMEJZPXAN5YEQVAA confirmed in round 41169004.\n",
      "The member 'Winters' has expressed the vote: Abstained\n",
      "Current round is  41169004.\n",
      "Waiting for round 41169004 to finish.\n",
      "Waiting for round 41169005 to finish.\n",
      "Transaction LS3CIRF2ZVP2STEGWFSEUNBI6XJKBEJOREE65KXKH2OFDANFPGGA confirmed in round 41169006.\n",
      "The member 'Wilkinson' has expressed the vote: Against\n"
     ]
    }
   ],
   "source": [
    "import itertools\n",
    "\n",
    "# loop through the member and issue a vote\n",
    "[ member_vote(usiv, members[member], member, app_id, idx_coin) for member in dict(itertools.islice(members.items(), 0, 32)) ];"
   ]
  },
  {
   "cell_type": "markdown",
   "metadata": {},
   "source": [
    "#### Proposal verdict\n",
    "Let's count the number of \"In favor\" and \"Against\" to see the verdict"
   ]
  },
  {
   "cell_type": "code",
   "execution_count": 104,
   "metadata": {},
   "outputs": [
    {
     "data": {
      "text/plain": [
       "{'Abstained': 10,\n",
       " 'Against': 13,\n",
       " 'TotalOptIn': 32,\n",
       " 'Verdict': b'KJSWUZLDORSWI===',\n",
       " 'VoteInfo': 'For each proposal, vote in favor, against, or abstain',\n",
       " 'In favor': 9,\n",
       " 'TotalVotes': 32}"
      ]
     },
     "execution_count": 104,
     "metadata": {},
     "output_type": "execute_result"
    }
   ],
   "source": [
    "format_state(read_global_state(algod_client,app_id))"
   ]
  },
  {
   "cell_type": "markdown",
   "metadata": {},
   "source": [
    "### Let a member vote again\n",
    "This should give a failure of approval from the smart contract has the member has already voted. Also the account does not have enough ASA to vote."
   ]
  },
  {
   "cell_type": "code",
   "execution_count": 105,
   "metadata": {},
   "outputs": [
    {
     "ename": "AlgodHTTPError",
     "evalue": "TransactionPool.Remember: transaction SZBBOWKZAJ7WCIYIXC4XY5SML22IFFS2UWSP5RG7Q65TDSTTON5A: underflow on subtracting 1 from sender amount 0",
     "output_type": "error",
     "traceback": [
      "\u001b[0;31m---------------------------------------------------------------------------\u001b[0m",
      "\u001b[0;31mHTTPError\u001b[0m                                 Traceback (most recent call last)",
      "File \u001b[0;32m~/anaconda3/lib/python3.11/site-packages/algosdk/v2client/algod.py:104\u001b[0m, in \u001b[0;36mAlgodClient.algod_request\u001b[0;34m(self, method, requrl, params, data, headers, response_format)\u001b[0m\n\u001b[1;32m    103\u001b[0m \u001b[38;5;28;01mtry\u001b[39;00m:\n\u001b[0;32m--> 104\u001b[0m     resp \u001b[38;5;241m=\u001b[39m \u001b[43murlopen\u001b[49m\u001b[43m(\u001b[49m\u001b[43mreq\u001b[49m\u001b[43m)\u001b[49m\n\u001b[1;32m    105\u001b[0m \u001b[38;5;28;01mexcept\u001b[39;00m urllib\u001b[38;5;241m.\u001b[39merror\u001b[38;5;241m.\u001b[39mHTTPError \u001b[38;5;28;01mas\u001b[39;00m e:\n",
      "File \u001b[0;32m~/anaconda3/lib/python3.11/urllib/request.py:216\u001b[0m, in \u001b[0;36murlopen\u001b[0;34m(url, data, timeout, cafile, capath, cadefault, context)\u001b[0m\n\u001b[1;32m    215\u001b[0m     opener \u001b[38;5;241m=\u001b[39m _opener\n\u001b[0;32m--> 216\u001b[0m \u001b[38;5;28;01mreturn\u001b[39;00m \u001b[43mopener\u001b[49m\u001b[38;5;241;43m.\u001b[39;49m\u001b[43mopen\u001b[49m\u001b[43m(\u001b[49m\u001b[43murl\u001b[49m\u001b[43m,\u001b[49m\u001b[43m \u001b[49m\u001b[43mdata\u001b[49m\u001b[43m,\u001b[49m\u001b[43m \u001b[49m\u001b[43mtimeout\u001b[49m\u001b[43m)\u001b[49m\n",
      "File \u001b[0;32m~/anaconda3/lib/python3.11/urllib/request.py:525\u001b[0m, in \u001b[0;36mOpenerDirector.open\u001b[0;34m(self, fullurl, data, timeout)\u001b[0m\n\u001b[1;32m    524\u001b[0m     meth \u001b[38;5;241m=\u001b[39m \u001b[38;5;28mgetattr\u001b[39m(processor, meth_name)\n\u001b[0;32m--> 525\u001b[0m     response \u001b[38;5;241m=\u001b[39m \u001b[43mmeth\u001b[49m\u001b[43m(\u001b[49m\u001b[43mreq\u001b[49m\u001b[43m,\u001b[49m\u001b[43m \u001b[49m\u001b[43mresponse\u001b[49m\u001b[43m)\u001b[49m\n\u001b[1;32m    527\u001b[0m \u001b[38;5;28;01mreturn\u001b[39;00m response\n",
      "File \u001b[0;32m~/anaconda3/lib/python3.11/urllib/request.py:634\u001b[0m, in \u001b[0;36mHTTPErrorProcessor.http_response\u001b[0;34m(self, request, response)\u001b[0m\n\u001b[1;32m    633\u001b[0m \u001b[38;5;28;01mif\u001b[39;00m \u001b[38;5;129;01mnot\u001b[39;00m (\u001b[38;5;241m200\u001b[39m \u001b[38;5;241m<\u001b[39m\u001b[38;5;241m=\u001b[39m code \u001b[38;5;241m<\u001b[39m \u001b[38;5;241m300\u001b[39m):\n\u001b[0;32m--> 634\u001b[0m     response \u001b[38;5;241m=\u001b[39m \u001b[38;5;28;43mself\u001b[39;49m\u001b[38;5;241;43m.\u001b[39;49m\u001b[43mparent\u001b[49m\u001b[38;5;241;43m.\u001b[39;49m\u001b[43merror\u001b[49m\u001b[43m(\u001b[49m\n\u001b[1;32m    635\u001b[0m \u001b[43m        \u001b[49m\u001b[38;5;124;43m'\u001b[39;49m\u001b[38;5;124;43mhttp\u001b[39;49m\u001b[38;5;124;43m'\u001b[39;49m\u001b[43m,\u001b[49m\u001b[43m \u001b[49m\u001b[43mrequest\u001b[49m\u001b[43m,\u001b[49m\u001b[43m \u001b[49m\u001b[43mresponse\u001b[49m\u001b[43m,\u001b[49m\u001b[43m \u001b[49m\u001b[43mcode\u001b[49m\u001b[43m,\u001b[49m\u001b[43m \u001b[49m\u001b[43mmsg\u001b[49m\u001b[43m,\u001b[49m\u001b[43m \u001b[49m\u001b[43mhdrs\u001b[49m\u001b[43m)\u001b[49m\n\u001b[1;32m    637\u001b[0m \u001b[38;5;28;01mreturn\u001b[39;00m response\n",
      "File \u001b[0;32m~/anaconda3/lib/python3.11/urllib/request.py:563\u001b[0m, in \u001b[0;36mOpenerDirector.error\u001b[0;34m(self, proto, *args)\u001b[0m\n\u001b[1;32m    562\u001b[0m args \u001b[38;5;241m=\u001b[39m (\u001b[38;5;28mdict\u001b[39m, \u001b[38;5;124m'\u001b[39m\u001b[38;5;124mdefault\u001b[39m\u001b[38;5;124m'\u001b[39m, \u001b[38;5;124m'\u001b[39m\u001b[38;5;124mhttp_error_default\u001b[39m\u001b[38;5;124m'\u001b[39m) \u001b[38;5;241m+\u001b[39m orig_args\n\u001b[0;32m--> 563\u001b[0m \u001b[38;5;28;01mreturn\u001b[39;00m \u001b[38;5;28;43mself\u001b[39;49m\u001b[38;5;241;43m.\u001b[39;49m\u001b[43m_call_chain\u001b[49m\u001b[43m(\u001b[49m\u001b[38;5;241;43m*\u001b[39;49m\u001b[43margs\u001b[49m\u001b[43m)\u001b[49m\n",
      "File \u001b[0;32m~/anaconda3/lib/python3.11/urllib/request.py:496\u001b[0m, in \u001b[0;36mOpenerDirector._call_chain\u001b[0;34m(self, chain, kind, meth_name, *args)\u001b[0m\n\u001b[1;32m    495\u001b[0m func \u001b[38;5;241m=\u001b[39m \u001b[38;5;28mgetattr\u001b[39m(handler, meth_name)\n\u001b[0;32m--> 496\u001b[0m result \u001b[38;5;241m=\u001b[39m \u001b[43mfunc\u001b[49m\u001b[43m(\u001b[49m\u001b[38;5;241;43m*\u001b[39;49m\u001b[43margs\u001b[49m\u001b[43m)\u001b[49m\n\u001b[1;32m    497\u001b[0m \u001b[38;5;28;01mif\u001b[39;00m result \u001b[38;5;129;01mis\u001b[39;00m \u001b[38;5;129;01mnot\u001b[39;00m \u001b[38;5;28;01mNone\u001b[39;00m:\n",
      "File \u001b[0;32m~/anaconda3/lib/python3.11/urllib/request.py:643\u001b[0m, in \u001b[0;36mHTTPDefaultErrorHandler.http_error_default\u001b[0;34m(self, req, fp, code, msg, hdrs)\u001b[0m\n\u001b[1;32m    642\u001b[0m \u001b[38;5;28;01mdef\u001b[39;00m \u001b[38;5;21mhttp_error_default\u001b[39m(\u001b[38;5;28mself\u001b[39m, req, fp, code, msg, hdrs):\n\u001b[0;32m--> 643\u001b[0m     \u001b[38;5;28;01mraise\u001b[39;00m HTTPError(req\u001b[38;5;241m.\u001b[39mfull_url, code, msg, hdrs, fp)\n",
      "\u001b[0;31mHTTPError\u001b[0m: HTTP Error 400: Bad Request",
      "\nDuring handling of the above exception, another exception occurred:\n",
      "\u001b[0;31mAlgodHTTPError\u001b[0m                            Traceback (most recent call last)",
      "Cell \u001b[0;32mIn[105], line 4\u001b[0m\n\u001b[1;32m      1\u001b[0m \u001b[38;5;28;01mimport\u001b[39;00m \u001b[38;5;21;01mitertools\u001b[39;00m\n\u001b[1;32m      3\u001b[0m \u001b[38;5;66;03m# loop through the member and issue a vote\u001b[39;00m\n\u001b[0;32m----> 4\u001b[0m \u001b[43m[\u001b[49m\u001b[43m \u001b[49m\u001b[43mmember_vote\u001b[49m\u001b[43m(\u001b[49m\u001b[43musiv\u001b[49m\u001b[43m,\u001b[49m\u001b[43m \u001b[49m\u001b[43mmembers\u001b[49m\u001b[43m[\u001b[49m\u001b[43mmember\u001b[49m\u001b[43m]\u001b[49m\u001b[43m,\u001b[49m\u001b[43m \u001b[49m\u001b[43mmember\u001b[49m\u001b[43m,\u001b[49m\u001b[43m \u001b[49m\u001b[43mapp_id\u001b[49m\u001b[43m,\u001b[49m\u001b[43m \u001b[49m\u001b[43midx_coin\u001b[49m\u001b[43m)\u001b[49m\u001b[43m \u001b[49m\u001b[38;5;28;43;01mfor\u001b[39;49;00m\u001b[43m \u001b[49m\u001b[43mmember\u001b[49m\u001b[43m \u001b[49m\u001b[38;5;129;43;01min\u001b[39;49;00m\u001b[43m \u001b[49m\u001b[38;5;28;43mdict\u001b[39;49m\u001b[43m(\u001b[49m\u001b[43mitertools\u001b[49m\u001b[38;5;241;43m.\u001b[39;49m\u001b[43mislice\u001b[49m\u001b[43m(\u001b[49m\u001b[43mmembers\u001b[49m\u001b[38;5;241;43m.\u001b[39;49m\u001b[43mitems\u001b[49m\u001b[43m(\u001b[49m\u001b[43m)\u001b[49m\u001b[43m,\u001b[49m\u001b[43m \u001b[49m\u001b[38;5;241;43m0\u001b[39;49m\u001b[43m,\u001b[49m\u001b[43m \u001b[49m\u001b[38;5;241;43m1\u001b[39;49m\u001b[43m)\u001b[49m\u001b[43m)\u001b[49m\u001b[43m \u001b[49m\u001b[43m]\u001b[49m\n",
      "Cell \u001b[0;32mIn[105], line 4\u001b[0m, in \u001b[0;36m<listcomp>\u001b[0;34m(.0)\u001b[0m\n\u001b[1;32m      1\u001b[0m \u001b[38;5;28;01mimport\u001b[39;00m \u001b[38;5;21;01mitertools\u001b[39;00m\n\u001b[1;32m      3\u001b[0m \u001b[38;5;66;03m# loop through the member and issue a vote\u001b[39;00m\n\u001b[0;32m----> 4\u001b[0m [ \u001b[43mmember_vote\u001b[49m\u001b[43m(\u001b[49m\u001b[43musiv\u001b[49m\u001b[43m,\u001b[49m\u001b[43m \u001b[49m\u001b[43mmembers\u001b[49m\u001b[43m[\u001b[49m\u001b[43mmember\u001b[49m\u001b[43m]\u001b[49m\u001b[43m,\u001b[49m\u001b[43m \u001b[49m\u001b[43mmember\u001b[49m\u001b[43m,\u001b[49m\u001b[43m \u001b[49m\u001b[43mapp_id\u001b[49m\u001b[43m,\u001b[49m\u001b[43m \u001b[49m\u001b[43midx_coin\u001b[49m\u001b[43m)\u001b[49m \u001b[38;5;28;01mfor\u001b[39;00m member \u001b[38;5;129;01min\u001b[39;00m \u001b[38;5;28mdict\u001b[39m(itertools\u001b[38;5;241m.\u001b[39mislice(members\u001b[38;5;241m.\u001b[39mitems(), \u001b[38;5;241m0\u001b[39m, \u001b[38;5;241m1\u001b[39m)) ]\n",
      "Cell \u001b[0;32mIn[102], line 47\u001b[0m, in \u001b[0;36mmember_vote\u001b[0;34m(association, member, member_name, app_id, idx_coin)\u001b[0m\n\u001b[1;32m     43\u001b[0m stxn_2 \u001b[38;5;241m=\u001b[39m txn_2\u001b[38;5;241m.\u001b[39msign(member[\u001b[38;5;124m'\u001b[39m\u001b[38;5;124mprivate\u001b[39m\u001b[38;5;124m'\u001b[39m])\n\u001b[1;32m     45\u001b[0m \u001b[38;5;66;03m##########\u001b[39;00m\n\u001b[1;32m     46\u001b[0m \u001b[38;5;66;03m# Step 4: send\u001b[39;00m\n\u001b[0;32m---> 47\u001b[0m txid \u001b[38;5;241m=\u001b[39m \u001b[43malgod_client\u001b[49m\u001b[38;5;241;43m.\u001b[39;49m\u001b[43msend_transactions\u001b[49m\u001b[43m(\u001b[49m\u001b[43m[\u001b[49m\u001b[43mstxn_1\u001b[49m\u001b[43m,\u001b[49m\u001b[43m \u001b[49m\u001b[43mstxn_2\u001b[49m\u001b[43m]\u001b[49m\u001b[43m)\u001b[49m\n\u001b[1;32m     49\u001b[0m \u001b[38;5;66;03m##########\u001b[39;00m\n\u001b[1;32m     50\u001b[0m \u001b[38;5;66;03m# Step 5: wait for condfirmation\u001b[39;00m\n\u001b[1;32m     51\u001b[0m txinfo \u001b[38;5;241m=\u001b[39m wait_for_confirmation(algod_client, txid)\n",
      "File \u001b[0;32m~/anaconda3/lib/python3.11/site-packages/algosdk/v2client/algod.py:430\u001b[0m, in \u001b[0;36mAlgodClient.send_transactions\u001b[0;34m(self, txns, **kwargs)\u001b[0m\n\u001b[1;32m    426\u001b[0m     \u001b[38;5;28;01massert\u001b[39;00m \u001b[38;5;129;01mnot\u001b[39;00m \u001b[38;5;28misinstance\u001b[39m(\n\u001b[1;32m    427\u001b[0m         txn, transaction\u001b[38;5;241m.\u001b[39mTransaction\n\u001b[1;32m    428\u001b[0m     ), \u001b[38;5;124m\"\u001b[39m\u001b[38;5;124mAttempt to send UNSIGNED transaction \u001b[39m\u001b[38;5;132;01m{}\u001b[39;00m\u001b[38;5;124m\"\u001b[39m\u001b[38;5;241m.\u001b[39mformat(txn)\n\u001b[1;32m    429\u001b[0m     serialized\u001b[38;5;241m.\u001b[39mappend(base64\u001b[38;5;241m.\u001b[39mb64decode(encoding\u001b[38;5;241m.\u001b[39mmsgpack_encode(txn)))\n\u001b[0;32m--> 430\u001b[0m \u001b[38;5;28;01mreturn\u001b[39;00m \u001b[38;5;28;43mself\u001b[39;49m\u001b[38;5;241;43m.\u001b[39;49m\u001b[43msend_raw_transaction\u001b[49m\u001b[43m(\u001b[49m\n\u001b[1;32m    431\u001b[0m \u001b[43m    \u001b[49m\u001b[43mbase64\u001b[49m\u001b[38;5;241;43m.\u001b[39;49m\u001b[43mb64encode\u001b[49m\u001b[43m(\u001b[49m\u001b[38;5;124;43mb\u001b[39;49m\u001b[38;5;124;43m\"\u001b[39;49m\u001b[38;5;124;43m\"\u001b[39;49m\u001b[38;5;241;43m.\u001b[39;49m\u001b[43mjoin\u001b[49m\u001b[43m(\u001b[49m\u001b[43mserialized\u001b[49m\u001b[43m)\u001b[49m\u001b[43m)\u001b[49m\u001b[43m,\u001b[49m\u001b[43m \u001b[49m\u001b[38;5;241;43m*\u001b[39;49m\u001b[38;5;241;43m*\u001b[39;49m\u001b[43mkwargs\u001b[49m\n\u001b[1;32m    432\u001b[0m \u001b[43m\u001b[49m\u001b[43m)\u001b[49m\n",
      "File \u001b[0;32m~/anaconda3/lib/python3.11/site-packages/algosdk/v2client/algod.py:358\u001b[0m, in \u001b[0;36mAlgodClient.send_raw_transaction\u001b[0;34m(self, txn, **kwargs)\u001b[0m\n\u001b[1;32m    352\u001b[0m headers \u001b[38;5;241m=\u001b[39m util\u001b[38;5;241m.\u001b[39mbuild_headers_from(\n\u001b[1;32m    353\u001b[0m     kwargs\u001b[38;5;241m.\u001b[39mget(\u001b[38;5;124m\"\u001b[39m\u001b[38;5;124mheaders\u001b[39m\u001b[38;5;124m\"\u001b[39m, \u001b[38;5;28;01mFalse\u001b[39;00m),\n\u001b[1;32m    354\u001b[0m     {\u001b[38;5;124m\"\u001b[39m\u001b[38;5;124mContent-Type\u001b[39m\u001b[38;5;124m\"\u001b[39m: \u001b[38;5;124m\"\u001b[39m\u001b[38;5;124mapplication/x-binary\u001b[39m\u001b[38;5;124m\"\u001b[39m},\n\u001b[1;32m    355\u001b[0m )\n\u001b[1;32m    356\u001b[0m kwargs[\u001b[38;5;124m\"\u001b[39m\u001b[38;5;124mheaders\u001b[39m\u001b[38;5;124m\"\u001b[39m] \u001b[38;5;241m=\u001b[39m headers\n\u001b[0;32m--> 358\u001b[0m resp \u001b[38;5;241m=\u001b[39m \u001b[38;5;28;43mself\u001b[39;49m\u001b[38;5;241;43m.\u001b[39;49m\u001b[43malgod_request\u001b[49m\u001b[43m(\u001b[49m\u001b[38;5;124;43m\"\u001b[39;49m\u001b[38;5;124;43mPOST\u001b[39;49m\u001b[38;5;124;43m\"\u001b[39;49m\u001b[43m,\u001b[49m\u001b[43m \u001b[49m\u001b[43mreq\u001b[49m\u001b[43m,\u001b[49m\u001b[43m \u001b[49m\u001b[43mdata\u001b[49m\u001b[38;5;241;43m=\u001b[39;49m\u001b[43mtxn_bytes\u001b[49m\u001b[43m,\u001b[49m\u001b[43m \u001b[49m\u001b[38;5;241;43m*\u001b[39;49m\u001b[38;5;241;43m*\u001b[39;49m\u001b[43mkwargs\u001b[49m\u001b[43m)\u001b[49m\n\u001b[1;32m    359\u001b[0m \u001b[38;5;28;01mreturn\u001b[39;00m cast(\u001b[38;5;28mstr\u001b[39m, cast(\u001b[38;5;28mdict\u001b[39m, resp)[\u001b[38;5;124m\"\u001b[39m\u001b[38;5;124mtxId\u001b[39m\u001b[38;5;124m\"\u001b[39m])\n",
      "File \u001b[0;32m~/anaconda3/lib/python3.11/site-packages/algosdk/v2client/algod.py:111\u001b[0m, in \u001b[0;36mAlgodClient.algod_request\u001b[0;34m(self, method, requrl, params, data, headers, response_format)\u001b[0m\n\u001b[1;32m    109\u001b[0m         e \u001b[38;5;241m=\u001b[39m json\u001b[38;5;241m.\u001b[39mloads(es)[\u001b[38;5;124m\"\u001b[39m\u001b[38;5;124mmessage\u001b[39m\u001b[38;5;124m\"\u001b[39m]\n\u001b[1;32m    110\u001b[0m     \u001b[38;5;28;01mfinally\u001b[39;00m:\n\u001b[0;32m--> 111\u001b[0m         \u001b[38;5;28;01mraise\u001b[39;00m error\u001b[38;5;241m.\u001b[39mAlgodHTTPError(e, code)\n\u001b[1;32m    112\u001b[0m \u001b[38;5;28;01mif\u001b[39;00m response_format \u001b[38;5;241m==\u001b[39m \u001b[38;5;124m\"\u001b[39m\u001b[38;5;124mjson\u001b[39m\u001b[38;5;124m\"\u001b[39m:\n\u001b[1;32m    113\u001b[0m     \u001b[38;5;28;01mtry\u001b[39;00m:\n",
      "\u001b[0;31mAlgodHTTPError\u001b[0m: TransactionPool.Remember: transaction SZBBOWKZAJ7WCIYIXC4XY5SML22IFFS2UWSP5RG7Q65TDSTTON5A: underflow on subtracting 1 from sender amount 0"
     ]
    }
   ],
   "source": [
    "import itertools\n",
    "\n",
    "# loop through the member and issue a vote\n",
    "[ member_vote(usiv, members[member], member, app_id, idx_coin) for member in dict(itertools.islice(members.items(), 0, 1)) ];"
   ]
  },
  {
   "cell_type": "markdown",
   "metadata": {},
   "source": [
    "#### Step 5: Leave the contract after voting"
   ]
  },
  {
   "cell_type": "code",
   "execution_count": 106,
   "metadata": {},
   "outputs": [],
   "source": [
    "def member_optout(member, member_name, app_id):\n",
    "    \"\"\"\n",
    "        Optout from the contract after voting\n",
    "    \"\"\"\n",
    "\n",
    "    # Step 1: prepare transaction\n",
    "    sp = algod_client.suggested_params()\n",
    "    txn = transaction.ApplicationCloseOutTxn(member['public'], sp, app_id)\n",
    "\n",
    "    # Step 2: sign\n",
    "    stxn = txn.sign(member['private'])\n",
    "\n",
    "    # Step 3: send\n",
    "    txid = algod_client.send_transactions([stxn])\n",
    "\n",
    "    # Step 4: wait for condfirmation\n",
    "    txinfo = wait_for_confirmation(algod_client, txid)\n",
    "\n",
    "    # Log\n",
    "    print(f\"The member '{member_name}' has opt-out from the contract: {app_id}\")"
   ]
  },
  {
   "cell_type": "code",
   "execution_count": 107,
   "metadata": {},
   "outputs": [
    {
     "name": "stdout",
     "output_type": "stream",
     "text": [
      "Current round is  41169031.\n",
      "Waiting for round 41169031 to finish.\n",
      "Waiting for round 41169032 to finish.\n",
      "Transaction ZO45GSPLVNE5E6UT74MXBWHTRAXTCLWEX5Y3ULPZD4VQ7F6KRUJA confirmed in round 41169033.\n",
      "The member 'Murphy' has opt-out from the contract: 685799166\n",
      "Current round is  41169033.\n",
      "Waiting for round 41169033 to finish.\n",
      "Waiting for round 41169034 to finish.\n",
      "Transaction SYENY7NTRARLTSMMAOGETENTONJL4UTOJ7Z4VU4PYIHVLFKVXOLA confirmed in round 41169035.\n",
      "The member 'Shaffer' has opt-out from the contract: 685799166\n",
      "Current round is  41169035.\n",
      "Waiting for round 41169035 to finish.\n",
      "Waiting for round 41169036 to finish.\n",
      "Transaction I4SMUGBVD5E2YXMQRZ3WZQ5SXA7DITKFFG5IH6PXFAR2Z5WUFKUA confirmed in round 41169037.\n",
      "The member 'Beck' has opt-out from the contract: 685799166\n",
      "Current round is  41169037.\n",
      "Waiting for round 41169037 to finish.\n",
      "Waiting for round 41169038 to finish.\n",
      "Transaction GXDIDLZKG4G6MWYUDQPGCQQYBL4KHIVJVMZ2W6SGOU5ZJF5TGJQA confirmed in round 41169039.\n",
      "The member 'Smith' has opt-out from the contract: 685799166\n",
      "Current round is  41169039.\n",
      "Waiting for round 41169039 to finish.\n",
      "Waiting for round 41169040 to finish.\n",
      "Transaction KFCGNQGA6CUB4RAT32VHOUEWQBZBMC5RVW2IDTHGRIP5FFYBCGJA confirmed in round 41169041.\n",
      "The member 'Gibson' has opt-out from the contract: 685799166\n",
      "Current round is  41169041.\n",
      "Waiting for round 41169041 to finish.\n",
      "Waiting for round 41169042 to finish.\n",
      "Transaction L5M5B3NAL7GMWBLDRJ2J64QAEM5DLQOHMTEYHBLNYXYHQKXISHUA confirmed in round 41169043.\n",
      "The member 'Duncan' has opt-out from the contract: 685799166\n",
      "Current round is  41169043.\n",
      "Waiting for round 41169043 to finish.\n",
      "Waiting for round 41169044 to finish.\n",
      "Transaction NYJ4JP2M44FKX2FRSCBIS73WIRZTNHYJ5UYJ2WGWEQDFPZQXSCSQ confirmed in round 41169045.\n",
      "The member 'Powers' has opt-out from the contract: 685799166\n",
      "Current round is  41169045.\n",
      "Waiting for round 41169045 to finish.\n",
      "Waiting for round 41169046 to finish.\n",
      "Transaction JEB5U3D6XFBBLGOE27E7R2EYYTISKFM2BISVRO4ES4LNYZIBMDUQ confirmed in round 41169047.\n",
      "The member 'Jordan' has opt-out from the contract: 685799166\n",
      "Current round is  41169047.\n",
      "Waiting for round 41169047 to finish.\n",
      "Waiting for round 41169048 to finish.\n",
      "Transaction 7W5M2YY3T7AAE5DZBCCRJL74TRBYYOCFV5JCO3HAM527H4SKVFDA confirmed in round 41169049.\n",
      "The member 'Atkins' has opt-out from the contract: 685799166\n",
      "Current round is  41169049.\n",
      "Waiting for round 41169049 to finish.\n",
      "Waiting for round 41169050 to finish.\n",
      "Transaction ZAQ7BHENCI7IYTZMRK6NWZK4WCGTD5ASSHD2GP5ORUWQQKZDZKMQ confirmed in round 41169051.\n",
      "The member 'Carr' has opt-out from the contract: 685799166\n",
      "Current round is  41169051.\n",
      "Waiting for round 41169051 to finish.\n",
      "Waiting for round 41169052 to finish.\n",
      "Transaction X4WGKMXGYZJS4IYC4EOP7CKZBPX7LDAKTC27SORVEKN27ETAUUJA confirmed in round 41169053.\n",
      "The member 'Pacheco' has opt-out from the contract: 685799166\n",
      "Current round is  41169053.\n",
      "Waiting for round 41169053 to finish.\n",
      "Waiting for round 41169054 to finish.\n",
      "Transaction Y7ATWDTIUZQKGG5IXZELRSKNFLRRK3KCULQ4RGS7ZHTU6RFLXJZA confirmed in round 41169055.\n",
      "The member 'Hanson' has opt-out from the contract: 685799166\n",
      "Current round is  41169055.\n",
      "Waiting for round 41169055 to finish.\n",
      "Waiting for round 41169056 to finish.\n",
      "Transaction AV3ULEJ54YNYFTAF5VZCCFFGKODLSIPPHUZ3IXDQ2BFTXESOSWXQ confirmed in round 41169057.\n",
      "The member 'Diaz' has opt-out from the contract: 685799166\n",
      "Current round is  41169057.\n",
      "Waiting for round 41169057 to finish.\n",
      "Waiting for round 41169058 to finish.\n",
      "Transaction N3SHT2WGWLI2QST5PUHSA7K3Z35SHW4FHRO7MGAYRFMJSTELQUNA confirmed in round 41169059.\n",
      "The member 'Williams' has opt-out from the contract: 685799166\n",
      "Current round is  41169059.\n",
      "Waiting for round 41169059 to finish.\n",
      "Waiting for round 41169060 to finish.\n",
      "Transaction JKXEDSU2HOP6FGYLXR4NDI6A3CV4LL6PRDZ575FQJK4N4VUO3WZQ confirmed in round 41169061.\n",
      "The member 'Wright' has opt-out from the contract: 685799166\n",
      "Current round is  41169061.\n",
      "Waiting for round 41169061 to finish.\n",
      "Waiting for round 41169062 to finish.\n",
      "Transaction PS4DD2PDJP3BZFVRHXF3RTKTOCQLBSI33UCTODKSMBMMXNK77DBA confirmed in round 41169063.\n",
      "The member 'Harris' has opt-out from the contract: 685799166\n",
      "Current round is  41169063.\n",
      "Waiting for round 41169063 to finish.\n",
      "Waiting for round 41169064 to finish.\n",
      "Transaction N7AFD32Y37GHS45C6HSIYGLWND2UTTMB63IUWEBCRXZMOJCD3UVQ confirmed in round 41169065.\n",
      "The member 'Valdez' has opt-out from the contract: 685799166\n",
      "Current round is  41169065.\n",
      "Waiting for round 41169065 to finish.\n",
      "Waiting for round 41169066 to finish.\n",
      "Transaction NFJKGKYZMR3A7W3HQFRKKGR3UEIMYMRHNFW226LB3WUC2YCHT7HA confirmed in round 41169067.\n",
      "The member 'Davidson' has opt-out from the contract: 685799166\n",
      "Current round is  41169067.\n",
      "Waiting for round 41169067 to finish.\n",
      "Waiting for round 41169068 to finish.\n",
      "Transaction WVQHAOKMLC3B65XGEQDVUK2P3K2VGCINEWWZQGLSZDVYU6KOT6XA confirmed in round 41169069.\n",
      "The member 'Stewart' has opt-out from the contract: 685799166\n",
      "Current round is  41169069.\n",
      "Waiting for round 41169069 to finish.\n",
      "Waiting for round 41169070 to finish.\n",
      "Transaction HQRG2MWG47CP3W2CP2QZMXPWPXJX4PH6XDURUWZUS2SIXM5J6APQ confirmed in round 41169071.\n",
      "The member 'Bell' has opt-out from the contract: 685799166\n",
      "Current round is  41169071.\n",
      "Waiting for round 41169071 to finish.\n",
      "Waiting for round 41169072 to finish.\n",
      "Transaction 7CBZ2QLO7EA2QIMLXMJTGMQDZEJKOLT2S7TJFKZVBNDCDHJHITHA confirmed in round 41169073.\n",
      "The member 'MD' has opt-out from the contract: 685799166\n",
      "Current round is  41169073.\n",
      "Waiting for round 41169073 to finish.\n",
      "Waiting for round 41169074 to finish.\n",
      "Transaction TBMSRJL7G6TQRXVTUBP5WCUT2NVSU56LOGSIWZX55PU624AYXAAQ confirmed in round 41169075.\n",
      "The member 'Moore' has opt-out from the contract: 685799166\n",
      "Current round is  41169075.\n",
      "Waiting for round 41169075 to finish.\n",
      "Waiting for round 41169076 to finish.\n",
      "Transaction 3NOTNETHOGLM6U6R7MBYGPYPRVMCUY5DIHC36UD6BK5YH4C24WXQ confirmed in round 41169077.\n",
      "The member 'Thomas' has opt-out from the contract: 685799166\n",
      "Current round is  41169077.\n",
      "Waiting for round 41169077 to finish.\n",
      "Waiting for round 41169078 to finish.\n",
      "Transaction AYQHGC6OJZGIXFPWNURCMVQPMS6RDL4H6DFO76F7OCIRIZZ6WHBA confirmed in round 41169079.\n",
      "The member 'Jackson' has opt-out from the contract: 685799166\n",
      "Current round is  41169079.\n",
      "Waiting for round 41169079 to finish.\n",
      "Waiting for round 41169080 to finish.\n",
      "Transaction LT4KMRKXFKH6UFCXMWJJXRZESM5DM5ME7ZG2AUPYRLTMAIN5I5JA confirmed in round 41169081.\n",
      "The member 'Fry' has opt-out from the contract: 685799166\n",
      "Current round is  41169081.\n",
      "Waiting for round 41169081 to finish.\n",
      "Waiting for round 41169082 to finish.\n",
      "Transaction QXML5R2VZROGO6OLVSZCF24DLY2QQ2F4IBAVCW3425ET3UR5575Q confirmed in round 41169083.\n",
      "The member 'Patel' has opt-out from the contract: 685799166\n",
      "Current round is  41169083.\n",
      "Waiting for round 41169083 to finish.\n",
      "Waiting for round 41169084 to finish.\n",
      "Transaction RQVAS4QKC5BUJZKNC3BJCGKZQANKFGHMW5RTXKIHCHLBJV44UFKQ confirmed in round 41169085.\n",
      "The member 'Fields' has opt-out from the contract: 685799166\n",
      "Current round is  41169085.\n",
      "Waiting for round 41169085 to finish.\n",
      "Waiting for round 41169086 to finish.\n",
      "Transaction VGJR6TFEUIL62ZRE3PE7DII2JO7FQOSRGD6N43WOFXRM6AXDWRUA confirmed in round 41169087.\n",
      "The member 'Wong' has opt-out from the contract: 685799166\n",
      "Current round is  41169087.\n",
      "Waiting for round 41169087 to finish.\n",
      "Waiting for round 41169088 to finish.\n",
      "Transaction A4ABIJN44HWGAWM4VPOMR3COXUBBJPBBJOF27Y34R7K7QO7QZLQA confirmed in round 41169089.\n",
      "The member 'Bender' has opt-out from the contract: 685799166\n",
      "Current round is  41169089.\n",
      "Waiting for round 41169089 to finish.\n",
      "Waiting for round 41169090 to finish.\n",
      "Transaction FATYTIX7DSRHWA4SO5JKPYG24HQBMRWTHCIOK5DCICXUIKGRYKPA confirmed in round 41169091.\n",
      "The member 'Hobbs' has opt-out from the contract: 685799166\n",
      "Current round is  41169091.\n",
      "Waiting for round 41169091 to finish.\n",
      "Waiting for round 41169092 to finish.\n",
      "Transaction S2VEF6R4AAF5EG4OOHE3HINXJT45DK2HHGC6AX5WNJ6E44EUWGRA confirmed in round 41169093.\n",
      "The member 'Winters' has opt-out from the contract: 685799166\n",
      "Current round is  41169093.\n",
      "Waiting for round 41169093 to finish.\n",
      "Waiting for round 41169094 to finish.\n",
      "Transaction 6SLXV7PYT3UE7LUFTADH3EON5BTOVADMYYKB6D2DXZUZKBBSOWHA confirmed in round 41169095.\n",
      "The member 'Wilkinson' has opt-out from the contract: 685799166\n"
     ]
    }
   ],
   "source": [
    "import itertools\n",
    "\n",
    "# loop through the member and issue a vote\n",
    "[ member_optout(members[member], member, app_id) for member in dict(itertools.islice(members.items(), 0, 32)) ];"
   ]
  },
  {
   "cell_type": "markdown",
   "metadata": {},
   "source": [
    "#### Check again the senate account for balance"
   ]
  },
  {
   "cell_type": "code",
   "execution_count": 108,
   "metadata": {},
   "outputs": [
    {
     "name": "stdout",
     "output_type": "stream",
     "text": [
      "The academic senate account has 1000 USIV coins\n"
     ]
    }
   ],
   "source": [
    "print(f'The academic senate account has {algod_client.account_info(usiv[\"public\"])[\"assets\"][1][\"amount\"]} USIV coins') "
   ]
  },
  {
   "cell_type": "code",
   "execution_count": null,
   "metadata": {},
   "outputs": [],
   "source": []
  },
  {
   "cell_type": "code",
   "execution_count": null,
   "metadata": {},
   "outputs": [],
   "source": []
  },
  {
   "cell_type": "code",
   "execution_count": null,
   "metadata": {},
   "outputs": [],
   "source": []
  },
  {
   "cell_type": "code",
   "execution_count": null,
   "metadata": {},
   "outputs": [],
   "source": []
  },
  {
   "cell_type": "code",
   "execution_count": null,
   "metadata": {},
   "outputs": [],
   "source": []
  },
  {
   "cell_type": "code",
   "execution_count": null,
   "metadata": {},
   "outputs": [],
   "source": []
  }
 ],
 "metadata": {
  "interpreter": {
   "hash": "6ab3cfc1a08079cd9e58bb08cbd6561c62cd7d0068dc1f2faebcef76d1292611"
  },
  "kernelspec": {
   "display_name": "Python 3.10.4 ('algorand-wsc')",
   "language": "python",
   "name": "python3"
  },
  "language_info": {
   "codemirror_mode": {
    "name": "ipython",
    "version": 3
   },
   "file_extension": ".py",
   "mimetype": "text/x-python",
   "name": "python",
   "nbconvert_exporter": "python",
   "pygments_lexer": "ipython3",
   "version": "3.11.4"
  }
 },
 "nbformat": 4,
 "nbformat_minor": 4
}
